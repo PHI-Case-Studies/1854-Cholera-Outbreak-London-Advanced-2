{
 "cells": [
  {
   "cell_type": "code",
   "execution_count": 58,
   "metadata": {},
   "outputs": [],
   "source": [
    "%run resources/library.py"
   ]
  },
  {
   "cell_type": "code",
   "execution_count": 59,
   "metadata": {},
   "outputs": [
    {
     "data": {
      "text/html": [
       "<style> \n",
       "div.text_cell_render { /* Customize text cells */ \n",
       "    font-family: 'Arial'; \n",
       "    font-size:20px;\n",
       "    line-height: 1.5em;\n",
       "    padding-left:3em; \n",
       "    padding-right:3em; \n",
       "}\n",
       ".CodeMirror {\n",
       "    font-family:  'Source Code Pro', monospace;\n",
       "    font-size: 18px;\n",
       "}\n",
       "\n",
       "/* Cell output */\n",
       "\n",
       ".rendered_html pre, .rendered_html code {\n",
       "    color: inherit !important;\n",
       "    background-color: inherit !important;\n",
       "}\n",
       "div.output_area pre {\n",
       "    line-height: 1.2em;\n",
       "    color: #93a1a1 !important;\n",
       "    font-family: 'Source Code Pro', monospace;\n",
       "    font-size: 16px;\n",
       "}\n",
       ".rendered_html table, .rendered_html td, .rendered_html th {\n",
       "    border: 1px solid #586e75 !important;\n",
       "    font-family: 'Arial';\n",
       "    font-size: 16px;\n",
       "}\n",
       "</style>"
      ],
      "text/plain": [
       "<IPython.core.display.HTML object>"
      ]
     },
     "execution_count": 59,
     "metadata": {},
     "output_type": "execute_result"
    }
   ],
   "source": [
    "style_notebook()"
   ]
  },
  {
   "cell_type": "markdown",
   "metadata": {},
   "source": [
    "# Notebook 6: Counting OSMNx Building Footprints in Voronoi Cells"
   ]
  },
  {
   "cell_type": "code",
   "execution_count": 60,
   "metadata": {},
   "outputs": [
    {
     "data": {
      "text/plain": [
       "'0.10'"
      ]
     },
     "execution_count": 60,
     "metadata": {},
     "output_type": "execute_result"
    }
   ],
   "source": [
    "import osmnx as ox\n",
    "\n",
    "ox.__version__"
   ]
  },
  {
   "cell_type": "markdown",
   "metadata": {},
   "source": [
    "## Using OSMNx footprints feature"
   ]
  },
  {
   "cell_type": "markdown",
   "metadata": {},
   "source": [
    "Let's assume for a while that most 1854 buildings in Soho district still have intact footprints."
   ]
  },
  {
   "cell_type": "code",
   "execution_count": 80,
   "metadata": {},
   "outputs": [],
   "source": [
    "SOHO_COORDINATES = (51.513578, -0.136722)"
   ]
  },
  {
   "cell_type": "code",
   "execution_count": 81,
   "metadata": {},
   "outputs": [],
   "source": [
    "distance = 700\n",
    "footprints_gdf = \\\n",
    "    ox.footprints.footprints_from_point(SOHO_COORDINATES, distance, \\\n",
    "                footprint_type='building', retain_invalid=False)"
   ]
  },
  {
   "cell_type": "code",
   "execution_count": 82,
   "metadata": {},
   "outputs": [
    {
     "data": {
      "text/plain": [
       "4372002     POLYGON ((-0.1278493 51.5092508, -0.1284233 51...\n",
       "10811256    POLYGON ((-0.1440521 51.5186547, -0.1440056 51...\n",
       "26706806    POLYGON ((-0.1421522 51.5069798, -0.1413182 51...\n",
       "27922125    POLYGON ((-0.1431039 51.5183198, -0.1430695 51...\n",
       "28416536    POLYGON ((-0.1282499 51.5177264, -0.1282245 51...\n",
       "Name: geometry, dtype: object"
      ]
     },
     "execution_count": 82,
     "metadata": {},
     "output_type": "execute_result"
    }
   ],
   "source": [
    "footprints_gdf['geometry'].head()"
   ]
  },
  {
   "cell_type": "code",
   "execution_count": 83,
   "metadata": {},
   "outputs": [
    {
     "data": {
      "text/plain": [
       "4372002     POINT (-0.1289072363583148 51.50886878638756)\n",
       "10811256    POINT (-0.1434931157229443 51.51881326478711)\n",
       "26706806    POINT (-0.1415586528205127 51.50698866859691)\n",
       "27922125    POINT (-0.1430414183760202 51.51815446703645)\n",
       "28416536    POINT (-0.1280845786505088 51.51791088165614)\n",
       "dtype: object"
      ]
     },
     "execution_count": 83,
     "metadata": {},
     "output_type": "execute_result"
    }
   ],
   "source": [
    "footprints_gdf['geometry'].centroid.head()"
   ]
  },
  {
   "cell_type": "code",
   "execution_count": 84,
   "metadata": {},
   "outputs": [
    {
     "data": {
      "text/plain": [
       "'0.5.1'"
      ]
     },
     "execution_count": 84,
     "metadata": {},
     "output_type": "execute_result"
    }
   ],
   "source": [
    "import geopandas as gpd\n",
    "\n",
    "gpd.__version__"
   ]
  },
  {
   "cell_type": "markdown",
   "metadata": {},
   "source": [
    "## Creating a geodataframe of footprint centroids"
   ]
  },
  {
   "cell_type": "markdown",
   "metadata": {},
   "source": [
    "The footprint feature of OSMNx allows you to plot polygons of buildings. But to determine of buildings are in voronoi cells, we need to identify buildings by the centroid of polygon vertices. Fortunately, `geometry` columns in Geopandas are native `shapely` objects. We can get polygon centroids by the attribute `centroid`."
   ]
  },
  {
   "cell_type": "code",
   "execution_count": 85,
   "metadata": {},
   "outputs": [
    {
     "data": {
      "text/html": [
       "<div>\n",
       "<style scoped>\n",
       "    .dataframe tbody tr th:only-of-type {\n",
       "        vertical-align: middle;\n",
       "    }\n",
       "\n",
       "    .dataframe tbody tr th {\n",
       "        vertical-align: top;\n",
       "    }\n",
       "\n",
       "    .dataframe thead th {\n",
       "        text-align: right;\n",
       "    }\n",
       "</style>\n",
       "<table border=\"1\" class=\"dataframe\">\n",
       "  <thead>\n",
       "    <tr style=\"text-align: right;\">\n",
       "      <th></th>\n",
       "      <th>geometry</th>\n",
       "    </tr>\n",
       "  </thead>\n",
       "  <tbody>\n",
       "    <tr>\n",
       "      <th>4372002</th>\n",
       "      <td>POINT (-0.1289072363583148 51.50886878638756)</td>\n",
       "    </tr>\n",
       "    <tr>\n",
       "      <th>10811256</th>\n",
       "      <td>POINT (-0.1434931157229443 51.51881326478711)</td>\n",
       "    </tr>\n",
       "    <tr>\n",
       "      <th>26706806</th>\n",
       "      <td>POINT (-0.1415586528205127 51.50698866859691)</td>\n",
       "    </tr>\n",
       "    <tr>\n",
       "      <th>27922125</th>\n",
       "      <td>POINT (-0.1430414183760202 51.51815446703645)</td>\n",
       "    </tr>\n",
       "    <tr>\n",
       "      <th>28416536</th>\n",
       "      <td>POINT (-0.1280845786505088 51.51791088165614)</td>\n",
       "    </tr>\n",
       "    <tr>\n",
       "      <th>28416571</th>\n",
       "      <td>POINT (-0.127818111335119 51.51750283174328)</td>\n",
       "    </tr>\n",
       "    <tr>\n",
       "      <th>30734422</th>\n",
       "      <td>POINT (-0.1266435168407795 51.50882032510657)</td>\n",
       "    </tr>\n",
       "    <tr>\n",
       "      <th>30734455</th>\n",
       "      <td>POINT (-0.1267574060639324 51.5082783317942)</td>\n",
       "    </tr>\n",
       "    <tr>\n",
       "      <th>31327771</th>\n",
       "      <td>POINT (-0.1283160706146249 51.50993014520074)</td>\n",
       "    </tr>\n",
       "    <tr>\n",
       "      <th>31467151</th>\n",
       "      <td>POINT (-0.1267499728296392 51.50899599217346)</td>\n",
       "    </tr>\n",
       "    <tr>\n",
       "      <th>31467228</th>\n",
       "      <td>POINT (-0.1264283902644183 51.50927436591335)</td>\n",
       "    </tr>\n",
       "    <tr>\n",
       "      <th>32919209</th>\n",
       "      <td>POINT (-0.1263145642079258 51.51046479959339)</td>\n",
       "    </tr>\n",
       "    <tr>\n",
       "      <th>32919259</th>\n",
       "      <td>POINT (-0.1301439390095505 51.509089061926)</td>\n",
       "    </tr>\n",
       "    <tr>\n",
       "      <th>32919260</th>\n",
       "      <td>POINT (-0.1310949688071529 51.50945926869301)</td>\n",
       "    </tr>\n",
       "    <tr>\n",
       "      <th>32919261</th>\n",
       "      <td>POINT (-0.1272900363288314 51.50973930475258)</td>\n",
       "    </tr>\n",
       "    <tr>\n",
       "      <th>33632838</th>\n",
       "      <td>POINT (-0.1366511387582964 51.51637140000716)</td>\n",
       "    </tr>\n",
       "    <tr>\n",
       "      <th>33719501</th>\n",
       "      <td>POINT (-0.1331361519055229 51.51067578708076)</td>\n",
       "    </tr>\n",
       "    <tr>\n",
       "      <th>34878209</th>\n",
       "      <td>POINT (-0.146804542792308 51.5161105656269)</td>\n",
       "    </tr>\n",
       "    <tr>\n",
       "      <th>37909796</th>\n",
       "      <td>POINT (-0.12697465617384 51.51944604630548)</td>\n",
       "    </tr>\n",
       "    <tr>\n",
       "      <th>38310265</th>\n",
       "      <td>POINT (-0.1427787519029661 51.51256165555016)</td>\n",
       "    </tr>\n",
       "    <tr>\n",
       "      <th>38319205</th>\n",
       "      <td>POINT (-0.1447874686679241 51.51311560738313)</td>\n",
       "    </tr>\n",
       "    <tr>\n",
       "      <th>38425099</th>\n",
       "      <td>POINT (-0.1423343673409637 51.50769177965137)</td>\n",
       "    </tr>\n",
       "    <tr>\n",
       "      <th>38425102</th>\n",
       "      <td>POINT (-0.1440943481639094 51.50830929902213)</td>\n",
       "    </tr>\n",
       "    <tr>\n",
       "      <th>38432589</th>\n",
       "      <td>POINT (-0.1413155361680853 51.51147964607264)</td>\n",
       "    </tr>\n",
       "    <tr>\n",
       "      <th>38446590</th>\n",
       "      <td>POINT (-0.1316677261244645 51.50718490718388)</td>\n",
       "    </tr>\n",
       "    <tr>\n",
       "      <th>40412564</th>\n",
       "      <td>POINT (-0.1275703485930818 51.51289160295718)</td>\n",
       "    </tr>\n",
       "    <tr>\n",
       "      <th>40463226</th>\n",
       "      <td>POINT (-0.129238259926745 51.5140535726922)</td>\n",
       "    </tr>\n",
       "    <tr>\n",
       "      <th>40463229</th>\n",
       "      <td>POINT (-0.1281994554921848 51.51422505791081)</td>\n",
       "    </tr>\n",
       "    <tr>\n",
       "      <th>40463230</th>\n",
       "      <td>POINT (-0.1275038127300336 51.51480894410145)</td>\n",
       "    </tr>\n",
       "    <tr>\n",
       "      <th>40463232</th>\n",
       "      <td>POINT (-0.1293025968332105 51.51498786504783)</td>\n",
       "    </tr>\n",
       "    <tr>\n",
       "      <th>...</th>\n",
       "      <td>...</td>\n",
       "    </tr>\n",
       "    <tr>\n",
       "      <th>675836594</th>\n",
       "      <td>POINT (-0.1330164679381711 51.50727626567591)</td>\n",
       "    </tr>\n",
       "    <tr>\n",
       "      <th>675836597</th>\n",
       "      <td>POINT (-0.1332496867414095 51.50747774070014)</td>\n",
       "    </tr>\n",
       "    <tr>\n",
       "      <th>177044</th>\n",
       "      <td>POINT (-0.1272169596287661 51.51936296706561)</td>\n",
       "    </tr>\n",
       "    <tr>\n",
       "      <th>1066124</th>\n",
       "      <td>POINT EMPTY</td>\n",
       "    </tr>\n",
       "    <tr>\n",
       "      <th>1155267</th>\n",
       "      <td>POINT (-0.1269748627393733 51.51942474756482)</td>\n",
       "    </tr>\n",
       "    <tr>\n",
       "      <th>1398196</th>\n",
       "      <td>POINT (-0.1366463998663767 51.51636502269852)</td>\n",
       "    </tr>\n",
       "    <tr>\n",
       "      <th>1398197</th>\n",
       "      <td>POINT (-0.1389956748097824 51.51602662342644)</td>\n",
       "    </tr>\n",
       "    <tr>\n",
       "      <th>1799219</th>\n",
       "      <td>POINT (-0.1333132018542357 51.51644954554143)</td>\n",
       "    </tr>\n",
       "    <tr>\n",
       "      <th>2005048</th>\n",
       "      <td>POINT (-0.1423286317430729 51.51714496932809)</td>\n",
       "    </tr>\n",
       "    <tr>\n",
       "      <th>2071332</th>\n",
       "      <td>POINT (-0.1317073941364242 51.50782125750387)</td>\n",
       "    </tr>\n",
       "    <tr>\n",
       "      <th>2071334</th>\n",
       "      <td>POINT (-0.1331719778554679 51.50851218087672)</td>\n",
       "    </tr>\n",
       "    <tr>\n",
       "      <th>2109607</th>\n",
       "      <td>POINT (-0.1287275327446365 51.51397781449976)</td>\n",
       "    </tr>\n",
       "    <tr>\n",
       "      <th>2135200</th>\n",
       "      <td>POINT (-0.135765212744999 51.51631483625793)</td>\n",
       "    </tr>\n",
       "    <tr>\n",
       "      <th>2834617</th>\n",
       "      <td>POINT (-0.1423092950385905 51.50905098121621)</td>\n",
       "    </tr>\n",
       "    <tr>\n",
       "      <th>3661213</th>\n",
       "      <td>POINT (-0.1336076114931452 51.51433423706371)</td>\n",
       "    </tr>\n",
       "    <tr>\n",
       "      <th>3848545</th>\n",
       "      <td>POINT (-0.1394675923021577 51.50903791568122)</td>\n",
       "    </tr>\n",
       "    <tr>\n",
       "      <th>3962876</th>\n",
       "      <td>POINT (-0.1384689460487162 51.50723829441774)</td>\n",
       "    </tr>\n",
       "    <tr>\n",
       "      <th>3962878</th>\n",
       "      <td>POINT (-0.139272778796587 51.50772491576253)</td>\n",
       "    </tr>\n",
       "    <tr>\n",
       "      <th>6020410</th>\n",
       "      <td>POINT (-0.130931811674325 51.51828024672123)</td>\n",
       "    </tr>\n",
       "    <tr>\n",
       "      <th>6294508</th>\n",
       "      <td>POINT (-0.1305094647687214 51.51789794319966)</td>\n",
       "    </tr>\n",
       "    <tr>\n",
       "      <th>6307832</th>\n",
       "      <td>POINT (-0.1316674841481169 51.51899466808729)</td>\n",
       "    </tr>\n",
       "    <tr>\n",
       "      <th>6310893</th>\n",
       "      <td>POINT (-0.1292785897107588 51.51791057165501)</td>\n",
       "    </tr>\n",
       "    <tr>\n",
       "      <th>6408420</th>\n",
       "      <td>POINT (-0.135995460270045 51.51853965806435)</td>\n",
       "    </tr>\n",
       "    <tr>\n",
       "      <th>7922578</th>\n",
       "      <td>POINT (-0.1283992071526598 51.50798611925961)</td>\n",
       "    </tr>\n",
       "    <tr>\n",
       "      <th>7922579</th>\n",
       "      <td>POINT (-0.1276945037734326 51.50809773520655)</td>\n",
       "    </tr>\n",
       "    <tr>\n",
       "      <th>8726036</th>\n",
       "      <td>POINT (-0.1432937578324465 51.50776901645917)</td>\n",
       "    </tr>\n",
       "    <tr>\n",
       "      <th>9167474</th>\n",
       "      <td>POINT (-0.1392766438915519 51.5201814727964)</td>\n",
       "    </tr>\n",
       "    <tr>\n",
       "      <th>9210429</th>\n",
       "      <td>POINT (-0.146081244118642 51.51631738963317)</td>\n",
       "    </tr>\n",
       "    <tr>\n",
       "      <th>9261429</th>\n",
       "      <td>POINT (-0.1438919874173151 51.5176698376853)</td>\n",
       "    </tr>\n",
       "    <tr>\n",
       "      <th>9261564</th>\n",
       "      <td>POINT (-0.1451343808557762 51.5177975402795)</td>\n",
       "    </tr>\n",
       "  </tbody>\n",
       "</table>\n",
       "<p>3721 rows × 1 columns</p>\n",
       "</div>"
      ],
      "text/plain": [
       "                                                geometry\n",
       "4372002    POINT (-0.1289072363583148 51.50886878638756)\n",
       "10811256   POINT (-0.1434931157229443 51.51881326478711)\n",
       "26706806   POINT (-0.1415586528205127 51.50698866859691)\n",
       "27922125   POINT (-0.1430414183760202 51.51815446703645)\n",
       "28416536   POINT (-0.1280845786505088 51.51791088165614)\n",
       "28416571    POINT (-0.127818111335119 51.51750283174328)\n",
       "30734422   POINT (-0.1266435168407795 51.50882032510657)\n",
       "30734455    POINT (-0.1267574060639324 51.5082783317942)\n",
       "31327771   POINT (-0.1283160706146249 51.50993014520074)\n",
       "31467151   POINT (-0.1267499728296392 51.50899599217346)\n",
       "31467228   POINT (-0.1264283902644183 51.50927436591335)\n",
       "32919209   POINT (-0.1263145642079258 51.51046479959339)\n",
       "32919259     POINT (-0.1301439390095505 51.509089061926)\n",
       "32919260   POINT (-0.1310949688071529 51.50945926869301)\n",
       "32919261   POINT (-0.1272900363288314 51.50973930475258)\n",
       "33632838   POINT (-0.1366511387582964 51.51637140000716)\n",
       "33719501   POINT (-0.1331361519055229 51.51067578708076)\n",
       "34878209     POINT (-0.146804542792308 51.5161105656269)\n",
       "37909796     POINT (-0.12697465617384 51.51944604630548)\n",
       "38310265   POINT (-0.1427787519029661 51.51256165555016)\n",
       "38319205   POINT (-0.1447874686679241 51.51311560738313)\n",
       "38425099   POINT (-0.1423343673409637 51.50769177965137)\n",
       "38425102   POINT (-0.1440943481639094 51.50830929902213)\n",
       "38432589   POINT (-0.1413155361680853 51.51147964607264)\n",
       "38446590   POINT (-0.1316677261244645 51.50718490718388)\n",
       "40412564   POINT (-0.1275703485930818 51.51289160295718)\n",
       "40463226     POINT (-0.129238259926745 51.5140535726922)\n",
       "40463229   POINT (-0.1281994554921848 51.51422505791081)\n",
       "40463230   POINT (-0.1275038127300336 51.51480894410145)\n",
       "40463232   POINT (-0.1293025968332105 51.51498786504783)\n",
       "...                                                  ...\n",
       "675836594  POINT (-0.1330164679381711 51.50727626567591)\n",
       "675836597  POINT (-0.1332496867414095 51.50747774070014)\n",
       "177044     POINT (-0.1272169596287661 51.51936296706561)\n",
       "1066124                                      POINT EMPTY\n",
       "1155267    POINT (-0.1269748627393733 51.51942474756482)\n",
       "1398196    POINT (-0.1366463998663767 51.51636502269852)\n",
       "1398197    POINT (-0.1389956748097824 51.51602662342644)\n",
       "1799219    POINT (-0.1333132018542357 51.51644954554143)\n",
       "2005048    POINT (-0.1423286317430729 51.51714496932809)\n",
       "2071332    POINT (-0.1317073941364242 51.50782125750387)\n",
       "2071334    POINT (-0.1331719778554679 51.50851218087672)\n",
       "2109607    POINT (-0.1287275327446365 51.51397781449976)\n",
       "2135200     POINT (-0.135765212744999 51.51631483625793)\n",
       "2834617    POINT (-0.1423092950385905 51.50905098121621)\n",
       "3661213    POINT (-0.1336076114931452 51.51433423706371)\n",
       "3848545    POINT (-0.1394675923021577 51.50903791568122)\n",
       "3962876    POINT (-0.1384689460487162 51.50723829441774)\n",
       "3962878     POINT (-0.139272778796587 51.50772491576253)\n",
       "6020410     POINT (-0.130931811674325 51.51828024672123)\n",
       "6294508    POINT (-0.1305094647687214 51.51789794319966)\n",
       "6307832    POINT (-0.1316674841481169 51.51899466808729)\n",
       "6310893    POINT (-0.1292785897107588 51.51791057165501)\n",
       "6408420     POINT (-0.135995460270045 51.51853965806435)\n",
       "7922578    POINT (-0.1283992071526598 51.50798611925961)\n",
       "7922579    POINT (-0.1276945037734326 51.50809773520655)\n",
       "8726036    POINT (-0.1432937578324465 51.50776901645917)\n",
       "9167474     POINT (-0.1392766438915519 51.5201814727964)\n",
       "9210429     POINT (-0.146081244118642 51.51631738963317)\n",
       "9261429     POINT (-0.1438919874173151 51.5176698376853)\n",
       "9261564     POINT (-0.1451343808557762 51.5177975402795)\n",
       "\n",
       "[3721 rows x 1 columns]"
      ]
     },
     "execution_count": 85,
     "metadata": {},
     "output_type": "execute_result"
    }
   ],
   "source": [
    "footprints_centroid_gdf = gpd.GeoDataFrame(geometry=footprints_gdf['geometry'].centroid)\n",
    "\n",
    "footprints_centroid_gdf"
   ]
  },
  {
   "cell_type": "markdown",
   "metadata": {},
   "source": [
    "## Reuse the code for identifying death locations within Voronoi cells"
   ]
  },
  {
   "cell_type": "code",
   "execution_count": 67,
   "metadata": {},
   "outputs": [],
   "source": [
    "# Read the data.\n",
    "polygons = gpd.GeoDataFrame.from_file('outputs/clipped_voronoi.shp')\n",
    "points = footprints_centroid_gdf\n",
    "\n",
    "# Make a copy because I'm going to drop points as I\n",
    "# assign them to polys, to speed up subsequent search.\n",
    "pts = points.copy() \n",
    "\n",
    "# We're going to keep a list of how many points we find.\n",
    "pts_in_polys = []\n",
    "\n",
    "# Loop over polygons with index i.\n",
    "for i, poly in polygons.iterrows():\n",
    "\n",
    "    # Keep a list of points in this poly\n",
    "    pts_in_this_poly = []\n",
    "\n",
    "    # Now loop over all points with index j.\n",
    "    for j, pt in pts.iterrows():\n",
    "        if poly.geometry.contains(pt.geometry):\n",
    "            # Then it's a hit! Add it to the list,\n",
    "            # and drop it so we have less hunting.\n",
    "            pts_in_this_poly.append(pt.geometry)\n",
    "            pts = pts.drop([j])\n",
    "\n",
    "    # We could do all sorts, like grab a property of the\n",
    "    # points, but let's just append the number of them.\n",
    "    pts_in_polys.append(len(pts_in_this_poly))\n",
    "\n",
    "# Add the number of points for each poly to the dataframe.\n",
    "polygons['points_in_voronoi'] = gpd.GeoSeries(pts_in_polys)"
   ]
  },
  {
   "cell_type": "markdown",
   "metadata": {},
   "source": [
    "What we have now is a geodataframe with the number of building centroids found in each Voronoi polygon."
   ]
  },
  {
   "cell_type": "code",
   "execution_count": 86,
   "metadata": {},
   "outputs": [
    {
     "data": {
      "text/html": [
       "<div>\n",
       "<style scoped>\n",
       "    .dataframe tbody tr th:only-of-type {\n",
       "        vertical-align: middle;\n",
       "    }\n",
       "\n",
       "    .dataframe tbody tr th {\n",
       "        vertical-align: top;\n",
       "    }\n",
       "\n",
       "    .dataframe thead th {\n",
       "        text-align: right;\n",
       "    }\n",
       "</style>\n",
       "<table border=\"1\" class=\"dataframe\">\n",
       "  <thead>\n",
       "    <tr style=\"text-align: right;\">\n",
       "      <th></th>\n",
       "      <th>vorpoint_lat</th>\n",
       "      <th>vorpoint_lon</th>\n",
       "      <th>FID</th>\n",
       "      <th>Street</th>\n",
       "      <th>geometry</th>\n",
       "      <th>points_in_voronoi</th>\n",
       "    </tr>\n",
       "  </thead>\n",
       "  <tbody>\n",
       "    <tr>\n",
       "      <th>0</th>\n",
       "      <td>51.513876</td>\n",
       "      <td>-0.139586</td>\n",
       "      <td>251</td>\n",
       "      <td>Kingly Street</td>\n",
       "      <td>POLYGON ((-0.1410574856914448 51.5114220613506...</td>\n",
       "      <td>177</td>\n",
       "    </tr>\n",
       "    <tr>\n",
       "      <th>1</th>\n",
       "      <td>51.511295</td>\n",
       "      <td>-0.138199</td>\n",
       "      <td>257</td>\n",
       "      <td>Warwick Street</td>\n",
       "      <td>POLYGON ((-0.1367728122831771 51.5087767672292...</td>\n",
       "      <td>141</td>\n",
       "    </tr>\n",
       "    <tr>\n",
       "      <th>2</th>\n",
       "      <td>51.514906</td>\n",
       "      <td>-0.139671</td>\n",
       "      <td>252</td>\n",
       "      <td>Ramillies Place</td>\n",
       "      <td>POLYGON ((-0.1419090932168653 51.5142027957054...</td>\n",
       "      <td>104</td>\n",
       "    </tr>\n",
       "    <tr>\n",
       "      <th>3</th>\n",
       "      <td>51.511542</td>\n",
       "      <td>-0.135919</td>\n",
       "      <td>255</td>\n",
       "      <td>Bridle Lane</td>\n",
       "      <td>POLYGON ((-0.1365516926565943 51.5087101756211...</td>\n",
       "      <td>102</td>\n",
       "    </tr>\n",
       "    <tr>\n",
       "      <th>4</th>\n",
       "      <td>51.513341</td>\n",
       "      <td>-0.136668</td>\n",
       "      <td>250</td>\n",
       "      <td>Broadwick Street</td>\n",
       "      <td>POLYGON ((-0.1363983824619002 51.5175220086050...</td>\n",
       "      <td>325</td>\n",
       "    </tr>\n",
       "    <tr>\n",
       "      <th>5</th>\n",
       "      <td>51.512139</td>\n",
       "      <td>-0.133594</td>\n",
       "      <td>254</td>\n",
       "      <td>Rupert Street</td>\n",
       "      <td>POLYGON ((-0.1332910681829834 51.5174454495886...</td>\n",
       "      <td>227</td>\n",
       "    </tr>\n",
       "    <tr>\n",
       "      <th>6</th>\n",
       "      <td>51.510019</td>\n",
       "      <td>-0.133962</td>\n",
       "      <td>256</td>\n",
       "      <td>Regent Street</td>\n",
       "      <td>POLYGON ((-0.1313808776576417 51.5097731958019...</td>\n",
       "      <td>59</td>\n",
       "    </tr>\n",
       "    <tr>\n",
       "      <th>7</th>\n",
       "      <td>51.512354</td>\n",
       "      <td>-0.131630</td>\n",
       "      <td>253</td>\n",
       "      <td>Dean Street</td>\n",
       "      <td>POLYGON ((-0.1300551818525016 51.5135868616314...</td>\n",
       "      <td>252</td>\n",
       "    </tr>\n",
       "  </tbody>\n",
       "</table>\n",
       "</div>"
      ],
      "text/plain": [
       "   vorpoint_lat  vorpoint_lon  FID            Street  \\\n",
       "0     51.513876     -0.139586  251     Kingly Street   \n",
       "1     51.511295     -0.138199  257    Warwick Street   \n",
       "2     51.514906     -0.139671  252   Ramillies Place   \n",
       "3     51.511542     -0.135919  255       Bridle Lane   \n",
       "4     51.513341     -0.136668  250  Broadwick Street   \n",
       "5     51.512139     -0.133594  254     Rupert Street   \n",
       "6     51.510019     -0.133962  256     Regent Street   \n",
       "7     51.512354     -0.131630  253       Dean Street   \n",
       "\n",
       "                                            geometry  points_in_voronoi  \n",
       "0  POLYGON ((-0.1410574856914448 51.5114220613506...                177  \n",
       "1  POLYGON ((-0.1367728122831771 51.5087767672292...                141  \n",
       "2  POLYGON ((-0.1419090932168653 51.5142027957054...                104  \n",
       "3  POLYGON ((-0.1365516926565943 51.5087101756211...                102  \n",
       "4  POLYGON ((-0.1363983824619002 51.5175220086050...                325  \n",
       "5  POLYGON ((-0.1332910681829834 51.5174454495886...                227  \n",
       "6  POLYGON ((-0.1313808776576417 51.5097731958019...                 59  \n",
       "7  POLYGON ((-0.1300551818525016 51.5135868616314...                252  "
      ]
     },
     "execution_count": 86,
     "metadata": {},
     "output_type": "execute_result"
    }
   ],
   "source": [
    "clipped_voronoi_buildings_gdf = \\\n",
    "    polygons.rename(columns={'vorpoint_l':'vorpoint_lat','vorpoint_1':'vorpoint_lon'})\n",
    "\n",
    "clipped_voronoi_buildings_gdf"
   ]
  },
  {
   "cell_type": "markdown",
   "metadata": {},
   "source": [
    "Let's save these to files."
   ]
  },
  {
   "cell_type": "code",
   "execution_count": 87,
   "metadata": {},
   "outputs": [],
   "source": [
    "clipped_voronoi_buildings_gdf.to_file('outputs/clipped_voronoi_buildings.shp')\n",
    "clipped_voronoi_buildings_gdf.to_file(\"outputs/clipped_voronoi_buildings_gdf.json\", \\\n",
    "                                      driver=\"GeoJSON\")"
   ]
  },
  {
   "cell_type": "markdown",
   "metadata": {},
   "source": [
    "## Create the barchart for buildings in Voronoi cells"
   ]
  },
  {
   "cell_type": "code",
   "execution_count": 88,
   "metadata": {},
   "outputs": [
    {
     "data": {
      "text/plain": [
       "'0.24.2'"
      ]
     },
     "execution_count": 88,
     "metadata": {},
     "output_type": "execute_result"
    }
   ],
   "source": [
    "import pandas as pd\n",
    "\n",
    "pd.__version__"
   ]
  },
  {
   "cell_type": "code",
   "execution_count": 89,
   "metadata": {},
   "outputs": [
    {
     "data": {
      "text/plain": [
       "Text(0.5, 0, 'Building Count')"
      ]
     },
     "execution_count": 89,
     "metadata": {},
     "output_type": "execute_result"
    },
    {
     "data": {
      "image/png": "[encoded data removed]",
      "text/plain": [
       "<Figure size 576x360 with 1 Axes>"
      ]
     },
     "metadata": {
      "needs_background": "light"
     },
     "output_type": "display_data"
    }
   ],
   "source": [
    "ax = pd.DataFrame(clipped_voronoi_buildings_gdf)\\\n",
    "    .plot.barh(y='points_in_voronoi', x='Street', color='k', figsize=(8,5))\n",
    "ax.set_title('Building Centroids in Voronoi Cells of Pumps (by Street Location)', \\\n",
    "             fontsize=16)\n",
    "ax.tick_params(axis = 'both', which = 'major', labelsize = 14)\n",
    "ax.set_ylabel('Voronoi Cell by Pump', fontsize=16)\n",
    "ax.set_xlabel('Building Count', \\\n",
    "              fontsize=16)"
   ]
  },
  {
   "cell_type": "markdown",
   "metadata": {},
   "source": [
    "## Merge the two geodataframes as Pandas dataframes with essential columns to plot two barcharts"
   ]
  },
  {
   "cell_type": "code",
   "execution_count": 91,
   "metadata": {},
   "outputs": [
    {
     "data": {
      "text/html": [
       "<div>\n",
       "<style scoped>\n",
       "    .dataframe tbody tr th:only-of-type {\n",
       "        vertical-align: middle;\n",
       "    }\n",
       "\n",
       "    .dataframe tbody tr th {\n",
       "        vertical-align: top;\n",
       "    }\n",
       "\n",
       "    .dataframe thead th {\n",
       "        text-align: right;\n",
       "    }\n",
       "</style>\n",
       "<table border=\"1\" class=\"dataframe\">\n",
       "  <thead>\n",
       "    <tr style=\"text-align: right;\">\n",
       "      <th></th>\n",
       "      <th>FID</th>\n",
       "      <th>death_locations</th>\n",
       "      <th>Street</th>\n",
       "    </tr>\n",
       "  </thead>\n",
       "  <tbody>\n",
       "    <tr>\n",
       "      <th>0</th>\n",
       "      <td>251</td>\n",
       "      <td>38</td>\n",
       "      <td>Kingly Street</td>\n",
       "    </tr>\n",
       "    <tr>\n",
       "      <th>1</th>\n",
       "      <td>257</td>\n",
       "      <td>12</td>\n",
       "      <td>Warwick Street</td>\n",
       "    </tr>\n",
       "    <tr>\n",
       "      <th>2</th>\n",
       "      <td>252</td>\n",
       "      <td>1</td>\n",
       "      <td>Ramillies Place</td>\n",
       "    </tr>\n",
       "    <tr>\n",
       "      <th>3</th>\n",
       "      <td>255</td>\n",
       "      <td>21</td>\n",
       "      <td>Bridle Lane</td>\n",
       "    </tr>\n",
       "    <tr>\n",
       "      <th>4</th>\n",
       "      <td>250</td>\n",
       "      <td>137</td>\n",
       "      <td>Broadwick Street</td>\n",
       "    </tr>\n",
       "    <tr>\n",
       "      <th>5</th>\n",
       "      <td>254</td>\n",
       "      <td>41</td>\n",
       "      <td>Rupert Street</td>\n",
       "    </tr>\n",
       "    <tr>\n",
       "      <th>6</th>\n",
       "      <td>256</td>\n",
       "      <td>0</td>\n",
       "      <td>Regent Street</td>\n",
       "    </tr>\n",
       "    <tr>\n",
       "      <th>7</th>\n",
       "      <td>253</td>\n",
       "      <td>0</td>\n",
       "      <td>Dean Street</td>\n",
       "    </tr>\n",
       "  </tbody>\n",
       "</table>\n",
       "</div>"
      ],
      "text/plain": [
       "   FID  death_locations            Street\n",
       "0  251               38     Kingly Street\n",
       "1  257               12    Warwick Street\n",
       "2  252                1   Ramillies Place\n",
       "3  255               21       Bridle Lane\n",
       "4  250              137  Broadwick Street\n",
       "5  254               41     Rupert Street\n",
       "6  256                0     Regent Street\n",
       "7  253                0       Dean Street"
      ]
     },
     "execution_count": 91,
     "metadata": {},
     "output_type": "execute_result"
    }
   ],
   "source": [
    "death_locations_df = gpd.read_file('outputs/clipped_voronoi_counts.shp')\\\n",
    "    [['FID','points_in_','Street']].rename(columns={'points_in_':'death_locations'})\n",
    "\n",
    "death_locations_df"
   ]
  },
  {
   "cell_type": "code",
   "execution_count": 92,
   "metadata": {},
   "outputs": [
    {
     "data": {
      "text/html": [
       "<div>\n",
       "<style scoped>\n",
       "    .dataframe tbody tr th:only-of-type {\n",
       "        vertical-align: middle;\n",
       "    }\n",
       "\n",
       "    .dataframe tbody tr th {\n",
       "        vertical-align: top;\n",
       "    }\n",
       "\n",
       "    .dataframe thead th {\n",
       "        text-align: right;\n",
       "    }\n",
       "</style>\n",
       "<table border=\"1\" class=\"dataframe\">\n",
       "  <thead>\n",
       "    <tr style=\"text-align: right;\">\n",
       "      <th></th>\n",
       "      <th>FID</th>\n",
       "      <th>buildings</th>\n",
       "    </tr>\n",
       "  </thead>\n",
       "  <tbody>\n",
       "    <tr>\n",
       "      <th>0</th>\n",
       "      <td>251</td>\n",
       "      <td>177</td>\n",
       "    </tr>\n",
       "    <tr>\n",
       "      <th>1</th>\n",
       "      <td>257</td>\n",
       "      <td>141</td>\n",
       "    </tr>\n",
       "    <tr>\n",
       "      <th>2</th>\n",
       "      <td>252</td>\n",
       "      <td>104</td>\n",
       "    </tr>\n",
       "    <tr>\n",
       "      <th>3</th>\n",
       "      <td>255</td>\n",
       "      <td>102</td>\n",
       "    </tr>\n",
       "    <tr>\n",
       "      <th>4</th>\n",
       "      <td>250</td>\n",
       "      <td>325</td>\n",
       "    </tr>\n",
       "    <tr>\n",
       "      <th>5</th>\n",
       "      <td>254</td>\n",
       "      <td>227</td>\n",
       "    </tr>\n",
       "    <tr>\n",
       "      <th>6</th>\n",
       "      <td>256</td>\n",
       "      <td>59</td>\n",
       "    </tr>\n",
       "    <tr>\n",
       "      <th>7</th>\n",
       "      <td>253</td>\n",
       "      <td>252</td>\n",
       "    </tr>\n",
       "  </tbody>\n",
       "</table>\n",
       "</div>"
      ],
      "text/plain": [
       "   FID  buildings\n",
       "0  251        177\n",
       "1  257        141\n",
       "2  252        104\n",
       "3  255        102\n",
       "4  250        325\n",
       "5  254        227\n",
       "6  256         59\n",
       "7  253        252"
      ]
     },
     "execution_count": 92,
     "metadata": {},
     "output_type": "execute_result"
    }
   ],
   "source": [
    "buildings_df = clipped_voronoi_buildings_gdf[['FID','points_in_voronoi']]\\\n",
    "        .rename(columns={'points_in_voronoi':'buildings'})\n",
    "\n",
    "buildings_df"
   ]
  },
  {
   "cell_type": "code",
   "execution_count": 93,
   "metadata": {},
   "outputs": [
    {
     "data": {
      "text/html": [
       "<div>\n",
       "<style scoped>\n",
       "    .dataframe tbody tr th:only-of-type {\n",
       "        vertical-align: middle;\n",
       "    }\n",
       "\n",
       "    .dataframe tbody tr th {\n",
       "        vertical-align: top;\n",
       "    }\n",
       "\n",
       "    .dataframe thead th {\n",
       "        text-align: right;\n",
       "    }\n",
       "</style>\n",
       "<table border=\"1\" class=\"dataframe\">\n",
       "  <thead>\n",
       "    <tr style=\"text-align: right;\">\n",
       "      <th></th>\n",
       "      <th>FID</th>\n",
       "      <th>death_locations</th>\n",
       "      <th>Street</th>\n",
       "      <th>buildings</th>\n",
       "    </tr>\n",
       "  </thead>\n",
       "  <tbody>\n",
       "    <tr>\n",
       "      <th>0</th>\n",
       "      <td>251</td>\n",
       "      <td>38</td>\n",
       "      <td>Kingly Street</td>\n",
       "      <td>177</td>\n",
       "    </tr>\n",
       "    <tr>\n",
       "      <th>1</th>\n",
       "      <td>257</td>\n",
       "      <td>12</td>\n",
       "      <td>Warwick Street</td>\n",
       "      <td>141</td>\n",
       "    </tr>\n",
       "    <tr>\n",
       "      <th>2</th>\n",
       "      <td>252</td>\n",
       "      <td>1</td>\n",
       "      <td>Ramillies Place</td>\n",
       "      <td>104</td>\n",
       "    </tr>\n",
       "    <tr>\n",
       "      <th>3</th>\n",
       "      <td>255</td>\n",
       "      <td>21</td>\n",
       "      <td>Bridle Lane</td>\n",
       "      <td>102</td>\n",
       "    </tr>\n",
       "    <tr>\n",
       "      <th>4</th>\n",
       "      <td>250</td>\n",
       "      <td>137</td>\n",
       "      <td>Broadwick Street</td>\n",
       "      <td>325</td>\n",
       "    </tr>\n",
       "    <tr>\n",
       "      <th>5</th>\n",
       "      <td>254</td>\n",
       "      <td>41</td>\n",
       "      <td>Rupert Street</td>\n",
       "      <td>227</td>\n",
       "    </tr>\n",
       "    <tr>\n",
       "      <th>6</th>\n",
       "      <td>256</td>\n",
       "      <td>0</td>\n",
       "      <td>Regent Street</td>\n",
       "      <td>59</td>\n",
       "    </tr>\n",
       "    <tr>\n",
       "      <th>7</th>\n",
       "      <td>253</td>\n",
       "      <td>0</td>\n",
       "      <td>Dean Street</td>\n",
       "      <td>252</td>\n",
       "    </tr>\n",
       "  </tbody>\n",
       "</table>\n",
       "</div>"
      ],
      "text/plain": [
       "   FID  death_locations            Street  buildings\n",
       "0  251               38     Kingly Street        177\n",
       "1  257               12    Warwick Street        141\n",
       "2  252                1   Ramillies Place        104\n",
       "3  255               21       Bridle Lane        102\n",
       "4  250              137  Broadwick Street        325\n",
       "5  254               41     Rupert Street        227\n",
       "6  256                0     Regent Street         59\n",
       "7  253                0       Dean Street        252"
      ]
     },
     "execution_count": 93,
     "metadata": {},
     "output_type": "execute_result"
    }
   ],
   "source": [
    "voronoi_deaths_buildings_df = pd.merge(death_locations_df, buildings_df, \\\n",
    "                                       on='FID', how='inner')\n",
    "\n",
    "voronoi_deaths_buildings_df"
   ]
  },
  {
   "cell_type": "markdown",
   "metadata": {},
   "source": [
    "## Plotting the two barcharts together..."
   ]
  },
  {
   "cell_type": "code",
   "execution_count": 94,
   "metadata": {},
   "outputs": [
    {
     "data": {
      "image/png": "[encoded data removed]",
      "text/plain": [
       "<Figure size 432x288 with 1 Axes>"
      ]
     },
     "metadata": {
      "needs_background": "light"
     },
     "output_type": "display_data"
    },
    {
     "data": {
      "image/png": "[encoded data removed]",
      "text/plain": [
       "<Figure size 432x288 with 1 Axes>"
      ]
     },
     "metadata": {
      "needs_background": "light"
     },
     "output_type": "display_data"
    }
   ],
   "source": [
    "import matplotlib.pyplot as plt\n",
    "\n",
    "# here are the two plots\n",
    "ax = pd.DataFrame(voronoi_deaths_buildings_df)\\\n",
    "    .plot.barh(y='death_locations', x='Street', color='k')\n",
    "ax = pd.DataFrame(voronoi_deaths_buildings_df)\\\n",
    "    .plot.barh(y='buildings', x='Street', color='k')"
   ]
  },
  {
   "cell_type": "code",
   "execution_count": null,
   "metadata": {},
   "outputs": [],
   "source": []
  }
 ],
 "metadata": {
  "kernelspec": {
   "display_name": "Python 3",
   "language": "python",
   "name": "python3"
  },
  "language_info": {
   "codemirror_mode": {
    "name": "ipython",
    "version": 3
   },
   "file_extension": ".py",
   "mimetype": "text/x-python",
   "name": "python",
   "nbconvert_exporter": "python",
   "pygments_lexer": "ipython3",
   "version": "3.6.7"
  }
 },
 "nbformat": 4,
 "nbformat_minor": 2
}
