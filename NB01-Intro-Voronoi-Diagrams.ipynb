{
 "cells": [
  {
   "cell_type": "code",
   "execution_count": 1,
   "metadata": {},
   "outputs": [],
   "source": [
    "%run resources/library.py"
   ]
  },
  {
   "cell_type": "code",
   "execution_count": 2,
   "metadata": {},
   "outputs": [
    {
     "data": {
      "text/html": [
       "<style> \n",
       "div.text_cell_render { /* Customize text cells */ \n",
       "    font-family: 'Arial'; \n",
       "    font-size:20px;\n",
       "    line-height: 1.5em;\n",
       "    padding-left:3em; \n",
       "    padding-right:3em; \n",
       "}\n",
       ".CodeMirror {\n",
       "    font-family:  'Source Code Pro', monospace;\n",
       "    font-size: 18px;\n",
       "}\n",
       "\n",
       "/* Cell output */\n",
       "\n",
       ".rendered_html pre, .rendered_html code {\n",
       "    color: inherit !important;\n",
       "    background-color: inherit !important;\n",
       "}\n",
       "div.output_area pre {\n",
       "    line-height: 1.2em;\n",
       "    color: #93a1a1 !important;\n",
       "    font-family: 'Source Code Pro', monospace;\n",
       "    font-size: 16px;\n",
       "}\n",
       ".rendered_html table, .rendered_html td, .rendered_html th {\n",
       "    border: 1px solid #586e75 !important;\n",
       "    font-family: 'Arial';\n",
       "    font-size: 16px;\n",
       "}\n",
       "</style>"
      ],
      "text/plain": [
       "<IPython.core.display.HTML object>"
      ]
     },
     "execution_count": 2,
     "metadata": {},
     "output_type": "execute_result"
    }
   ],
   "source": [
    "style_notebook()"
   ]
  },
  {
   "cell_type": "markdown",
   "metadata": {},
   "source": [
    "# Introduction to Voronoi Tessellation Method"
   ]
  },
  {
   "cell_type": "markdown",
   "metadata": {},
   "source": [
    "## Introduction"
   ]
  },
  {
   "cell_type": "markdown",
   "metadata": {},
   "source": [
    "<img src='images/Georgy_Voronoy.jpg' width='180' align='left' style=\"float:left;margin:0 20px 20px 0;\"/> **Figure 1.** Georgy Voronoy, Russian mathematician\n",
    "\n",
    "According to the online Merriam-Webster, the word `tessellation` has two meanings: (a) mosaic; and (b) \"a covering of an infinite geometric plane without gaps or overlaps by congruent plane figures of one type or a few types\". The word is derived the the Latin, `tessella`, a small cubical piece of clay, stone or glass used to make mosaics (from Wikipedia). \n",
    "\n",
    "The Russian mathematician, from whose name the term `Voronoi` was coined, is Georgy Voronoy, shown in the picture.  "
   ]
  },
  {
   "cell_type": "markdown",
   "metadata": {},
   "source": [
    "### Some notes from Wikipedia:\n",
    "\n",
    "<img src='images/Euclidean_Voronoi_diagram.svg.png' width='280' align='right' style=\"float:right;margin:0 20px 20px 0;\"/> **Figure 2.** A euclidean distance Voronoi diagram (from Wikipedia)\n",
    ">  \n",
    "> Georgy Feodosevich Voronoy (28 April 1868 – 20 November 1908) was a Russian mathematician noted for defining the Voronoi diagram.[2]\n",
    ">  \n",
    "> Among his students was Wacław Sierpiński (Ph.D. at Jagiellonian University in 1906). Although he was not formally the doctoral advisor of Boris Delaunay (Ph.D. at Kiev University), his influence on the latter earns him the right to be considered so.[3]\n"
   ]
  },
  {
   "cell_type": "markdown",
   "metadata": {},
   "source": [
    "### Uses and applications, short history"
   ]
  },
  {
   "cell_type": "markdown",
   "metadata": {},
   "source": [
    "From [this webpage](https://www.osti.gov/servlets/purl/1090872) from the Office of Scientific and Technology Information, US Department of Energy (https://www.osti.gov) and from [1]:\n",
    "#### Dr. John Snow and Voronoi tessellations\n",
    "> The first documented application of Voronoi tessellations appeared in the classic\n",
    "treatise of Snow (Snow, 1855) on the 1854 cholera epidemic in London in which he\n",
    "demonstrated that proximity to a particular well was strongly correlated to deaths\n",
    "due to the disease. \n",
    "\n",
    "#### Short history\n",
    "> Voronoi tessellation has a long history, probably because Voronoi-like arrangements often appear in nature. Voronoi-like tessellations appeared in 1644 in the\n",
    "work of Decartes on the distribution of matter in the cosmic region near our sun.\n",
    "The first systematic treatment of what we now call Voronoi tessellations was given\n",
    "by Dirichlet (Dirichlet, 1850) in his study of two- and three-dimensional quadratic\n",
    "forms, i.e., homogeneous, multivariate polynomials of degree two; hence, Voronoi\n",
    "regions are often referred to as Dirichlet cells. Voronoi (Voronoi, 1907) generalized\n",
    "the work of Dirichlet to arbitrary dimensions, again using what are now referred to\n",
    "as Voronoi tessellations or diagrams.\n",
    "\n",
    "#### A method with many names...\n",
    "> It is not surprising, due to their ubiquity and usefulness, that throughout the 20th\n",
    "century, **Voronoi tessellations** were rediscovered many times. As a result, Voronoi\n",
    "regions have been called by many different names. **Thiessen polygons** refer to the\n",
    "work of Theissen on developing more accurate estimates for the average rainfall\n",
    "in a region. **Area of influence polygons** was a term coined in connection with the\n",
    "processing of data about ore distributions obtained from boreholes. **Wigner-Seitz regions**, domain of an atom, and **Meijering cells** were terms that arose from work on\n",
    "crystal lattices and the Voronoi cell of the reciprocal crystal lattice is referred to as\n",
    "the **Brillouin zone** (Kittel, 2004; Ziman, 1979). In the study of codes by, e.g., Shannon, Voronoi cells are called **maximum likelihood regions** (Weaver and Shannon,\n",
    "1963). The field of ecology gave rise to two more alternate labels: **area potentially\n",
    "available** and **plant polygons** for a Voronoi region associated with a particular tree\n",
    "or plant. **Capillary domains** refers to Voronoi regions in a tissue based on the centers\n",
    "of capillaries.\n"
   ]
  },
  {
   "cell_type": "code",
   "execution_count": 3,
   "metadata": {},
   "outputs": [
    {
     "data": {
      "text/html": [
       "\n",
       "        <iframe\n",
       "            width=\"800\"\n",
       "            height=\"500\"\n",
       "            src=\"https://www.youtube.com/embed/65XBl7y9mSM\"\n",
       "            frameborder=\"0\"\n",
       "            allowfullscreen\n",
       "        ></iframe>\n",
       "        "
      ],
      "text/plain": [
       "<IPython.lib.display.IFrame at 0x7fa7e1f47a90>"
      ]
     },
     "execution_count": 3,
     "metadata": {},
     "output_type": "execute_result"
    }
   ],
   "source": [
    "show_youtube('https://www.youtube.com/embed/65XBl7y9mSM', 800,500)"
   ]
  },
  {
   "cell_type": "markdown",
   "metadata": {},
   "source": [
    "### More uses"
   ]
  },
  {
   "cell_type": "markdown",
   "metadata": {},
   "source": [
    "1. Visualizing air quality with voronoi diagrams: http://maths.straylight.co.uk/archives/1257\n",
    "2. Infectious disease outbreaks: This digital case study using cholera data from the 1854 London cholera outbreak.\n",
    "2. More uses: https://www.ics.uci.edu/~eppstein/gina/scot.drysdale.html"
   ]
  },
  {
   "cell_type": "markdown",
   "metadata": {},
   "source": [
    "## Steps for this Digital Case Study"
   ]
  },
  {
   "cell_type": "markdown",
   "metadata": {},
   "source": [
    "#### Step 1: Review Voronoi method materials\n",
    "#### Step 2: Develop convex hull polygon (to be used for clipping the Voronoi polygons later)\n",
    "#### Step 3: Overlay the pump, death locations and voronoi polygons (non-interactive)\n",
    "#### Step 4: Create an interactive map using the code from Cholera basic Folium map as a starting point\n",
    "#### Step 5. Improve the interactive map"
   ]
  },
  {
   "cell_type": "markdown",
   "metadata": {},
   "source": [
    "## References"
   ]
  },
  {
   "cell_type": "markdown",
   "metadata": {},
   "source": [
    "### Technical References\n",
    "1. Ju L., Ringler T., Gunzburger M. (2011) Voronoi Tessellations and Their Application to Climate and Global Modeling. In: Lauritzen P., Jablonowski C., Taylor M., Nair R. (eds) Numerical Techniques for Global Atmospheric Models. Lecture Notes in Computational Science and Engineering, vol 80. Springer, Berlin, Heidelberg.\n",
    "2. Syta, Halyna; van de Weygaert, Rien (2009). \"Life and Times of Georgy Voronoi\". arXiv:[0912.3269](https://arxiv.org/abs/0912.3269).\n",
    "3. Liebling, Thomas; Pournin, Lionel (2012). \"Voronoi diagrams and Delaunay triangulations: ubiquitous Siamese twins\" (PDF). Optimization Stories. Documenta Mathematica. Extra Volume ISMP. pp. 419–431. Archived from the [original PDF](https://web.archive.org/web/20170811235351/http://www.math.uiuc.edu/documenta/vol-ismp/60_liebling-thomas.pdf) on 2017-08-09.\n",
    "4. Scipy Spatial Voronoi Reference Guide: https://docs.scipy.org/doc/scipy/reference/index.html\n",
    "5. Scipy Spatial Tutorial: https://docs.scipy.org/doc/scipy/reference/tutorial/spatial.html\n",
    "\n",
    "### News:\n",
    "1. https://www.irishtimes.com/news/science/how-voronoi-diagrams-help-us-understand-our-world-1.2947681\n",
    "\n",
    "### Videos\n",
    "1. https://www.youtube.com/watch?v=PdV7sCb0k3M\n",
    "2. https://www.youtube.com/watch?v=bmaUtG4CbOs\n",
    "3. Wikipedia Voronoi Page: https://en.m.wikipedia.org/wiki/Voronoi_diagram"
   ]
  },
  {
   "cell_type": "code",
   "execution_count": null,
   "metadata": {},
   "outputs": [],
   "source": []
  }
 ],
 "metadata": {
  "kernelspec": {
   "display_name": "Python 3",
   "language": "python",
   "name": "python3"
  },
  "language_info": {
   "codemirror_mode": {
    "name": "ipython",
    "version": 3
   },
   "file_extension": ".py",
   "mimetype": "text/x-python",
   "name": "python",
   "nbconvert_exporter": "python",
   "pygments_lexer": "ipython3",
   "version": "3.7.6"
  }
 },
 "nbformat": 4,
 "nbformat_minor": 2
}
