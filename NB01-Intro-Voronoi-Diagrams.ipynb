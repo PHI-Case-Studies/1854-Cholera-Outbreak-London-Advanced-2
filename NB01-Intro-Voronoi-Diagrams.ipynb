{
 "cells": [
  {
   "cell_type": "markdown",
   "metadata": {},
   "source": [
    "# Introduction to Voronoi Tessellation Method"
   ]
  },
  {
   "cell_type": "markdown",
   "metadata": {},
   "source": [
    "## Introduction"
   ]
  },
  {
   "cell_type": "markdown",
   "metadata": {},
   "source": [
    "https://www.youtube.com/watch?v=65XBl7y9mSM"
   ]
  },
  {
   "cell_type": "markdown",
   "metadata": {},
   "source": [
    "## Uses"
   ]
  },
  {
   "cell_type": "markdown",
   "metadata": {},
   "source": [
    "1. Visualizing air quality with voronoi diagrams: http://maths.straylight.co.uk/archives/1257\n",
    "2. Infectious disease outbreaks: This digital case study.\n",
    "2. More uses: https://www.ics.uci.edu/~eppstein/gina/scot.drysdale.html"
   ]
  },
  {
   "cell_type": "markdown",
   "metadata": {},
   "source": [
    "## Steps for this Digital Case Study"
   ]
  },
  {
   "cell_type": "markdown",
   "metadata": {},
   "source": [
    "### Step 1: Review Voronoi method materials\n",
    "### Step 2: Develop convex hull polygon (to be used for clipping the Voronoi polygons later)\n",
    "### Step 3: Overlay the pump, death locations and voronoi polygons (non-interactive)\n",
    "### Step 4: Create an interactive map using the code from Cholera basic folium map as a starting point\n",
    "### Step 5. Improve the interactive map"
   ]
  },
  {
   "cell_type": "markdown",
   "metadata": {},
   "source": [
    "## References"
   ]
  },
  {
   "cell_type": "markdown",
   "metadata": {},
   "source": [
    "Technical References\n",
    "1. Scipy Spatial Voronoi Reference Guide: https://docs.scipy.org/doc/scipy/reference/index.html\n",
    "2. Scipy Spatial Tutorial: https://docs.scipy.org/doc/scipy/reference/tutorial/spatial.html\n",
    "\n",
    "News:\n",
    "1. https://www.irishtimes.com/news/science/how-voronoi-diagrams-help-us-understand-our-world-1.2947681\n",
    "\n",
    "Videos\n",
    "1. https://www.youtube.com/watch?v=PdV7sCb0k3M\n",
    "2. https://www.youtube.com/watch?v=bmaUtG4CbOs\n",
    "3. Wikipedia Voronoi Page: https://en.m.wikipedia.org/wiki/Voronoi_diagram"
   ]
  },
  {
   "cell_type": "code",
   "execution_count": null,
   "metadata": {},
   "outputs": [],
   "source": []
  }
 ],
 "metadata": {
  "kernelspec": {
   "display_name": "Python 3",
   "language": "python",
   "name": "python3"
  },
  "language_info": {
   "codemirror_mode": {
    "name": "ipython",
    "version": 3
   },
   "file_extension": ".py",
   "mimetype": "text/x-python",
   "name": "python",
   "nbconvert_exporter": "python",
   "pygments_lexer": "ipython3",
   "version": "3.6.7"
  }
 },
 "nbformat": 4,
 "nbformat_minor": 2
}
