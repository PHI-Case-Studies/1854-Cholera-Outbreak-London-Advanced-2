{
 "cells": [
  {
   "cell_type": "code",
   "execution_count": 1,
   "metadata": {},
   "outputs": [],
   "source": [
    "%run resources/library.py"
   ]
  },
  {
   "cell_type": "markdown",
   "metadata": {},
   "source": [
    "# Notebook 3: Computing Convex Hulls Using `alphashape` - Part 2"
   ]
  },
  {
   "cell_type": "markdown",
   "metadata": {},
   "source": [
    "## What is `alphashape`?"
   ]
  },
  {
   "cell_type": "markdown",
   "metadata": {},
   "source": [
    "`alphashape` is a Python package that can be used to generate a convex hull."
   ]
  },
  {
   "cell_type": "markdown",
   "metadata": {},
   "source": [
    "## What is an $\\alpha$ shape?"
   ]
  },
  {
   "cell_type": "markdown",
   "metadata": {},
   "source": [
    "From [Wikipedia](https://en.wikipedia.org/wiki/Alpha_shape):\n",
    "> *In computational geometry, an alpha shape, or α-shape, is a family of piecewise linear simple curves in the Euclidean plane associated with the shape of a finite set of points. They were first defined by Edelsbrunner, Kirkpatrick & Seidel (1983). The alpha-shape associated with a set of points is a generalization of the concept of the convex hull, i.e. every convex hull is an alpha-shape but not every alpha shape is a convex hull.*"
   ]
  },
  {
   "cell_type": "markdown",
   "metadata": {},
   "source": [
    "## Load Cholera data"
   ]
  },
  {
   "cell_type": "code",
   "execution_count": 2,
   "metadata": {},
   "outputs": [],
   "source": [
    "import pandas as pd"
   ]
  },
  {
   "cell_type": "code",
   "execution_count": 3,
   "metadata": {},
   "outputs": [
    {
     "data": {
      "text/html": [
       "<div>\n",
       "<style scoped>\n",
       "    .dataframe tbody tr th:only-of-type {\n",
       "        vertical-align: middle;\n",
       "    }\n",
       "\n",
       "    .dataframe tbody tr th {\n",
       "        vertical-align: top;\n",
       "    }\n",
       "\n",
       "    .dataframe thead th {\n",
       "        text-align: right;\n",
       "    }\n",
       "</style>\n",
       "<table border=\"1\" class=\"dataframe\">\n",
       "  <thead>\n",
       "    <tr style=\"text-align: right;\">\n",
       "      <th></th>\n",
       "      <th>FID</th>\n",
       "      <th>LON</th>\n",
       "      <th>LAT</th>\n",
       "      <th>Street</th>\n",
       "    </tr>\n",
       "  </thead>\n",
       "  <tbody>\n",
       "    <tr>\n",
       "      <th>0</th>\n",
       "      <td>250</td>\n",
       "      <td>-0.136668</td>\n",
       "      <td>51.513341</td>\n",
       "      <td>Broadwick Street</td>\n",
       "    </tr>\n",
       "    <tr>\n",
       "      <th>1</th>\n",
       "      <td>251</td>\n",
       "      <td>-0.139586</td>\n",
       "      <td>51.513876</td>\n",
       "      <td>Kingly Street</td>\n",
       "    </tr>\n",
       "    <tr>\n",
       "      <th>2</th>\n",
       "      <td>252</td>\n",
       "      <td>-0.139671</td>\n",
       "      <td>51.514906</td>\n",
       "      <td>Ramillies Place</td>\n",
       "    </tr>\n",
       "    <tr>\n",
       "      <th>3</th>\n",
       "      <td>253</td>\n",
       "      <td>-0.131630</td>\n",
       "      <td>51.512354</td>\n",
       "      <td>Dean Street</td>\n",
       "    </tr>\n",
       "    <tr>\n",
       "      <th>4</th>\n",
       "      <td>254</td>\n",
       "      <td>-0.133594</td>\n",
       "      <td>51.512139</td>\n",
       "      <td>Rupert Street</td>\n",
       "    </tr>\n",
       "    <tr>\n",
       "      <th>5</th>\n",
       "      <td>255</td>\n",
       "      <td>-0.135919</td>\n",
       "      <td>51.511542</td>\n",
       "      <td>Bridle Lane</td>\n",
       "    </tr>\n",
       "    <tr>\n",
       "      <th>6</th>\n",
       "      <td>256</td>\n",
       "      <td>-0.133962</td>\n",
       "      <td>51.510019</td>\n",
       "      <td>Regent Street</td>\n",
       "    </tr>\n",
       "    <tr>\n",
       "      <th>7</th>\n",
       "      <td>257</td>\n",
       "      <td>-0.138199</td>\n",
       "      <td>51.511295</td>\n",
       "      <td>Warwick Street</td>\n",
       "    </tr>\n",
       "  </tbody>\n",
       "</table>\n",
       "</div>"
      ],
      "text/plain": [
       "   FID       LON        LAT            Street\n",
       "0  250 -0.136668  51.513341  Broadwick Street\n",
       "1  251 -0.139586  51.513876     Kingly Street\n",
       "2  252 -0.139671  51.514906   Ramillies Place\n",
       "3  253 -0.131630  51.512354       Dean Street\n",
       "4  254 -0.133594  51.512139     Rupert Street\n",
       "5  255 -0.135919  51.511542       Bridle Lane\n",
       "6  256 -0.133962  51.510019     Regent Street\n",
       "7  257 -0.138199  51.511295    Warwick Street"
      ]
     },
     "execution_count": 3,
     "metadata": {},
     "output_type": "execute_result"
    }
   ],
   "source": [
    "pumps_df = pd.read_csv('data/pumps.csv')\n",
    "\n",
    "pumps_df"
   ]
  },
  {
   "cell_type": "code",
   "execution_count": 4,
   "metadata": {},
   "outputs": [
    {
     "data": {
      "text/html": [
       "<div>\n",
       "<style scoped>\n",
       "    .dataframe tbody tr th:only-of-type {\n",
       "        vertical-align: middle;\n",
       "    }\n",
       "\n",
       "    .dataframe tbody tr th {\n",
       "        vertical-align: top;\n",
       "    }\n",
       "\n",
       "    .dataframe thead th {\n",
       "        text-align: right;\n",
       "    }\n",
       "</style>\n",
       "<table border=\"1\" class=\"dataframe\">\n",
       "  <thead>\n",
       "    <tr style=\"text-align: right;\">\n",
       "      <th></th>\n",
       "      <th>FID</th>\n",
       "      <th>DEATHS</th>\n",
       "      <th>LON</th>\n",
       "      <th>LAT</th>\n",
       "    </tr>\n",
       "  </thead>\n",
       "  <tbody>\n",
       "    <tr>\n",
       "      <th>0</th>\n",
       "      <td>0</td>\n",
       "      <td>3</td>\n",
       "      <td>-0.137930</td>\n",
       "      <td>51.513418</td>\n",
       "    </tr>\n",
       "    <tr>\n",
       "      <th>1</th>\n",
       "      <td>1</td>\n",
       "      <td>2</td>\n",
       "      <td>-0.137883</td>\n",
       "      <td>51.513361</td>\n",
       "    </tr>\n",
       "    <tr>\n",
       "      <th>2</th>\n",
       "      <td>2</td>\n",
       "      <td>1</td>\n",
       "      <td>-0.137853</td>\n",
       "      <td>51.513317</td>\n",
       "    </tr>\n",
       "    <tr>\n",
       "      <th>3</th>\n",
       "      <td>3</td>\n",
       "      <td>1</td>\n",
       "      <td>-0.137812</td>\n",
       "      <td>51.513262</td>\n",
       "    </tr>\n",
       "    <tr>\n",
       "      <th>4</th>\n",
       "      <td>4</td>\n",
       "      <td>4</td>\n",
       "      <td>-0.137767</td>\n",
       "      <td>51.513204</td>\n",
       "    </tr>\n",
       "    <tr>\n",
       "      <th>...</th>\n",
       "      <td>...</td>\n",
       "      <td>...</td>\n",
       "      <td>...</td>\n",
       "      <td>...</td>\n",
       "    </tr>\n",
       "    <tr>\n",
       "      <th>245</th>\n",
       "      <td>245</td>\n",
       "      <td>3</td>\n",
       "      <td>-0.137108</td>\n",
       "      <td>51.514526</td>\n",
       "    </tr>\n",
       "    <tr>\n",
       "      <th>246</th>\n",
       "      <td>246</td>\n",
       "      <td>2</td>\n",
       "      <td>-0.137065</td>\n",
       "      <td>51.514706</td>\n",
       "    </tr>\n",
       "    <tr>\n",
       "      <th>247</th>\n",
       "      <td>247</td>\n",
       "      <td>1</td>\n",
       "      <td>-0.138474</td>\n",
       "      <td>51.512311</td>\n",
       "    </tr>\n",
       "    <tr>\n",
       "      <th>248</th>\n",
       "      <td>248</td>\n",
       "      <td>1</td>\n",
       "      <td>-0.138123</td>\n",
       "      <td>51.511998</td>\n",
       "    </tr>\n",
       "    <tr>\n",
       "      <th>249</th>\n",
       "      <td>249</td>\n",
       "      <td>1</td>\n",
       "      <td>-0.137762</td>\n",
       "      <td>51.511856</td>\n",
       "    </tr>\n",
       "  </tbody>\n",
       "</table>\n",
       "<p>250 rows × 4 columns</p>\n",
       "</div>"
      ],
      "text/plain": [
       "     FID  DEATHS       LON        LAT\n",
       "0      0       3 -0.137930  51.513418\n",
       "1      1       2 -0.137883  51.513361\n",
       "2      2       1 -0.137853  51.513317\n",
       "3      3       1 -0.137812  51.513262\n",
       "4      4       4 -0.137767  51.513204\n",
       "..   ...     ...       ...        ...\n",
       "245  245       3 -0.137108  51.514526\n",
       "246  246       2 -0.137065  51.514706\n",
       "247  247       1 -0.138474  51.512311\n",
       "248  248       1 -0.138123  51.511998\n",
       "249  249       1 -0.137762  51.511856\n",
       "\n",
       "[250 rows x 4 columns]"
      ]
     },
     "execution_count": 4,
     "metadata": {},
     "output_type": "execute_result"
    }
   ],
   "source": [
    "deaths_df = pd.read_csv('data/cholera_deaths.csv')\n",
    "\n",
    "deaths_df"
   ]
  },
  {
   "cell_type": "markdown",
   "metadata": {},
   "source": [
    "## Create points lists from the pumps and deaths dataframes"
   ]
  },
  {
   "cell_type": "code",
   "execution_count": 5,
   "metadata": {},
   "outputs": [],
   "source": [
    "import numpy as np"
   ]
  },
  {
   "cell_type": "code",
   "execution_count": 6,
   "metadata": {},
   "outputs": [
    {
     "data": {
      "text/plain": [
       "array([[-0.136668, 51.513341],\n",
       "       [-0.139586, 51.513876],\n",
       "       [-0.139671, 51.514906],\n",
       "       [-0.13163 , 51.512354],\n",
       "       [-0.133594, 51.512139],\n",
       "       [-0.135919, 51.511542],\n",
       "       [-0.133962, 51.510019],\n",
       "       [-0.138199, 51.511295]])"
      ]
     },
     "execution_count": 6,
     "metadata": {},
     "output_type": "execute_result"
    }
   ],
   "source": [
    "points_pumps = np.array([[lon,lat] for lat,lon in pumps_df[['LAT','LON']].values])\n",
    "\n",
    "points_pumps"
   ]
  },
  {
   "cell_type": "code",
   "execution_count": 7,
   "metadata": {
    "scrolled": true,
    "tags": []
   },
   "outputs": [
    {
     "data": {
      "text/plain": [
       "array([[-0.13793 , 51.513418],\n",
       "       [-0.137883, 51.513361],\n",
       "       [-0.137853, 51.513317],\n",
       "       [-0.137812, 51.513262],\n",
       "       [-0.137767, 51.513204],\n",
       "       [-0.137537, 51.513184],\n",
       "       [-0.1382  , 51.513359],\n",
       "       [-0.138045, 51.513328],\n",
       "       [-0.138276, 51.513323],\n",
       "       [-0.138223, 51.513427],\n",
       "       [-0.138337, 51.513381],\n",
       "       [-0.138563, 51.513462],\n",
       "       [-0.138426, 51.513216],\n",
       "       [-0.138378, 51.513169],\n",
       "       [-0.138337, 51.513116],\n",
       "       [-0.138645, 51.51324 ],\n",
       "       [-0.138698, 51.513164],\n",
       "       [-0.137924, 51.513178],\n",
       "       [-0.137865, 51.513111],\n",
       "       [-0.137811, 51.513055],\n",
       "       [-0.138762, 51.513441],\n",
       "       [-0.138799, 51.513592],\n",
       "       [-0.139045, 51.513402],\n",
       "       [-0.13897 , 51.51338 ],\n",
       "       [-0.138863, 51.513411],\n",
       "       [-0.138752, 51.513641],\n",
       "       [-0.138808, 51.513693],\n",
       "       [-0.138856, 51.513745],\n",
       "       [-0.138887, 51.513676],\n",
       "       [-0.139239, 51.51359 ],\n",
       "       [-0.139321, 51.513663],\n",
       "       [-0.139316, 51.513502],\n",
       "       [-0.139616, 51.513583],\n",
       "       [-0.139719, 51.513541],\n",
       "       [-0.140074, 51.513298],\n",
       "       [-0.139094, 51.513291],\n",
       "       [-0.139697, 51.513013],\n",
       "       [-0.139327, 51.512965],\n",
       "       [-0.139317, 51.512893],\n",
       "       [-0.139187, 51.512964],\n",
       "       [-0.139036, 51.513025],\n",
       "       [-0.139209, 51.513027],\n",
       "       [-0.138427, 51.512831],\n",
       "       [-0.138624, 51.512885],\n",
       "       [-0.138096, 51.512526],\n",
       "       [-0.138035, 51.512465],\n",
       "       [-0.137984, 51.512428],\n",
       "       [-0.138065, 51.512415],\n",
       "       [-0.138194, 51.51251 ],\n",
       "       [-0.137818, 51.512378],\n",
       "       [-0.137656, 51.512447],\n",
       "       [-0.137584, 51.512491],\n",
       "       [-0.13765 , 51.512374],\n",
       "       [-0.13745 , 51.512339],\n",
       "       [-0.137376, 51.512364],\n",
       "       [-0.137327, 51.512319],\n",
       "       [-0.13698 , 51.51254 ],\n",
       "       [-0.13718 , 51.512649],\n",
       "       [-0.137052, 51.512692],\n",
       "       [-0.137695, 51.512957],\n",
       "       [-0.137533, 51.512765],\n",
       "       [-0.137419, 51.51278 ],\n",
       "       [-0.137368, 51.512726],\n",
       "       [-0.137325, 51.512681],\n",
       "       [-0.137531, 51.512914],\n",
       "       [-0.137562, 51.513046],\n",
       "       [-0.137466, 51.513074],\n",
       "       [-0.137386, 51.513087],\n",
       "       [-0.137306, 51.513122],\n",
       "       [-0.137089, 51.513187],\n",
       "       [-0.136996, 51.513214],\n",
       "       [-0.136859, 51.513249],\n",
       "       [-0.136778, 51.513271],\n",
       "       [-0.136705, 51.5133  ],\n",
       "       [-0.136493, 51.51316 ],\n",
       "       [-0.13633 , 51.513016],\n",
       "       [-0.136424, 51.512921],\n",
       "       [-0.136523, 51.51289 ],\n",
       "       [-0.136599, 51.512859],\n",
       "       [-0.136699, 51.51283 ],\n",
       "       [-0.136819, 51.512782],\n",
       "       [-0.136973, 51.512729],\n",
       "       [-0.136358, 51.512868],\n",
       "       [-0.13663 , 51.512723],\n",
       "       [-0.136584, 51.512654],\n",
       "       [-0.136423, 51.512713],\n",
       "       [-0.136345, 51.512615],\n",
       "       [-0.136437, 51.512491],\n",
       "       [-0.136377, 51.512449],\n",
       "       [-0.136197, 51.512465],\n",
       "       [-0.136142, 51.512413],\n",
       "       [-0.136102, 51.512358],\n",
       "       [-0.13603 , 51.512271],\n",
       "       [-0.13631 , 51.512355],\n",
       "       [-0.13594 , 51.511991],\n",
       "       [-0.135858, 51.512083],\n",
       "       [-0.1358  , 51.512031],\n",
       "       [-0.135717, 51.51197 ],\n",
       "       [-0.135119, 51.511882],\n",
       "       [-0.135144, 51.51205 ],\n",
       "       [-0.135394, 51.51225 ],\n",
       "       [-0.135409, 51.512162],\n",
       "       [-0.135472, 51.512212],\n",
       "       [-0.135765, 51.512573],\n",
       "       [-0.135871, 51.512575],\n",
       "       [-0.135976, 51.512672],\n",
       "       [-0.136033, 51.512727],\n",
       "       [-0.136115, 51.512794],\n",
       "       [-0.13618 , 51.512846],\n",
       "       [-0.136083, 51.512879],\n",
       "       [-0.136139, 51.512939],\n",
       "       [-0.135329, 51.512765],\n",
       "       [-0.135122, 51.512844],\n",
       "       [-0.134645, 51.512532],\n",
       "       [-0.134522, 51.512198],\n",
       "       [-0.134967, 51.512215],\n",
       "       [-0.135098, 51.513154],\n",
       "       [-0.134394, 51.513056],\n",
       "       [-0.134505, 51.513165],\n",
       "       [-0.134437, 51.513098],\n",
       "       [-0.134594, 51.513238],\n",
       "       [-0.13464 , 51.513293],\n",
       "       [-0.134709, 51.513379],\n",
       "       [-0.134756, 51.513431],\n",
       "       [-0.135244, 51.513475],\n",
       "       [-0.134897, 51.513422],\n",
       "       [-0.135158, 51.513528],\n",
       "       [-0.135344, 51.513481],\n",
       "       [-0.135063, 51.513594],\n",
       "       [-0.135801, 51.513227],\n",
       "       [-0.135762, 51.51318 ],\n",
       "       [-0.13574 , 51.513132],\n",
       "       [-0.135645, 51.513048],\n",
       "       [-0.135602, 51.513006],\n",
       "       [-0.135501, 51.512883],\n",
       "       [-0.135832, 51.51327 ],\n",
       "       [-0.136049, 51.513459],\n",
       "       [-0.13614 , 51.513431],\n",
       "       [-0.136228, 51.513402],\n",
       "       [-0.134999, 51.512593],\n",
       "       [-0.134793, 51.512585],\n",
       "       [-0.134896, 51.512555],\n",
       "       [-0.135   , 51.512521],\n",
       "       [-0.133483, 51.513137],\n",
       "       [-0.133265, 51.513228],\n",
       "       [-0.133296, 51.513152],\n",
       "       [-0.132933, 51.513258],\n",
       "       [-0.133998, 51.513544],\n",
       "       [-0.134042, 51.513626],\n",
       "       [-0.134156, 51.513637],\n",
       "       [-0.134091, 51.513524],\n",
       "       [-0.134272, 51.51382 ],\n",
       "       [-0.13422 , 51.513724],\n",
       "       [-0.134704, 51.513704],\n",
       "       [-0.134782, 51.513831],\n",
       "       [-0.13501 , 51.513915],\n",
       "       [-0.134923, 51.513597],\n",
       "       [-0.134885, 51.514032],\n",
       "       [-0.134212, 51.513891],\n",
       "       [-0.134135, 51.513758],\n",
       "       [-0.134364, 51.514065],\n",
       "       [-0.134447, 51.514146],\n",
       "       [-0.134479, 51.514201],\n",
       "       [-0.134658, 51.51423 ],\n",
       "       [-0.134367, 51.514319],\n",
       "       [-0.134179, 51.514377],\n",
       "       [-0.13416 , 51.514357],\n",
       "       [-0.134069, 51.514382],\n",
       "       [-0.134085, 51.514402],\n",
       "       [-0.133821, 51.514522],\n",
       "       [-0.133922, 51.514497],\n",
       "       [-0.13385 , 51.514472],\n",
       "       [-0.133725, 51.514504],\n",
       "       [-0.133745, 51.514546],\n",
       "       [-0.133676, 51.514561],\n",
       "       [-0.133563, 51.514594],\n",
       "       [-0.133467, 51.514581],\n",
       "       [-0.133393, 51.514606],\n",
       "       [-0.134474, 51.515834],\n",
       "       [-0.135259, 51.515195],\n",
       "       [-0.135395, 51.515149],\n",
       "       [-0.136022, 51.514818],\n",
       "       [-0.136804, 51.514843],\n",
       "       [-0.136583, 51.514914],\n",
       "       [-0.135653, 51.514496],\n",
       "       [-0.135578, 51.514743],\n",
       "       [-0.13486 , 51.514467],\n",
       "       [-0.13469 , 51.514453],\n",
       "       [-0.134818, 51.514845],\n",
       "       [-0.135704, 51.514389],\n",
       "       [-0.135561, 51.514399],\n",
       "       [-0.135649, 51.514335],\n",
       "       [-0.135415, 51.514224],\n",
       "       [-0.135576, 51.51422 ],\n",
       "       [-0.135357, 51.514145],\n",
       "       [-0.135475, 51.514108],\n",
       "       [-0.136226, 51.514359],\n",
       "       [-0.136328, 51.514326],\n",
       "       [-0.136222, 51.514544],\n",
       "       [-0.136117, 51.514569],\n",
       "       [-0.13603 , 51.514586],\n",
       "       [-0.136266, 51.514612],\n",
       "       [-0.136421, 51.514575],\n",
       "       [-0.136935, 51.514507],\n",
       "       [-0.136931, 51.514274],\n",
       "       [-0.136799, 51.514293],\n",
       "       [-0.13678 , 51.514058],\n",
       "       [-0.136696, 51.514148],\n",
       "       [-0.136712, 51.513961],\n",
       "       [-0.136123, 51.514027],\n",
       "       [-0.135958, 51.514076],\n",
       "       [-0.135883, 51.514096],\n",
       "       [-0.135788, 51.514134],\n",
       "       [-0.135849, 51.514033],\n",
       "       [-0.136008, 51.513996],\n",
       "       [-0.136099, 51.51396 ],\n",
       "       [-0.13617 , 51.513945],\n",
       "       [-0.135485, 51.513821],\n",
       "       [-0.135374, 51.513999],\n",
       "       [-0.135582, 51.513795],\n",
       "       [-0.135679, 51.513766],\n",
       "       [-0.135814, 51.513726],\n",
       "       [-0.135905, 51.513692],\n",
       "       [-0.135992, 51.513672],\n",
       "       [-0.136217, 51.513603],\n",
       "       [-0.136579, 51.513482],\n",
       "       [-0.136675, 51.513458],\n",
       "       [-0.136764, 51.513429],\n",
       "       [-0.136877, 51.513404],\n",
       "       [-0.136953, 51.513359],\n",
       "       [-0.13723 , 51.513378],\n",
       "       [-0.136651, 51.513855],\n",
       "       [-0.136503, 51.513875],\n",
       "       [-0.137367, 51.513565],\n",
       "       [-0.137422, 51.513616],\n",
       "       [-0.137472, 51.513742],\n",
       "       [-0.1383  , 51.513918],\n",
       "       [-0.137363, 51.513772],\n",
       "       [-0.137995, 51.513502],\n",
       "       [-0.138139, 51.513712],\n",
       "       [-0.138239, 51.513644],\n",
       "       [-0.138272, 51.513711],\n",
       "       [-0.138083, 51.514061],\n",
       "       [-0.137912, 51.514748],\n",
       "       [-0.137707, 51.514794],\n",
       "       [-0.137108, 51.514526],\n",
       "       [-0.137065, 51.514706],\n",
       "       [-0.138474, 51.512311],\n",
       "       [-0.138123, 51.511998],\n",
       "       [-0.137762, 51.511856]])"
      ]
     },
     "execution_count": 7,
     "metadata": {},
     "output_type": "execute_result"
    }
   ],
   "source": [
    "points_deaths = np.array([[lon,lat] for lat,lon in deaths_df[['LAT','LON']].values])\n",
    "\n",
    "points_deaths"
   ]
  },
  {
   "cell_type": "markdown",
   "metadata": {},
   "source": [
    "## Combine all the points to generate the alpha shape"
   ]
  },
  {
   "cell_type": "code",
   "execution_count": 8,
   "metadata": {},
   "outputs": [],
   "source": [
    "points = np.concatenate((points_pumps, points_deaths), axis=0)"
   ]
  },
  {
   "cell_type": "code",
   "execution_count": 9,
   "metadata": {},
   "outputs": [],
   "source": [
    "import matplotlib.pyplot as plt\n",
    "\n",
    "%matplotlib inline"
   ]
  },
  {
   "cell_type": "markdown",
   "metadata": {},
   "source": [
    "### Display all points"
   ]
  },
  {
   "cell_type": "code",
   "execution_count": 10,
   "metadata": {},
   "outputs": [
    {
     "data": {
      "image/png": "[encoded data removed]",
      "text/plain": [
       "<Figure size 432x288 with 1 Axes>"
      ]
     },
     "metadata": {
      "needs_background": "light"
     },
     "output_type": "display_data"
    }
   ],
   "source": [
    "fig, ax = plt.subplots()\n",
    "ax.scatter(*zip(*points))\n",
    "plt.show()"
   ]
  },
  {
   "cell_type": "markdown",
   "metadata": {},
   "source": [
    "## Generate the alpha shape using combined points"
   ]
  },
  {
   "cell_type": "code",
   "execution_count": 11,
   "metadata": {},
   "outputs": [],
   "source": [
    "import alphashape"
   ]
  },
  {
   "cell_type": "code",
   "execution_count": 12,
   "metadata": {},
   "outputs": [
    {
     "data": {
      "text/plain": [
       "shapely.geometry.polygon.Polygon"
      ]
     },
     "execution_count": 12,
     "metadata": {},
     "output_type": "execute_result"
    }
   ],
   "source": [
    "alpha_shape = alphashape.alphashape(points, 0.)\n",
    "\n",
    "type(alpha_shape)"
   ]
  },
  {
   "cell_type": "code",
   "execution_count": 13,
   "metadata": {},
   "outputs": [
    {
     "data": {
      "image/svg+xml": [
       "<svg xmlns=\"http://www.w3.org/2000/svg\" xmlns:xlink=\"http://www.w3.org/1999/xlink\" width=\"100.0\" height=\"100.0\" viewBox=\"-0.14041176 51.50968124 0.009119519999999992 0.006490519999999833\" preserveAspectRatio=\"xMinYMin meet\"><g transform=\"matrix(1,0,0,-1,0,103.025853)\"><path fill-rule=\"evenodd\" fill=\"#66cc99\" stroke=\"#555555\" stroke-width=\"0.00018239039999999983\" opacity=\"0.6\" d=\"M -0.133962,51.510019 L -0.138199,51.511295 L -0.140074,51.513298 L -0.139671,51.514906 L -0.134474,51.515834 L -0.133393,51.514606 L -0.13163,51.512354 L -0.133962,51.510019 z\" /></g></svg>"
      ],
      "text/plain": [
       "<shapely.geometry.polygon.Polygon at 0x7f9eb48d0070>"
      ]
     },
     "execution_count": 13,
     "metadata": {},
     "output_type": "execute_result"
    }
   ],
   "source": [
    "alpha_shape"
   ]
  },
  {
   "cell_type": "code",
   "execution_count": 14,
   "metadata": {},
   "outputs": [],
   "source": [
    "from descartes import PolygonPatch"
   ]
  },
  {
   "cell_type": "code",
   "execution_count": 15,
   "metadata": {},
   "outputs": [
    {
     "data": {
      "image/png": "[encoded data removed]",
      "text/plain": [
       "<Figure size 432x288 with 1 Axes>"
      ]
     },
     "metadata": {
      "needs_background": "light"
     },
     "output_type": "display_data"
    }
   ],
   "source": [
    "fig, ax = plt.subplots()\n",
    "ax.scatter(*zip(*points))\n",
    "ax.add_patch(PolygonPatch(alpha_shape, alpha=0.2))\n",
    "plt.show()"
   ]
  },
  {
   "cell_type": "markdown",
   "metadata": {},
   "source": [
    "## Use the Polygon `buffer()` function to expand the alpha shape boundary"
   ]
  },
  {
   "cell_type": "code",
   "execution_count": 16,
   "metadata": {},
   "outputs": [
    {
     "data": {
      "text/plain": [
       "shapely.geometry.polygon.Polygon"
      ]
     },
     "execution_count": 16,
     "metadata": {},
     "output_type": "execute_result"
    }
   ],
   "source": [
    "alpha_shape = alphashape.alphashape(points, 2.0).buffer(0.002)\n",
    "\n",
    "type(alpha_shape)"
   ]
  },
  {
   "cell_type": "code",
   "execution_count": 17,
   "metadata": {},
   "outputs": [
    {
     "data": {
      "image/png": "[encoded data removed]",
      "text/plain": [
       "<Figure size 432x288 with 1 Axes>"
      ]
     },
     "metadata": {
      "needs_background": "light"
     },
     "output_type": "display_data"
    }
   ],
   "source": [
    "fig, ax = plt.subplots()\n",
    "ax.scatter(*zip(*points))\n",
    "ax.add_patch(PolygonPatch(alpha_shape, alpha=0.2))\n",
    "plt.show()"
   ]
  },
  {
   "cell_type": "markdown",
   "metadata": {},
   "source": [
    "## Plot the convex hull polygon generated using `alphashape`"
   ]
  },
  {
   "cell_type": "markdown",
   "metadata": {},
   "source": [
    "The code below can be used to generate a Geopandas geodataframe to hold the convex hull geometry."
   ]
  },
  {
   "cell_type": "code",
   "execution_count": 18,
   "metadata": {},
   "outputs": [
    {
     "data": {
      "text/plain": [
       "[<matplotlib.lines.Line2D at 0x7f9ea2bfc130>]"
      ]
     },
     "execution_count": 18,
     "metadata": {},
     "output_type": "execute_result"
    },
    {
     "data": {
      "image/png": "[encoded data removed]",
      "text/plain": [
       "<Figure size 432x288 with 1 Axes>"
      ]
     },
     "metadata": {
      "needs_background": "light"
     },
     "output_type": "display_data"
    }
   ],
   "source": [
    "x,y = alpha_shape.exterior.xy\n",
    "\n",
    "plt.plot(x, y, color='#6699cc', alpha=0.7,\n",
    "    linewidth=3, solid_capstyle='round', zorder=2)"
   ]
  },
  {
   "cell_type": "markdown",
   "metadata": {},
   "source": [
    "## References"
   ]
  },
  {
   "cell_type": "markdown",
   "metadata": {},
   "source": [
    "1. Alphashape Reference: https://github.com/bellockk/alphashape"
   ]
  },
  {
   "cell_type": "code",
   "execution_count": null,
   "metadata": {},
   "outputs": [],
   "source": []
  }
 ],
 "metadata": {
  "kernelspec": {
   "display_name": "Python 3 (ipykernel)",
   "language": "python",
   "name": "python3"
  },
  "language_info": {
   "codemirror_mode": {
    "name": "ipython",
    "version": 3
   },
   "file_extension": ".py",
   "mimetype": "text/x-python",
   "name": "python",
   "nbconvert_exporter": "python",
   "pygments_lexer": "ipython3",
   "version": "3.9.7"
  }
 },
 "nbformat": 4,
 "nbformat_minor": 4
}
