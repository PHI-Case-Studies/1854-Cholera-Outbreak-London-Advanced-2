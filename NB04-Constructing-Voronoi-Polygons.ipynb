{
 "cells": [
  {
   "cell_type": "code",
   "execution_count": 1,
   "metadata": {},
   "outputs": [],
   "source": [
    "%run resources/library.py"
   ]
  },
  {
   "cell_type": "markdown",
   "metadata": {},
   "source": [
    "# Notebook 4: Constructing Voronoi Polygons"
   ]
  },
  {
   "cell_type": "markdown",
   "metadata": {},
   "source": [
    "## The `voronoi_finite_polygons_2d` function"
   ]
  },
  {
   "cell_type": "markdown",
   "metadata": {},
   "source": [
    "The code below is a function to create 2d voronoi polygons given seed points. This code augments the native `Voronoi()` function in the Scipy Spatial package by closing infinite vertices.\n",
    "\n",
    "In this case, we use the pumps as seed points."
   ]
  },
  {
   "cell_type": "code",
   "execution_count": 2,
   "metadata": {},
   "outputs": [
    {
     "name": "stdout",
     "output_type": "stream",
     "text": [
      "Overwriting resources/voronoi2.py\n"
     ]
    }
   ],
   "source": [
    "%%writefile resources/voronoi2.py\n",
    "# https://gist.github.com/pv/8036995\n",
    "import numpy as np\n",
    "\n",
    "def voronoi_finite_polygons_2d(vor, radius=None):\n",
    "    \"\"\"\n",
    "    Reconstruct infinite voronoi regions in a 2D diagram to finite\n",
    "    regions.\n",
    "    Parameters\n",
    "    ----------\n",
    "    vor : Voronoi\n",
    "        Input diagram\n",
    "    radius : float, optional\n",
    "        Distance to 'points at infinity'.\n",
    "    Returns\n",
    "    -------\n",
    "    regions : list of tuples\n",
    "        Indices of vertices in each revised Voronoi regions.\n",
    "    vertices : list of tuples\n",
    "        Coordinates for revised Voronoi vertices. Same as coordinates\n",
    "        of input vertices, with 'points at infinity' appended to the\n",
    "        end.\n",
    "    \"\"\"\n",
    "\n",
    "    if vor.points.shape[1] != 2:\n",
    "        raise ValueError(\"Requires 2D input\")\n",
    "\n",
    "    new_regions = []\n",
    "    new_vertices = vor.vertices.tolist()\n",
    "\n",
    "    center = vor.points.mean(axis=0)\n",
    "    if radius is None:\n",
    "        radius = vor.points.ptp().max()*2\n",
    "\n",
    "    # Construct a map containing all ridges for a given point\n",
    "    all_ridges = {}\n",
    "    for (p1, p2), (v1, v2) in zip(vor.ridge_points, vor.ridge_vertices):\n",
    "        all_ridges.setdefault(p1, []).append((p2, v1, v2))\n",
    "        all_ridges.setdefault(p2, []).append((p1, v1, v2))\n",
    "\n",
    "    # Reconstruct infinite regions\n",
    "    for p1, region in enumerate(vor.point_region):\n",
    "        vertices = vor.regions[region]\n",
    "\n",
    "        if all(v >= 0 for v in vertices):\n",
    "            # finite region\n",
    "            new_regions.append(vertices)\n",
    "            continue\n",
    "\n",
    "        # reconstruct a non-finite region\n",
    "        ridges = all_ridges[p1]\n",
    "        new_region = [v for v in vertices if v >= 0]\n",
    "\n",
    "        for p2, v1, v2 in ridges:\n",
    "            if v2 < 0:\n",
    "                v1, v2 = v2, v1\n",
    "            if v1 >= 0:\n",
    "                # finite ridge: already in the region\n",
    "                continue\n",
    "\n",
    "            # Compute the missing endpoint of an infinite ridge\n",
    "\n",
    "            t = vor.points[p2] - vor.points[p1] # tangent\n",
    "            t /= np.linalg.norm(t)\n",
    "            n = np.array([-t[1], t[0]])  # normal\n",
    "\n",
    "            midpoint = vor.points[[p1, p2]].mean(axis=0)\n",
    "            direction = np.sign(np.dot(midpoint - center, n)) * n\n",
    "            far_point = vor.vertices[v2] + direction * radius\n",
    "\n",
    "            new_region.append(len(new_vertices))\n",
    "            new_vertices.append(far_point.tolist())\n",
    "\n",
    "        # sort region counterclockwise\n",
    "        vs = np.asarray([new_vertices[v] for v in new_region])\n",
    "        c = vs.mean(axis=0)\n",
    "        angles = np.arctan2(vs[:,1] - c[1], vs[:,0] - c[0])\n",
    "        new_region = np.array(new_region)[np.argsort(angles)]\n",
    "\n",
    "        # finish\n",
    "        new_regions.append(new_region.tolist())\n",
    "\n",
    "    return new_regions, np.asarray(new_vertices)"
   ]
  },
  {
   "cell_type": "markdown",
   "metadata": {},
   "source": [
    "## Load Cholera data"
   ]
  },
  {
   "cell_type": "code",
   "execution_count": 3,
   "metadata": {},
   "outputs": [],
   "source": [
    "import pandas as pd"
   ]
  },
  {
   "cell_type": "code",
   "execution_count": 4,
   "metadata": {},
   "outputs": [
    {
     "data": {
      "text/html": [
       "<div>\n",
       "<style scoped>\n",
       "    .dataframe tbody tr th:only-of-type {\n",
       "        vertical-align: middle;\n",
       "    }\n",
       "\n",
       "    .dataframe tbody tr th {\n",
       "        vertical-align: top;\n",
       "    }\n",
       "\n",
       "    .dataframe thead th {\n",
       "        text-align: right;\n",
       "    }\n",
       "</style>\n",
       "<table border=\"1\" class=\"dataframe\">\n",
       "  <thead>\n",
       "    <tr style=\"text-align: right;\">\n",
       "      <th></th>\n",
       "      <th>FID</th>\n",
       "      <th>LON</th>\n",
       "      <th>LAT</th>\n",
       "      <th>Street</th>\n",
       "    </tr>\n",
       "  </thead>\n",
       "  <tbody>\n",
       "    <tr>\n",
       "      <th>0</th>\n",
       "      <td>250</td>\n",
       "      <td>-0.136668</td>\n",
       "      <td>51.513341</td>\n",
       "      <td>Broadwick Street</td>\n",
       "    </tr>\n",
       "    <tr>\n",
       "      <th>1</th>\n",
       "      <td>251</td>\n",
       "      <td>-0.139586</td>\n",
       "      <td>51.513876</td>\n",
       "      <td>Kingly Street</td>\n",
       "    </tr>\n",
       "    <tr>\n",
       "      <th>2</th>\n",
       "      <td>252</td>\n",
       "      <td>-0.139671</td>\n",
       "      <td>51.514906</td>\n",
       "      <td>Ramillies Place</td>\n",
       "    </tr>\n",
       "    <tr>\n",
       "      <th>3</th>\n",
       "      <td>253</td>\n",
       "      <td>-0.131630</td>\n",
       "      <td>51.512354</td>\n",
       "      <td>Dean Street</td>\n",
       "    </tr>\n",
       "    <tr>\n",
       "      <th>4</th>\n",
       "      <td>254</td>\n",
       "      <td>-0.133594</td>\n",
       "      <td>51.512139</td>\n",
       "      <td>Rupert Street</td>\n",
       "    </tr>\n",
       "    <tr>\n",
       "      <th>5</th>\n",
       "      <td>255</td>\n",
       "      <td>-0.135919</td>\n",
       "      <td>51.511542</td>\n",
       "      <td>Bridle Lane</td>\n",
       "    </tr>\n",
       "    <tr>\n",
       "      <th>6</th>\n",
       "      <td>256</td>\n",
       "      <td>-0.133962</td>\n",
       "      <td>51.510019</td>\n",
       "      <td>Regent Street</td>\n",
       "    </tr>\n",
       "    <tr>\n",
       "      <th>7</th>\n",
       "      <td>257</td>\n",
       "      <td>-0.138199</td>\n",
       "      <td>51.511295</td>\n",
       "      <td>Warwick Street</td>\n",
       "    </tr>\n",
       "  </tbody>\n",
       "</table>\n",
       "</div>"
      ],
      "text/plain": [
       "   FID       LON        LAT            Street\n",
       "0  250 -0.136668  51.513341  Broadwick Street\n",
       "1  251 -0.139586  51.513876     Kingly Street\n",
       "2  252 -0.139671  51.514906   Ramillies Place\n",
       "3  253 -0.131630  51.512354       Dean Street\n",
       "4  254 -0.133594  51.512139     Rupert Street\n",
       "5  255 -0.135919  51.511542       Bridle Lane\n",
       "6  256 -0.133962  51.510019     Regent Street\n",
       "7  257 -0.138199  51.511295    Warwick Street"
      ]
     },
     "execution_count": 4,
     "metadata": {},
     "output_type": "execute_result"
    }
   ],
   "source": [
    "pumps_df = pd.read_csv('data/pumps.csv')\n",
    "\n",
    "pumps_df"
   ]
  },
  {
   "cell_type": "code",
   "execution_count": 5,
   "metadata": {},
   "outputs": [
    {
     "data": {
      "text/html": [
       "<div>\n",
       "<style scoped>\n",
       "    .dataframe tbody tr th:only-of-type {\n",
       "        vertical-align: middle;\n",
       "    }\n",
       "\n",
       "    .dataframe tbody tr th {\n",
       "        vertical-align: top;\n",
       "    }\n",
       "\n",
       "    .dataframe thead th {\n",
       "        text-align: right;\n",
       "    }\n",
       "</style>\n",
       "<table border=\"1\" class=\"dataframe\">\n",
       "  <thead>\n",
       "    <tr style=\"text-align: right;\">\n",
       "      <th></th>\n",
       "      <th>FID</th>\n",
       "      <th>DEATHS</th>\n",
       "      <th>LON</th>\n",
       "      <th>LAT</th>\n",
       "    </tr>\n",
       "  </thead>\n",
       "  <tbody>\n",
       "    <tr>\n",
       "      <th>0</th>\n",
       "      <td>0</td>\n",
       "      <td>3</td>\n",
       "      <td>-0.137930</td>\n",
       "      <td>51.513418</td>\n",
       "    </tr>\n",
       "    <tr>\n",
       "      <th>1</th>\n",
       "      <td>1</td>\n",
       "      <td>2</td>\n",
       "      <td>-0.137883</td>\n",
       "      <td>51.513361</td>\n",
       "    </tr>\n",
       "    <tr>\n",
       "      <th>2</th>\n",
       "      <td>2</td>\n",
       "      <td>1</td>\n",
       "      <td>-0.137853</td>\n",
       "      <td>51.513317</td>\n",
       "    </tr>\n",
       "    <tr>\n",
       "      <th>3</th>\n",
       "      <td>3</td>\n",
       "      <td>1</td>\n",
       "      <td>-0.137812</td>\n",
       "      <td>51.513262</td>\n",
       "    </tr>\n",
       "    <tr>\n",
       "      <th>4</th>\n",
       "      <td>4</td>\n",
       "      <td>4</td>\n",
       "      <td>-0.137767</td>\n",
       "      <td>51.513204</td>\n",
       "    </tr>\n",
       "  </tbody>\n",
       "</table>\n",
       "</div>"
      ],
      "text/plain": [
       "   FID  DEATHS       LON        LAT\n",
       "0    0       3 -0.137930  51.513418\n",
       "1    1       2 -0.137883  51.513361\n",
       "2    2       1 -0.137853  51.513317\n",
       "3    3       1 -0.137812  51.513262\n",
       "4    4       4 -0.137767  51.513204"
      ]
     },
     "execution_count": 5,
     "metadata": {},
     "output_type": "execute_result"
    }
   ],
   "source": [
    "deaths_df = pd.read_csv('data/cholera_deaths.csv')\n",
    "\n",
    "deaths_df.head()"
   ]
  },
  {
   "cell_type": "code",
   "execution_count": 6,
   "metadata": {},
   "outputs": [],
   "source": [
    "import numpy as np"
   ]
  },
  {
   "cell_type": "markdown",
   "metadata": {},
   "source": [
    "## Create points lists (arrays) out of the Cholera data"
   ]
  },
  {
   "cell_type": "code",
   "execution_count": 7,
   "metadata": {},
   "outputs": [
    {
     "data": {
      "text/plain": [
       "array([[-0.136668, 51.513341],\n",
       "       [-0.139586, 51.513876],\n",
       "       [-0.139671, 51.514906],\n",
       "       [-0.13163 , 51.512354],\n",
       "       [-0.133594, 51.512139],\n",
       "       [-0.135919, 51.511542],\n",
       "       [-0.133962, 51.510019],\n",
       "       [-0.138199, 51.511295]])"
      ]
     },
     "execution_count": 7,
     "metadata": {},
     "output_type": "execute_result"
    }
   ],
   "source": [
    "points_pumps = np.array([[lon,lat] for lat,lon in pumps_df[['LAT','LON']].values])\n",
    "\n",
    "points_pumps"
   ]
  },
  {
   "cell_type": "code",
   "execution_count": 8,
   "metadata": {
    "scrolled": true,
    "tags": []
   },
   "outputs": [
    {
     "data": {
      "text/plain": [
       "array([[-0.13793 , 51.513418],\n",
       "       [-0.137883, 51.513361],\n",
       "       [-0.137853, 51.513317],\n",
       "       [-0.137812, 51.513262],\n",
       "       [-0.137767, 51.513204],\n",
       "       [-0.137537, 51.513184],\n",
       "       [-0.1382  , 51.513359],\n",
       "       [-0.138045, 51.513328],\n",
       "       [-0.138276, 51.513323],\n",
       "       [-0.138223, 51.513427],\n",
       "       [-0.138337, 51.513381],\n",
       "       [-0.138563, 51.513462],\n",
       "       [-0.138426, 51.513216],\n",
       "       [-0.138378, 51.513169],\n",
       "       [-0.138337, 51.513116],\n",
       "       [-0.138645, 51.51324 ],\n",
       "       [-0.138698, 51.513164],\n",
       "       [-0.137924, 51.513178],\n",
       "       [-0.137865, 51.513111],\n",
       "       [-0.137811, 51.513055],\n",
       "       [-0.138762, 51.513441],\n",
       "       [-0.138799, 51.513592],\n",
       "       [-0.139045, 51.513402],\n",
       "       [-0.13897 , 51.51338 ],\n",
       "       [-0.138863, 51.513411],\n",
       "       [-0.138752, 51.513641],\n",
       "       [-0.138808, 51.513693],\n",
       "       [-0.138856, 51.513745],\n",
       "       [-0.138887, 51.513676],\n",
       "       [-0.139239, 51.51359 ],\n",
       "       [-0.139321, 51.513663],\n",
       "       [-0.139316, 51.513502],\n",
       "       [-0.139616, 51.513583],\n",
       "       [-0.139719, 51.513541],\n",
       "       [-0.140074, 51.513298],\n",
       "       [-0.139094, 51.513291],\n",
       "       [-0.139697, 51.513013],\n",
       "       [-0.139327, 51.512965],\n",
       "       [-0.139317, 51.512893],\n",
       "       [-0.139187, 51.512964],\n",
       "       [-0.139036, 51.513025],\n",
       "       [-0.139209, 51.513027],\n",
       "       [-0.138427, 51.512831],\n",
       "       [-0.138624, 51.512885],\n",
       "       [-0.138096, 51.512526],\n",
       "       [-0.138035, 51.512465],\n",
       "       [-0.137984, 51.512428],\n",
       "       [-0.138065, 51.512415],\n",
       "       [-0.138194, 51.51251 ],\n",
       "       [-0.137818, 51.512378],\n",
       "       [-0.137656, 51.512447],\n",
       "       [-0.137584, 51.512491],\n",
       "       [-0.13765 , 51.512374],\n",
       "       [-0.13745 , 51.512339],\n",
       "       [-0.137376, 51.512364],\n",
       "       [-0.137327, 51.512319],\n",
       "       [-0.13698 , 51.51254 ],\n",
       "       [-0.13718 , 51.512649],\n",
       "       [-0.137052, 51.512692],\n",
       "       [-0.137695, 51.512957],\n",
       "       [-0.137533, 51.512765],\n",
       "       [-0.137419, 51.51278 ],\n",
       "       [-0.137368, 51.512726],\n",
       "       [-0.137325, 51.512681],\n",
       "       [-0.137531, 51.512914],\n",
       "       [-0.137562, 51.513046],\n",
       "       [-0.137466, 51.513074],\n",
       "       [-0.137386, 51.513087],\n",
       "       [-0.137306, 51.513122],\n",
       "       [-0.137089, 51.513187],\n",
       "       [-0.136996, 51.513214],\n",
       "       [-0.136859, 51.513249],\n",
       "       [-0.136778, 51.513271],\n",
       "       [-0.136705, 51.5133  ],\n",
       "       [-0.136493, 51.51316 ],\n",
       "       [-0.13633 , 51.513016],\n",
       "       [-0.136424, 51.512921],\n",
       "       [-0.136523, 51.51289 ],\n",
       "       [-0.136599, 51.512859],\n",
       "       [-0.136699, 51.51283 ],\n",
       "       [-0.136819, 51.512782],\n",
       "       [-0.136973, 51.512729],\n",
       "       [-0.136358, 51.512868],\n",
       "       [-0.13663 , 51.512723],\n",
       "       [-0.136584, 51.512654],\n",
       "       [-0.136423, 51.512713],\n",
       "       [-0.136345, 51.512615],\n",
       "       [-0.136437, 51.512491],\n",
       "       [-0.136377, 51.512449],\n",
       "       [-0.136197, 51.512465],\n",
       "       [-0.136142, 51.512413],\n",
       "       [-0.136102, 51.512358],\n",
       "       [-0.13603 , 51.512271],\n",
       "       [-0.13631 , 51.512355],\n",
       "       [-0.13594 , 51.511991],\n",
       "       [-0.135858, 51.512083],\n",
       "       [-0.1358  , 51.512031],\n",
       "       [-0.135717, 51.51197 ],\n",
       "       [-0.135119, 51.511882],\n",
       "       [-0.135144, 51.51205 ],\n",
       "       [-0.135394, 51.51225 ],\n",
       "       [-0.135409, 51.512162],\n",
       "       [-0.135472, 51.512212],\n",
       "       [-0.135765, 51.512573],\n",
       "       [-0.135871, 51.512575],\n",
       "       [-0.135976, 51.512672],\n",
       "       [-0.136033, 51.512727],\n",
       "       [-0.136115, 51.512794],\n",
       "       [-0.13618 , 51.512846],\n",
       "       [-0.136083, 51.512879],\n",
       "       [-0.136139, 51.512939],\n",
       "       [-0.135329, 51.512765],\n",
       "       [-0.135122, 51.512844],\n",
       "       [-0.134645, 51.512532],\n",
       "       [-0.134522, 51.512198],\n",
       "       [-0.134967, 51.512215],\n",
       "       [-0.135098, 51.513154],\n",
       "       [-0.134394, 51.513056],\n",
       "       [-0.134505, 51.513165],\n",
       "       [-0.134437, 51.513098],\n",
       "       [-0.134594, 51.513238],\n",
       "       [-0.13464 , 51.513293],\n",
       "       [-0.134709, 51.513379],\n",
       "       [-0.134756, 51.513431],\n",
       "       [-0.135244, 51.513475],\n",
       "       [-0.134897, 51.513422],\n",
       "       [-0.135158, 51.513528],\n",
       "       [-0.135344, 51.513481],\n",
       "       [-0.135063, 51.513594],\n",
       "       [-0.135801, 51.513227],\n",
       "       [-0.135762, 51.51318 ],\n",
       "       [-0.13574 , 51.513132],\n",
       "       [-0.135645, 51.513048],\n",
       "       [-0.135602, 51.513006],\n",
       "       [-0.135501, 51.512883],\n",
       "       [-0.135832, 51.51327 ],\n",
       "       [-0.136049, 51.513459],\n",
       "       [-0.13614 , 51.513431],\n",
       "       [-0.136228, 51.513402],\n",
       "       [-0.134999, 51.512593],\n",
       "       [-0.134793, 51.512585],\n",
       "       [-0.134896, 51.512555],\n",
       "       [-0.135   , 51.512521],\n",
       "       [-0.133483, 51.513137],\n",
       "       [-0.133265, 51.513228],\n",
       "       [-0.133296, 51.513152],\n",
       "       [-0.132933, 51.513258],\n",
       "       [-0.133998, 51.513544],\n",
       "       [-0.134042, 51.513626],\n",
       "       [-0.134156, 51.513637],\n",
       "       [-0.134091, 51.513524],\n",
       "       [-0.134272, 51.51382 ],\n",
       "       [-0.13422 , 51.513724],\n",
       "       [-0.134704, 51.513704],\n",
       "       [-0.134782, 51.513831],\n",
       "       [-0.13501 , 51.513915],\n",
       "       [-0.134923, 51.513597],\n",
       "       [-0.134885, 51.514032],\n",
       "       [-0.134212, 51.513891],\n",
       "       [-0.134135, 51.513758],\n",
       "       [-0.134364, 51.514065],\n",
       "       [-0.134447, 51.514146],\n",
       "       [-0.134479, 51.514201],\n",
       "       [-0.134658, 51.51423 ],\n",
       "       [-0.134367, 51.514319],\n",
       "       [-0.134179, 51.514377],\n",
       "       [-0.13416 , 51.514357],\n",
       "       [-0.134069, 51.514382],\n",
       "       [-0.134085, 51.514402],\n",
       "       [-0.133821, 51.514522],\n",
       "       [-0.133922, 51.514497],\n",
       "       [-0.13385 , 51.514472],\n",
       "       [-0.133725, 51.514504],\n",
       "       [-0.133745, 51.514546],\n",
       "       [-0.133676, 51.514561],\n",
       "       [-0.133563, 51.514594],\n",
       "       [-0.133467, 51.514581],\n",
       "       [-0.133393, 51.514606],\n",
       "       [-0.134474, 51.515834],\n",
       "       [-0.135259, 51.515195],\n",
       "       [-0.135395, 51.515149],\n",
       "       [-0.136022, 51.514818],\n",
       "       [-0.136804, 51.514843],\n",
       "       [-0.136583, 51.514914],\n",
       "       [-0.135653, 51.514496],\n",
       "       [-0.135578, 51.514743],\n",
       "       [-0.13486 , 51.514467],\n",
       "       [-0.13469 , 51.514453],\n",
       "       [-0.134818, 51.514845],\n",
       "       [-0.135704, 51.514389],\n",
       "       [-0.135561, 51.514399],\n",
       "       [-0.135649, 51.514335],\n",
       "       [-0.135415, 51.514224],\n",
       "       [-0.135576, 51.51422 ],\n",
       "       [-0.135357, 51.514145],\n",
       "       [-0.135475, 51.514108],\n",
       "       [-0.136226, 51.514359],\n",
       "       [-0.136328, 51.514326],\n",
       "       [-0.136222, 51.514544],\n",
       "       [-0.136117, 51.514569],\n",
       "       [-0.13603 , 51.514586],\n",
       "       [-0.136266, 51.514612],\n",
       "       [-0.136421, 51.514575],\n",
       "       [-0.136935, 51.514507],\n",
       "       [-0.136931, 51.514274],\n",
       "       [-0.136799, 51.514293],\n",
       "       [-0.13678 , 51.514058],\n",
       "       [-0.136696, 51.514148],\n",
       "       [-0.136712, 51.513961],\n",
       "       [-0.136123, 51.514027],\n",
       "       [-0.135958, 51.514076],\n",
       "       [-0.135883, 51.514096],\n",
       "       [-0.135788, 51.514134],\n",
       "       [-0.135849, 51.514033],\n",
       "       [-0.136008, 51.513996],\n",
       "       [-0.136099, 51.51396 ],\n",
       "       [-0.13617 , 51.513945],\n",
       "       [-0.135485, 51.513821],\n",
       "       [-0.135374, 51.513999],\n",
       "       [-0.135582, 51.513795],\n",
       "       [-0.135679, 51.513766],\n",
       "       [-0.135814, 51.513726],\n",
       "       [-0.135905, 51.513692],\n",
       "       [-0.135992, 51.513672],\n",
       "       [-0.136217, 51.513603],\n",
       "       [-0.136579, 51.513482],\n",
       "       [-0.136675, 51.513458],\n",
       "       [-0.136764, 51.513429],\n",
       "       [-0.136877, 51.513404],\n",
       "       [-0.136953, 51.513359],\n",
       "       [-0.13723 , 51.513378],\n",
       "       [-0.136651, 51.513855],\n",
       "       [-0.136503, 51.513875],\n",
       "       [-0.137367, 51.513565],\n",
       "       [-0.137422, 51.513616],\n",
       "       [-0.137472, 51.513742],\n",
       "       [-0.1383  , 51.513918],\n",
       "       [-0.137363, 51.513772],\n",
       "       [-0.137995, 51.513502],\n",
       "       [-0.138139, 51.513712],\n",
       "       [-0.138239, 51.513644],\n",
       "       [-0.138272, 51.513711],\n",
       "       [-0.138083, 51.514061],\n",
       "       [-0.137912, 51.514748],\n",
       "       [-0.137707, 51.514794],\n",
       "       [-0.137108, 51.514526],\n",
       "       [-0.137065, 51.514706],\n",
       "       [-0.138474, 51.512311],\n",
       "       [-0.138123, 51.511998],\n",
       "       [-0.137762, 51.511856]])"
      ]
     },
     "execution_count": 8,
     "metadata": {},
     "output_type": "execute_result"
    }
   ],
   "source": [
    "points_deaths = np.array([[lon,lat] for lat,lon in deaths_df[['LAT','LON']].values])\n",
    "\n",
    "points_deaths"
   ]
  },
  {
   "cell_type": "markdown",
   "metadata": {},
   "source": [
    "## Create Geopandas geodataframes out of pumps and deaths data"
   ]
  },
  {
   "cell_type": "code",
   "execution_count": 9,
   "metadata": {},
   "outputs": [],
   "source": [
    "from shapely.geometry import Polygon, Point, MultiPoint\n",
    "import geopandas as gpd"
   ]
  },
  {
   "cell_type": "code",
   "execution_count": 10,
   "metadata": {},
   "outputs": [
    {
     "data": {
      "text/plain": [
       "<AxesSubplot:>"
      ]
     },
     "execution_count": 10,
     "metadata": {},
     "output_type": "execute_result"
    },
    {
     "data": {
      "image/png": "[encoded data removed]",
      "text/plain": [
       "<Figure size 432x288 with 1 Axes>"
      ]
     },
     "metadata": {
      "needs_background": "light"
     },
     "output_type": "display_data"
    }
   ],
   "source": [
    "crs = 'EPSG:4326'\n",
    "pumps_geometry = [Point(xy) for xy in zip(pumps_df.LON,pumps_df.LAT)]\n",
    "pumps_gdf = gpd.GeoDataFrame(pumps_df.drop(['LON', 'LAT'], axis=1), crs=crs, geometry=pumps_geometry)\n",
    "\n",
    "pumps_gdf.plot()"
   ]
  },
  {
   "cell_type": "code",
   "execution_count": 11,
   "metadata": {},
   "outputs": [
    {
     "data": {
      "text/html": [
       "<div>\n",
       "<style scoped>\n",
       "    .dataframe tbody tr th:only-of-type {\n",
       "        vertical-align: middle;\n",
       "    }\n",
       "\n",
       "    .dataframe tbody tr th {\n",
       "        vertical-align: top;\n",
       "    }\n",
       "\n",
       "    .dataframe thead th {\n",
       "        text-align: right;\n",
       "    }\n",
       "</style>\n",
       "<table border=\"1\" class=\"dataframe\">\n",
       "  <thead>\n",
       "    <tr style=\"text-align: right;\">\n",
       "      <th></th>\n",
       "      <th>FID</th>\n",
       "      <th>Street</th>\n",
       "      <th>geometry</th>\n",
       "    </tr>\n",
       "  </thead>\n",
       "  <tbody>\n",
       "    <tr>\n",
       "      <th>0</th>\n",
       "      <td>250</td>\n",
       "      <td>Broadwick Street</td>\n",
       "      <td>POINT (-0.13667 51.51334)</td>\n",
       "    </tr>\n",
       "    <tr>\n",
       "      <th>1</th>\n",
       "      <td>251</td>\n",
       "      <td>Kingly Street</td>\n",
       "      <td>POINT (-0.13959 51.51388)</td>\n",
       "    </tr>\n",
       "    <tr>\n",
       "      <th>2</th>\n",
       "      <td>252</td>\n",
       "      <td>Ramillies Place</td>\n",
       "      <td>POINT (-0.13967 51.51491)</td>\n",
       "    </tr>\n",
       "    <tr>\n",
       "      <th>3</th>\n",
       "      <td>253</td>\n",
       "      <td>Dean Street</td>\n",
       "      <td>POINT (-0.13163 51.51235)</td>\n",
       "    </tr>\n",
       "    <tr>\n",
       "      <th>4</th>\n",
       "      <td>254</td>\n",
       "      <td>Rupert Street</td>\n",
       "      <td>POINT (-0.13359 51.51214)</td>\n",
       "    </tr>\n",
       "    <tr>\n",
       "      <th>5</th>\n",
       "      <td>255</td>\n",
       "      <td>Bridle Lane</td>\n",
       "      <td>POINT (-0.13592 51.51154)</td>\n",
       "    </tr>\n",
       "    <tr>\n",
       "      <th>6</th>\n",
       "      <td>256</td>\n",
       "      <td>Regent Street</td>\n",
       "      <td>POINT (-0.13396 51.51002)</td>\n",
       "    </tr>\n",
       "    <tr>\n",
       "      <th>7</th>\n",
       "      <td>257</td>\n",
       "      <td>Warwick Street</td>\n",
       "      <td>POINT (-0.13820 51.51129)</td>\n",
       "    </tr>\n",
       "  </tbody>\n",
       "</table>\n",
       "</div>"
      ],
      "text/plain": [
       "   FID            Street                   geometry\n",
       "0  250  Broadwick Street  POINT (-0.13667 51.51334)\n",
       "1  251     Kingly Street  POINT (-0.13959 51.51388)\n",
       "2  252   Ramillies Place  POINT (-0.13967 51.51491)\n",
       "3  253       Dean Street  POINT (-0.13163 51.51235)\n",
       "4  254     Rupert Street  POINT (-0.13359 51.51214)\n",
       "5  255       Bridle Lane  POINT (-0.13592 51.51154)\n",
       "6  256     Regent Street  POINT (-0.13396 51.51002)\n",
       "7  257    Warwick Street  POINT (-0.13820 51.51129)"
      ]
     },
     "execution_count": 11,
     "metadata": {},
     "output_type": "execute_result"
    }
   ],
   "source": [
    "pumps_gdf"
   ]
  },
  {
   "cell_type": "markdown",
   "metadata": {},
   "source": [
    "### Save the geodataframes to Shapefile and JSON format"
   ]
  },
  {
   "cell_type": "code",
   "execution_count": 12,
   "metadata": {},
   "outputs": [],
   "source": [
    "pumps_gdf.to_file('outputs/pumps.shp')\n",
    "pumps_gdf.to_file(\"outputs/pumps.json\", driver=\"GeoJSON\")"
   ]
  },
  {
   "cell_type": "markdown",
   "metadata": {},
   "source": [
    "### Quick plots of geodataframes"
   ]
  },
  {
   "cell_type": "code",
   "execution_count": 13,
   "metadata": {},
   "outputs": [],
   "source": [
    "import matplotlib.pyplot as plt\n",
    "\n",
    "%matplotlib inline"
   ]
  },
  {
   "cell_type": "code",
   "execution_count": 14,
   "metadata": {},
   "outputs": [
    {
     "data": {
      "text/plain": [
       "<AxesSubplot:>"
      ]
     },
     "execution_count": 14,
     "metadata": {},
     "output_type": "execute_result"
    },
    {
     "data": {
      "image/png": "[encoded data removed]",
      "text/plain": [
       "<Figure size 432x288 with 1 Axes>"
      ]
     },
     "metadata": {
      "needs_background": "light"
     },
     "output_type": "display_data"
    }
   ],
   "source": [
    "crs = 'EPSG:4326'\n",
    "deaths_geometry = [Point(xy) for xy in zip(deaths_df.LON, deaths_df.LAT)]\n",
    "deaths_gdf = gpd.GeoDataFrame(deaths_df.drop(['LON', 'LAT'], axis=1), \\\n",
    "                              crs=crs, geometry=deaths_geometry)\n",
    "\n",
    "deaths_gdf.plot()"
   ]
  },
  {
   "cell_type": "code",
   "execution_count": 15,
   "metadata": {},
   "outputs": [
    {
     "data": {
      "text/plain": [
       "<AxesSubplot:>"
      ]
     },
     "execution_count": 15,
     "metadata": {},
     "output_type": "execute_result"
    },
    {
     "data": {
      "image/png": "[encoded data removed]",
      "text/plain": [
       "<Figure size 432x288 with 1 Axes>"
      ]
     },
     "metadata": {
      "needs_background": "light"
     },
     "output_type": "display_data"
    }
   ],
   "source": [
    "pumps_gdf.plot()"
   ]
  },
  {
   "cell_type": "markdown",
   "metadata": {},
   "source": [
    "### Save the geodataframes to Shapefile and JSON format"
   ]
  },
  {
   "cell_type": "code",
   "execution_count": 16,
   "metadata": {},
   "outputs": [],
   "source": [
    "deaths_gdf.to_file('outputs/deaths.shp')\n",
    "deaths_gdf.to_file(\"outputs/deaths.json\", driver=\"GeoJSON\")"
   ]
  },
  {
   "cell_type": "markdown",
   "metadata": {},
   "source": [
    "## Compute Voronoi polygons"
   ]
  },
  {
   "cell_type": "code",
   "execution_count": 17,
   "metadata": {},
   "outputs": [],
   "source": [
    "from scipy.spatial import Voronoi"
   ]
  },
  {
   "cell_type": "markdown",
   "metadata": {},
   "source": [
    "Let's run the voronoi 2d generation Python file that we saved earlier."
   ]
  },
  {
   "cell_type": "code",
   "execution_count": 18,
   "metadata": {},
   "outputs": [
    {
     "data": {
      "text/plain": [
       "<Figure size 432x288 with 0 Axes>"
      ]
     },
     "metadata": {},
     "output_type": "display_data"
    }
   ],
   "source": [
    "%run resources/voronoi2.py"
   ]
  },
  {
   "cell_type": "code",
   "execution_count": 19,
   "metadata": {},
   "outputs": [
    {
     "data": {
      "text/plain": [
       "[[8, 4, 3, 0, 2, 6],\n",
       " [10, 4, 3, 9],\n",
       " [12, 3, 0, 11],\n",
       " [0, 2, 1, 14, 13],\n",
       " [6, 2, 1, 5],\n",
       " [8, 6, 5, 7],\n",
       " [16, 15, 1, 5, 7],\n",
       " [17, 18, 7, 8, 4]]"
      ]
     },
     "execution_count": 19,
     "metadata": {},
     "output_type": "execute_result"
    }
   ],
   "source": [
    "# compute Voronoi tesselation using scipy spatial Voronoi function\n",
    "# note: this function does not create regions (polygons) for infinite vertices\n",
    "vor = Voronoi(points_pumps)\n",
    "\n",
    "# compute 2d voronoi with finite polygons\n",
    "regions, vertices = voronoi_finite_polygons_2d(vor)\n",
    "\n",
    "# display regions (polygon indices to vertices)\n",
    "regions"
   ]
  },
  {
   "cell_type": "code",
   "execution_count": 20,
   "metadata": {},
   "outputs": [
    {
     "data": {
      "text/plain": [
       "array([[-1.31326612e-01,  5.15272540e+01],\n",
       "       [-1.32459132e-01,  5.15108501e+01],\n",
       "       [-1.33205177e-01,  5.15176651e+01],\n",
       "       [-1.37958261e-01,  5.15145288e+01],\n",
       "       [-1.38251395e-01,  5.15129300e+01],\n",
       "       [-1.34597493e-01,  5.15112213e+01],\n",
       "       [-1.35044362e-01,  5.15129616e+01],\n",
       "       [-1.36739460e-01,  5.15084689e+01],\n",
       "       [-1.37132005e-01,  5.15120924e+01],\n",
       "       [-1.03097118e+02,  4.30178991e+01],\n",
       "       [-9.11397016e+01,  2.60978730e+00],\n",
       "       [ 3.11200978e+01,  1.49996182e+02],\n",
       "       [-1.03097118e+02,  4.30178991e+01],\n",
       "       [ 3.11200978e+01,  1.49996182e+02],\n",
       "       [ 7.29650869e+01, -2.14927805e+01],\n",
       "       [ 7.29650869e+01, -2.14927805e+01],\n",
       "       [-2.99273435e+01, -4.74122125e+01],\n",
       "       [-9.11397016e+01,  2.60978730e+00],\n",
       "       [-2.99273435e+01, -4.74122125e+01]])"
      ]
     },
     "execution_count": 20,
     "metadata": {},
     "output_type": "execute_result"
    }
   ],
   "source": [
    "# display voronoi polygon vertices (all of them)\n",
    "# note: these have to be used with regions where the indices point to each vertex in this list\n",
    "vertices"
   ]
  },
  {
   "cell_type": "code",
   "execution_count": 21,
   "metadata": {},
   "outputs": [
    {
     "data": {
      "text/plain": [
       "array([[-0.136668, 51.513341],\n",
       "       [-0.139586, 51.513876],\n",
       "       [-0.139671, 51.514906],\n",
       "       [-0.13163 , 51.512354],\n",
       "       [-0.133594, 51.512139],\n",
       "       [-0.135919, 51.511542],\n",
       "       [-0.133962, 51.510019],\n",
       "       [-0.138199, 51.511295]])"
      ]
     },
     "execution_count": 21,
     "metadata": {},
     "output_type": "execute_result"
    }
   ],
   "source": [
    "# voronoi input points (pump locations) from the original scipy spatial Voronoi function\n",
    "vor.points"
   ]
  },
  {
   "cell_type": "markdown",
   "metadata": {},
   "source": [
    "## Store Voronoi polygons in a Geopandas geodataframe"
   ]
  },
  {
   "cell_type": "code",
   "execution_count": 22,
   "metadata": {},
   "outputs": [
    {
     "data": {
      "text/html": [
       "<div>\n",
       "<style scoped>\n",
       "    .dataframe tbody tr th:only-of-type {\n",
       "        vertical-align: middle;\n",
       "    }\n",
       "\n",
       "    .dataframe tbody tr th {\n",
       "        vertical-align: top;\n",
       "    }\n",
       "\n",
       "    .dataframe thead th {\n",
       "        text-align: right;\n",
       "    }\n",
       "</style>\n",
       "<table border=\"1\" class=\"dataframe\">\n",
       "  <thead>\n",
       "    <tr style=\"text-align: right;\">\n",
       "      <th></th>\n",
       "    </tr>\n",
       "  </thead>\n",
       "  <tbody>\n",
       "  </tbody>\n",
       "</table>\n",
       "</div>"
      ],
      "text/plain": [
       "Empty GeoDataFrame\n",
       "Columns: []\n",
       "Index: []"
      ]
     },
     "execution_count": 22,
     "metadata": {},
     "output_type": "execute_result"
    }
   ],
   "source": [
    "# create an empty geodataframe\n",
    "# set empty geodataframe CRS to EPSG 4326\n",
    "crs = 'EPSG:4326'\n",
    "vor_poly_gdf1 = gpd.GeoDataFrame(crs=crs)\n",
    "\n",
    "vor_poly_gdf1"
   ]
  },
  {
   "cell_type": "markdown",
   "metadata": {},
   "source": [
    "That's what an empty geodataframe looks like!"
   ]
  },
  {
   "cell_type": "code",
   "execution_count": 23,
   "metadata": {},
   "outputs": [],
   "source": [
    "# initialize index\n",
    "index = 0\n",
    "\n",
    "for region in regions:\n",
    "    \n",
    "    # print vertices for each region (voronoi polygon)\n",
    "    #print(vertices[region])\n",
    "    \n",
    "    # convert each polygon into Shapely Polygon\n",
    "    vor_poly = Polygon(vertices[region])\n",
    "    \n",
    "    # save Polygon as geopandas geometry column\n",
    "    vor_poly_gdf1.loc[index, 'geometry'] = vor_poly\n",
    "    \n",
    "    # display corresponding vor input point (pump location: lat, lon)\n",
    "    vorpoint_lat = vor.points[index][1]\n",
    "    vorpoint_lon = vor.points[index][0]\n",
    "    #print(\"vor.point:\", vorpoint_lat, vorpoint_lon)\n",
    "    \n",
    "    # save lat, lon to geopandas geodataframe\n",
    "    vor_poly_gdf1.loc[index, 'vorpoint_lat'] = vorpoint_lat\n",
    "    vor_poly_gdf1.loc[index, 'vorpoint_lon'] = vorpoint_lon\n",
    "\n",
    "    # increment index by 1\n",
    "    index = index + 1"
   ]
  },
  {
   "cell_type": "code",
   "execution_count": 24,
   "metadata": {},
   "outputs": [],
   "source": [
    "vor_poly_gdf1.crs = 'EPSG:4326'"
   ]
  },
  {
   "cell_type": "code",
   "execution_count": 25,
   "metadata": {},
   "outputs": [
    {
     "data": {
      "text/html": [
       "<div>\n",
       "<style scoped>\n",
       "    .dataframe tbody tr th:only-of-type {\n",
       "        vertical-align: middle;\n",
       "    }\n",
       "\n",
       "    .dataframe tbody tr th {\n",
       "        vertical-align: top;\n",
       "    }\n",
       "\n",
       "    .dataframe thead th {\n",
       "        text-align: right;\n",
       "    }\n",
       "</style>\n",
       "<table border=\"1\" class=\"dataframe\">\n",
       "  <thead>\n",
       "    <tr style=\"text-align: right;\">\n",
       "      <th></th>\n",
       "      <th>geometry</th>\n",
       "      <th>vorpoint_lat</th>\n",
       "      <th>vorpoint_lon</th>\n",
       "    </tr>\n",
       "  </thead>\n",
       "  <tbody>\n",
       "    <tr>\n",
       "      <th>0</th>\n",
       "      <td>POLYGON ((-0.137 51.512, -0.138 51.513, -0.138...</td>\n",
       "      <td>51.513341</td>\n",
       "      <td>-0.136668</td>\n",
       "    </tr>\n",
       "    <tr>\n",
       "      <th>1</th>\n",
       "      <td>POLYGON ((-91.140 2.610, -0.138 51.513, -0.138...</td>\n",
       "      <td>51.513876</td>\n",
       "      <td>-0.139586</td>\n",
       "    </tr>\n",
       "    <tr>\n",
       "      <th>2</th>\n",
       "      <td>POLYGON ((-103.097 43.018, -0.138 51.515, -0.1...</td>\n",
       "      <td>51.514906</td>\n",
       "      <td>-0.139671</td>\n",
       "    </tr>\n",
       "    <tr>\n",
       "      <th>3</th>\n",
       "      <td>POLYGON ((-0.131 51.527, -0.133 51.518, -0.132...</td>\n",
       "      <td>51.512354</td>\n",
       "      <td>-0.131630</td>\n",
       "    </tr>\n",
       "    <tr>\n",
       "      <th>4</th>\n",
       "      <td>POLYGON ((-0.135 51.513, -0.133 51.518, -0.132...</td>\n",
       "      <td>51.512139</td>\n",
       "      <td>-0.133594</td>\n",
       "    </tr>\n",
       "    <tr>\n",
       "      <th>5</th>\n",
       "      <td>POLYGON ((-0.137 51.512, -0.135 51.513, -0.135...</td>\n",
       "      <td>51.511542</td>\n",
       "      <td>-0.135919</td>\n",
       "    </tr>\n",
       "    <tr>\n",
       "      <th>6</th>\n",
       "      <td>POLYGON ((-29.927 -47.412, 72.965 -21.493, -0....</td>\n",
       "      <td>51.510019</td>\n",
       "      <td>-0.133962</td>\n",
       "    </tr>\n",
       "    <tr>\n",
       "      <th>7</th>\n",
       "      <td>POLYGON ((-91.140 2.610, -29.927 -47.412, -0.1...</td>\n",
       "      <td>51.511295</td>\n",
       "      <td>-0.138199</td>\n",
       "    </tr>\n",
       "  </tbody>\n",
       "</table>\n",
       "</div>"
      ],
      "text/plain": [
       "                                            geometry  vorpoint_lat  \\\n",
       "0  POLYGON ((-0.137 51.512, -0.138 51.513, -0.138...     51.513341   \n",
       "1  POLYGON ((-91.140 2.610, -0.138 51.513, -0.138...     51.513876   \n",
       "2  POLYGON ((-103.097 43.018, -0.138 51.515, -0.1...     51.514906   \n",
       "3  POLYGON ((-0.131 51.527, -0.133 51.518, -0.132...     51.512354   \n",
       "4  POLYGON ((-0.135 51.513, -0.133 51.518, -0.132...     51.512139   \n",
       "5  POLYGON ((-0.137 51.512, -0.135 51.513, -0.135...     51.511542   \n",
       "6  POLYGON ((-29.927 -47.412, 72.965 -21.493, -0....     51.510019   \n",
       "7  POLYGON ((-91.140 2.610, -29.927 -47.412, -0.1...     51.511295   \n",
       "\n",
       "   vorpoint_lon  \n",
       "0     -0.136668  \n",
       "1     -0.139586  \n",
       "2     -0.139671  \n",
       "3     -0.131630  \n",
       "4     -0.133594  \n",
       "5     -0.135919  \n",
       "6     -0.133962  \n",
       "7     -0.138199  "
      ]
     },
     "execution_count": 25,
     "metadata": {},
     "output_type": "execute_result"
    }
   ],
   "source": [
    "vor_poly_gdf1"
   ]
  },
  {
   "cell_type": "markdown",
   "metadata": {},
   "source": [
    "## Quick plot of the Voronoi polygons using Geopandas"
   ]
  },
  {
   "cell_type": "code",
   "execution_count": 26,
   "metadata": {},
   "outputs": [
    {
     "data": {
      "text/plain": [
       "<AxesSubplot:>"
      ]
     },
     "execution_count": 26,
     "metadata": {},
     "output_type": "execute_result"
    },
    {
     "data": {
      "image/png": "[encoded data removed]",
      "text/plain": [
       "<Figure size 432x288 with 1 Axes>"
      ]
     },
     "metadata": {
      "needs_background": "light"
     },
     "output_type": "display_data"
    }
   ],
   "source": [
    "vor_poly_gdf1.plot(alpha=0.2, edgecolor='black', linewidth=2)"
   ]
  },
  {
   "cell_type": "markdown",
   "metadata": {},
   "source": [
    "Note how the latitude and longitude values would mean a folium plot of the voronoi cells would extend far beyond the viewing window of a web map."
   ]
  },
  {
   "cell_type": "markdown",
   "metadata": {},
   "source": [
    "## Geopandas spatial join - pumps and Voronoi polygons"
   ]
  },
  {
   "cell_type": "code",
   "execution_count": 27,
   "metadata": {},
   "outputs": [
    {
     "data": {
      "text/html": [
       "<div>\n",
       "<style scoped>\n",
       "    .dataframe tbody tr th:only-of-type {\n",
       "        vertical-align: middle;\n",
       "    }\n",
       "\n",
       "    .dataframe tbody tr th {\n",
       "        vertical-align: top;\n",
       "    }\n",
       "\n",
       "    .dataframe thead th {\n",
       "        text-align: right;\n",
       "    }\n",
       "</style>\n",
       "<table border=\"1\" class=\"dataframe\">\n",
       "  <thead>\n",
       "    <tr style=\"text-align: right;\">\n",
       "      <th></th>\n",
       "      <th>geometry</th>\n",
       "      <th>vorpoint_lat</th>\n",
       "      <th>vorpoint_lon</th>\n",
       "      <th>FID</th>\n",
       "      <th>Street</th>\n",
       "    </tr>\n",
       "  </thead>\n",
       "  <tbody>\n",
       "    <tr>\n",
       "      <th>0</th>\n",
       "      <td>POLYGON ((-0.137 51.512, -0.138 51.513, -0.138...</td>\n",
       "      <td>51.513341</td>\n",
       "      <td>-0.136668</td>\n",
       "      <td>250</td>\n",
       "      <td>Broadwick Street</td>\n",
       "    </tr>\n",
       "    <tr>\n",
       "      <th>1</th>\n",
       "      <td>POLYGON ((-91.140 2.610, -0.138 51.513, -0.138...</td>\n",
       "      <td>51.513876</td>\n",
       "      <td>-0.139586</td>\n",
       "      <td>251</td>\n",
       "      <td>Kingly Street</td>\n",
       "    </tr>\n",
       "    <tr>\n",
       "      <th>2</th>\n",
       "      <td>POLYGON ((-103.097 43.018, -0.138 51.515, -0.1...</td>\n",
       "      <td>51.514906</td>\n",
       "      <td>-0.139671</td>\n",
       "      <td>252</td>\n",
       "      <td>Ramillies Place</td>\n",
       "    </tr>\n",
       "    <tr>\n",
       "      <th>3</th>\n",
       "      <td>POLYGON ((-0.131 51.527, -0.133 51.518, -0.132...</td>\n",
       "      <td>51.512354</td>\n",
       "      <td>-0.131630</td>\n",
       "      <td>253</td>\n",
       "      <td>Dean Street</td>\n",
       "    </tr>\n",
       "    <tr>\n",
       "      <th>4</th>\n",
       "      <td>POLYGON ((-0.135 51.513, -0.133 51.518, -0.132...</td>\n",
       "      <td>51.512139</td>\n",
       "      <td>-0.133594</td>\n",
       "      <td>254</td>\n",
       "      <td>Rupert Street</td>\n",
       "    </tr>\n",
       "    <tr>\n",
       "      <th>5</th>\n",
       "      <td>POLYGON ((-0.137 51.512, -0.135 51.513, -0.135...</td>\n",
       "      <td>51.511542</td>\n",
       "      <td>-0.135919</td>\n",
       "      <td>255</td>\n",
       "      <td>Bridle Lane</td>\n",
       "    </tr>\n",
       "    <tr>\n",
       "      <th>6</th>\n",
       "      <td>POLYGON ((-29.927 -47.412, 72.965 -21.493, -0....</td>\n",
       "      <td>51.510019</td>\n",
       "      <td>-0.133962</td>\n",
       "      <td>256</td>\n",
       "      <td>Regent Street</td>\n",
       "    </tr>\n",
       "    <tr>\n",
       "      <th>7</th>\n",
       "      <td>POLYGON ((-91.140 2.610, -29.927 -47.412, -0.1...</td>\n",
       "      <td>51.511295</td>\n",
       "      <td>-0.138199</td>\n",
       "      <td>257</td>\n",
       "      <td>Warwick Street</td>\n",
       "    </tr>\n",
       "  </tbody>\n",
       "</table>\n",
       "</div>"
      ],
      "text/plain": [
       "                                            geometry  vorpoint_lat  \\\n",
       "0  POLYGON ((-0.137 51.512, -0.138 51.513, -0.138...     51.513341   \n",
       "1  POLYGON ((-91.140 2.610, -0.138 51.513, -0.138...     51.513876   \n",
       "2  POLYGON ((-103.097 43.018, -0.138 51.515, -0.1...     51.514906   \n",
       "3  POLYGON ((-0.131 51.527, -0.133 51.518, -0.132...     51.512354   \n",
       "4  POLYGON ((-0.135 51.513, -0.133 51.518, -0.132...     51.512139   \n",
       "5  POLYGON ((-0.137 51.512, -0.135 51.513, -0.135...     51.511542   \n",
       "6  POLYGON ((-29.927 -47.412, 72.965 -21.493, -0....     51.510019   \n",
       "7  POLYGON ((-91.140 2.610, -29.927 -47.412, -0.1...     51.511295   \n",
       "\n",
       "   vorpoint_lon  FID            Street  \n",
       "0     -0.136668  250  Broadwick Street  \n",
       "1     -0.139586  251     Kingly Street  \n",
       "2     -0.139671  252   Ramillies Place  \n",
       "3     -0.131630  253       Dean Street  \n",
       "4     -0.133594  254     Rupert Street  \n",
       "5     -0.135919  255       Bridle Lane  \n",
       "6     -0.133962  256     Regent Street  \n",
       "7     -0.138199  257    Warwick Street  "
      ]
     },
     "execution_count": 27,
     "metadata": {},
     "output_type": "execute_result"
    }
   ],
   "source": [
    "# do a geopandas spatial join (intersection)\n",
    "# this assumes pump locations in geometry column are within (intersects with) voronoi polygon\n",
    "vor_poly_gdf2 = \\\n",
    "    gpd.sjoin(vor_poly_gdf1, pumps_gdf, how=\"inner\", op='intersects')\\\n",
    "    .drop(columns=['index_right'])\n",
    "\n",
    "vor_poly_gdf2"
   ]
  },
  {
   "cell_type": "markdown",
   "metadata": {},
   "source": [
    "Getting warmer..."
   ]
  },
  {
   "cell_type": "markdown",
   "metadata": {},
   "source": [
    "## Clipping the Voronoi polygons"
   ]
  },
  {
   "cell_type": "markdown",
   "metadata": {},
   "source": [
    "The polygons above will extend beyond screen if plotted on a `folium` map. We will clip the voronoi polygons that extend beyond the convex hull that we created earlier in Notebook 2. Code follows below."
   ]
  },
  {
   "cell_type": "markdown",
   "metadata": {},
   "source": [
    "### Retrieve the convex hull polygon we created earlier in Notebook 2"
   ]
  },
  {
   "cell_type": "code",
   "execution_count": 28,
   "metadata": {},
   "outputs": [],
   "source": [
    "convexhull_gdf = gpd.read_file('outputs/convexhull.shp')"
   ]
  },
  {
   "cell_type": "markdown",
   "metadata": {},
   "source": [
    "### Use Geopandas overlay to obtain the intersection of Voronoi polygons with the convex hull polygon [1]"
   ]
  },
  {
   "cell_type": "code",
   "execution_count": 29,
   "metadata": {
    "tags": []
   },
   "outputs": [
    {
     "data": {
      "text/html": [
       "<div>\n",
       "<style scoped>\n",
       "    .dataframe tbody tr th:only-of-type {\n",
       "        vertical-align: middle;\n",
       "    }\n",
       "\n",
       "    .dataframe tbody tr th {\n",
       "        vertical-align: top;\n",
       "    }\n",
       "\n",
       "    .dataframe thead th {\n",
       "        text-align: right;\n",
       "    }\n",
       "</style>\n",
       "<table border=\"1\" class=\"dataframe\">\n",
       "  <thead>\n",
       "    <tr style=\"text-align: right;\">\n",
       "      <th></th>\n",
       "      <th>vorpoint_lat</th>\n",
       "      <th>vorpoint_lon</th>\n",
       "      <th>FID</th>\n",
       "      <th>Street</th>\n",
       "      <th>geometry</th>\n",
       "    </tr>\n",
       "  </thead>\n",
       "  <tbody>\n",
       "    <tr>\n",
       "      <th>0</th>\n",
       "      <td>51.513341</td>\n",
       "      <td>-0.136668</td>\n",
       "      <td>250</td>\n",
       "      <td>Broadwick Street</td>\n",
       "      <td>POLYGON ((-0.13483 51.51780, -0.13462 51.51783...</td>\n",
       "    </tr>\n",
       "    <tr>\n",
       "      <th>1</th>\n",
       "      <td>51.513876</td>\n",
       "      <td>-0.139586</td>\n",
       "      <td>251</td>\n",
       "      <td>Kingly Street</td>\n",
       "      <td>POLYGON ((-0.14153 51.51193, -0.14166 51.51208...</td>\n",
       "    </tr>\n",
       "    <tr>\n",
       "      <th>2</th>\n",
       "      <td>51.514906</td>\n",
       "      <td>-0.139671</td>\n",
       "      <td>252</td>\n",
       "      <td>Ramillies Place</td>\n",
       "      <td>POLYGON ((-0.14161 51.51539, -0.14156 51.51558...</td>\n",
       "    </tr>\n",
       "    <tr>\n",
       "      <th>3</th>\n",
       "      <td>51.512354</td>\n",
       "      <td>-0.131630</td>\n",
       "      <td>253</td>\n",
       "      <td>Dean Street</td>\n",
       "      <td>POLYGON ((-0.12994 51.51343, -0.12985 51.51326...</td>\n",
       "    </tr>\n",
       "    <tr>\n",
       "      <th>4</th>\n",
       "      <td>51.512139</td>\n",
       "      <td>-0.133594</td>\n",
       "      <td>254</td>\n",
       "      <td>Rupert Street</td>\n",
       "      <td>POLYGON ((-0.13327 51.51743, -0.13317 51.51735...</td>\n",
       "    </tr>\n",
       "    <tr>\n",
       "      <th>5</th>\n",
       "      <td>51.511542</td>\n",
       "      <td>-0.135919</td>\n",
       "      <td>255</td>\n",
       "      <td>Bridle Lane</td>\n",
       "      <td>POLYGON ((-0.13677 51.50878, -0.13713 51.51209...</td>\n",
       "    </tr>\n",
       "    <tr>\n",
       "      <th>6</th>\n",
       "      <td>51.510019</td>\n",
       "      <td>-0.133962</td>\n",
       "      <td>256</td>\n",
       "      <td>Regent Street</td>\n",
       "      <td>POLYGON ((-0.13255 51.50861, -0.13269 51.50847...</td>\n",
       "    </tr>\n",
       "    <tr>\n",
       "      <th>7</th>\n",
       "      <td>51.511295</td>\n",
       "      <td>-0.138199</td>\n",
       "      <td>257</td>\n",
       "      <td>Warwick Street</td>\n",
       "      <td>POLYGON ((-0.13878 51.50938, -0.13897 51.50945...</td>\n",
       "    </tr>\n",
       "  </tbody>\n",
       "</table>\n",
       "</div>"
      ],
      "text/plain": [
       "   vorpoint_lat  vorpoint_lon  FID            Street  \\\n",
       "0     51.513341     -0.136668  250  Broadwick Street   \n",
       "1     51.513876     -0.139586  251     Kingly Street   \n",
       "2     51.514906     -0.139671  252   Ramillies Place   \n",
       "3     51.512354     -0.131630  253       Dean Street   \n",
       "4     51.512139     -0.133594  254     Rupert Street   \n",
       "5     51.511542     -0.135919  255       Bridle Lane   \n",
       "6     51.510019     -0.133962  256     Regent Street   \n",
       "7     51.511295     -0.138199  257    Warwick Street   \n",
       "\n",
       "                                            geometry  \n",
       "0  POLYGON ((-0.13483 51.51780, -0.13462 51.51783...  \n",
       "1  POLYGON ((-0.14153 51.51193, -0.14166 51.51208...  \n",
       "2  POLYGON ((-0.14161 51.51539, -0.14156 51.51558...  \n",
       "3  POLYGON ((-0.12994 51.51343, -0.12985 51.51326...  \n",
       "4  POLYGON ((-0.13327 51.51743, -0.13317 51.51735...  \n",
       "5  POLYGON ((-0.13677 51.50878, -0.13713 51.51209...  \n",
       "6  POLYGON ((-0.13255 51.50861, -0.13269 51.50847...  \n",
       "7  POLYGON ((-0.13878 51.50938, -0.13897 51.50945...  "
      ]
     },
     "execution_count": 29,
     "metadata": {},
     "output_type": "execute_result"
    }
   ],
   "source": [
    "clipped_voronoi_gdf = gpd.overlay(\n",
    "    convexhull_gdf,\n",
    "    vor_poly_gdf2,\n",
    "    how=\"intersection\"\n",
    ").drop(columns=['FID_1']).rename(columns={'FID_2':'FID'})\n",
    "\n",
    "clipped_voronoi_gdf"
   ]
  },
  {
   "cell_type": "markdown",
   "metadata": {},
   "source": [
    "### Quick plot of the clipped Voronoi polygons"
   ]
  },
  {
   "cell_type": "code",
   "execution_count": 30,
   "metadata": {},
   "outputs": [
    {
     "data": {
      "text/plain": [
       "<AxesSubplot:>"
      ]
     },
     "execution_count": 30,
     "metadata": {},
     "output_type": "execute_result"
    },
    {
     "data": {
      "image/png": "[encoded data removed]",
      "text/plain": [
       "<Figure size 432x288 with 1 Axes>"
      ]
     },
     "metadata": {
      "needs_background": "light"
     },
     "output_type": "display_data"
    }
   ],
   "source": [
    "clipped_voronoi_gdf.plot(alpha=0.2, edgecolor='black',linewidth=2)"
   ]
  },
  {
   "cell_type": "markdown",
   "metadata": {},
   "source": [
    "That looks very promising...\n",
    "\n",
    "Now, let's put the two plots together - the unclipped voronoi cells and the clipped ones. Here's a simple `matplotlib` plotting lesson below. We defined `matplotlib.pyplot` earlier as `plt`."
   ]
  },
  {
   "cell_type": "code",
   "execution_count": 31,
   "metadata": {},
   "outputs": [
    {
     "data": {
      "image/png": "[encoded data removed]",
      "text/plain": [
       "<Figure size 936x936 with 2 Axes>"
      ]
     },
     "metadata": {
      "needs_background": "light"
     },
     "output_type": "display_data"
    }
   ],
   "source": [
    "# note how we create subplots side by side using subplot parameters, nrows and ncols\n",
    "fig, axes = plt.subplots(nrows=1, ncols=2, figsize=(13, 13))\n",
    "\n",
    "# here are the two plots\n",
    "# since we used two columns, column 1 uses axes[0] and column 2 uses axes[1]\n",
    "vor_poly_gdf1.plot(alpha=0.2, edgecolor='black',linewidth=2, \\\n",
    "                   ax=axes[0])\n",
    "clipped_voronoi_gdf.plot(alpha=0.2, edgecolor='black',linewidth=2, \n",
    "                         ax=axes[1], color='red')\n",
    "\n",
    "# let's put the titles so we will know what we are looking at\n",
    "fig.suptitle(\"Unclipped (left) and Clipped (right) Voronoi Cells\", fontsize=14)\n",
    "axes[0].set_title(\"Unclipped (very large polygon)\")\n",
    "axes[1].set_title(\"Clipped (very small polygon)\")\n",
    "\n",
    "fig.tight_layout()"
   ]
  },
  {
   "cell_type": "markdown",
   "metadata": {},
   "source": [
    "Note that the two figures are not the same size and scale."
   ]
  },
  {
   "cell_type": "markdown",
   "metadata": {},
   "source": [
    "### Save the clipped Voronoi polygons"
   ]
  },
  {
   "cell_type": "code",
   "execution_count": 32,
   "metadata": {},
   "outputs": [],
   "source": [
    "clipped_voronoi_gdf.to_file('outputs/clipped_voronoi.shp')\n",
    "clipped_voronoi_gdf.to_file(\"outputs/clipped_voronoi.json\", driver=\"GeoJSON\")"
   ]
  },
  {
   "cell_type": "code",
   "execution_count": 33,
   "metadata": {},
   "outputs": [
    {
     "data": {
      "text/html": [
       "<div>\n",
       "<style scoped>\n",
       "    .dataframe tbody tr th:only-of-type {\n",
       "        vertical-align: middle;\n",
       "    }\n",
       "\n",
       "    .dataframe tbody tr th {\n",
       "        vertical-align: top;\n",
       "    }\n",
       "\n",
       "    .dataframe thead th {\n",
       "        text-align: right;\n",
       "    }\n",
       "</style>\n",
       "<table border=\"1\" class=\"dataframe\">\n",
       "  <thead>\n",
       "    <tr style=\"text-align: right;\">\n",
       "      <th></th>\n",
       "      <th>vorpoint_lat</th>\n",
       "      <th>vorpoint_lon</th>\n",
       "      <th>FID</th>\n",
       "      <th>Street</th>\n",
       "      <th>geometry</th>\n",
       "    </tr>\n",
       "  </thead>\n",
       "  <tbody>\n",
       "    <tr>\n",
       "      <th>0</th>\n",
       "      <td>51.513341</td>\n",
       "      <td>-0.136668</td>\n",
       "      <td>250</td>\n",
       "      <td>Broadwick Street</td>\n",
       "      <td>POLYGON ((-0.13483 51.51780, -0.13462 51.51783...</td>\n",
       "    </tr>\n",
       "    <tr>\n",
       "      <th>1</th>\n",
       "      <td>51.513876</td>\n",
       "      <td>-0.139586</td>\n",
       "      <td>251</td>\n",
       "      <td>Kingly Street</td>\n",
       "      <td>POLYGON ((-0.14153 51.51193, -0.14166 51.51208...</td>\n",
       "    </tr>\n",
       "    <tr>\n",
       "      <th>2</th>\n",
       "      <td>51.514906</td>\n",
       "      <td>-0.139671</td>\n",
       "      <td>252</td>\n",
       "      <td>Ramillies Place</td>\n",
       "      <td>POLYGON ((-0.14161 51.51539, -0.14156 51.51558...</td>\n",
       "    </tr>\n",
       "    <tr>\n",
       "      <th>3</th>\n",
       "      <td>51.512354</td>\n",
       "      <td>-0.131630</td>\n",
       "      <td>253</td>\n",
       "      <td>Dean Street</td>\n",
       "      <td>POLYGON ((-0.12994 51.51343, -0.12985 51.51326...</td>\n",
       "    </tr>\n",
       "    <tr>\n",
       "      <th>4</th>\n",
       "      <td>51.512139</td>\n",
       "      <td>-0.133594</td>\n",
       "      <td>254</td>\n",
       "      <td>Rupert Street</td>\n",
       "      <td>POLYGON ((-0.13327 51.51743, -0.13317 51.51735...</td>\n",
       "    </tr>\n",
       "    <tr>\n",
       "      <th>5</th>\n",
       "      <td>51.511542</td>\n",
       "      <td>-0.135919</td>\n",
       "      <td>255</td>\n",
       "      <td>Bridle Lane</td>\n",
       "      <td>POLYGON ((-0.13677 51.50878, -0.13713 51.51209...</td>\n",
       "    </tr>\n",
       "    <tr>\n",
       "      <th>6</th>\n",
       "      <td>51.510019</td>\n",
       "      <td>-0.133962</td>\n",
       "      <td>256</td>\n",
       "      <td>Regent Street</td>\n",
       "      <td>POLYGON ((-0.13255 51.50861, -0.13269 51.50847...</td>\n",
       "    </tr>\n",
       "    <tr>\n",
       "      <th>7</th>\n",
       "      <td>51.511295</td>\n",
       "      <td>-0.138199</td>\n",
       "      <td>257</td>\n",
       "      <td>Warwick Street</td>\n",
       "      <td>POLYGON ((-0.13878 51.50938, -0.13897 51.50945...</td>\n",
       "    </tr>\n",
       "  </tbody>\n",
       "</table>\n",
       "</div>"
      ],
      "text/plain": [
       "   vorpoint_lat  vorpoint_lon  FID            Street  \\\n",
       "0     51.513341     -0.136668  250  Broadwick Street   \n",
       "1     51.513876     -0.139586  251     Kingly Street   \n",
       "2     51.514906     -0.139671  252   Ramillies Place   \n",
       "3     51.512354     -0.131630  253       Dean Street   \n",
       "4     51.512139     -0.133594  254     Rupert Street   \n",
       "5     51.511542     -0.135919  255       Bridle Lane   \n",
       "6     51.510019     -0.133962  256     Regent Street   \n",
       "7     51.511295     -0.138199  257    Warwick Street   \n",
       "\n",
       "                                            geometry  \n",
       "0  POLYGON ((-0.13483 51.51780, -0.13462 51.51783...  \n",
       "1  POLYGON ((-0.14153 51.51193, -0.14166 51.51208...  \n",
       "2  POLYGON ((-0.14161 51.51539, -0.14156 51.51558...  \n",
       "3  POLYGON ((-0.12994 51.51343, -0.12985 51.51326...  \n",
       "4  POLYGON ((-0.13327 51.51743, -0.13317 51.51735...  \n",
       "5  POLYGON ((-0.13677 51.50878, -0.13713 51.51209...  \n",
       "6  POLYGON ((-0.13255 51.50861, -0.13269 51.50847...  \n",
       "7  POLYGON ((-0.13878 51.50938, -0.13897 51.50945...  "
      ]
     },
     "execution_count": 33,
     "metadata": {},
     "output_type": "execute_result"
    }
   ],
   "source": [
    "clipped_voronoi_gdf"
   ]
  },
  {
   "cell_type": "markdown",
   "metadata": {},
   "source": [
    "## Counting Death Locations Within Voronoi Polygons [2]"
   ]
  },
  {
   "cell_type": "markdown",
   "metadata": {},
   "source": [
    "One of the most important things to study in this case is to determine which Voronoi polygon contains the most number of death locations. "
   ]
  },
  {
   "cell_type": "code",
   "execution_count": 34,
   "metadata": {},
   "outputs": [],
   "source": [
    "# Read the data.\n",
    "polygons = gpd.GeoDataFrame.from_file('outputs/clipped_voronoi.shp')\n",
    "points = gpd.GeoDataFrame.from_file('outputs/deaths.shp')"
   ]
  },
  {
   "cell_type": "markdown",
   "metadata": {},
   "source": [
    "Let's write the function, `points_in_polygons` below to a Python file as we will use this again in Notebook 6."
   ]
  },
  {
   "cell_type": "code",
   "execution_count": 35,
   "metadata": {},
   "outputs": [
    {
     "name": "stdout",
     "output_type": "stream",
     "text": [
      "Overwriting resources/points_in_polygons.py\n"
     ]
    }
   ],
   "source": [
    "%%writefile resources/points_in_polygons.py\n",
    "import geopandas as gpd\n",
    "import pandas as pd\n",
    "\n",
    "def points_in_polygons(points_gdf, polygons_gdf):\n",
    "    \n",
    "    polygons = polygons_gdf\n",
    "    points = points_gdf\n",
    "    \n",
    "    # Make a copy because I'm going to drop points as I\n",
    "    # assign them to polys, to speed up subsequent search.\n",
    "    pts = points.copy() \n",
    "\n",
    "    # We're going to keep a list of how many points we find.\n",
    "    pts_in_polys = []\n",
    "\n",
    "    # Loop over polygons with index i.\n",
    "    for i, poly in polygons.iterrows():\n",
    "\n",
    "        # Keep a list of points in this poly\n",
    "        pts_in_this_poly = []\n",
    "\n",
    "        # Now loop over all points with index j.\n",
    "        for j, pt in pts.iterrows():\n",
    "            if poly.geometry.contains(pt.geometry):\n",
    "                # Then it's a hit! Add it to the list,\n",
    "                # and drop it so we have less hunting.\n",
    "                pts_in_this_poly.append(pt.geometry)\n",
    "                pts = pts.drop([j])\n",
    "\n",
    "        # We could do all sorts, like grab a property of the\n",
    "        # points, but let's just append the number of them.\n",
    "        pts_in_polys.append(len(pts_in_this_poly))\n",
    "\n",
    "    # Add the number of points for each poly to the dataframe.\n",
    "    polygons['points_in_polygon'] = gpd.GeoSeries(pts_in_polys)\n",
    "    \n",
    "    return polygons"
   ]
  },
  {
   "cell_type": "code",
   "execution_count": 36,
   "metadata": {},
   "outputs": [
    {
     "data": {
      "text/plain": [
       "<Figure size 432x288 with 0 Axes>"
      ]
     },
     "metadata": {},
     "output_type": "display_data"
    }
   ],
   "source": [
    "%run resources/points_in_polygons.py"
   ]
  },
  {
   "cell_type": "code",
   "execution_count": 37,
   "metadata": {},
   "outputs": [
    {
     "data": {
      "text/html": [
       "<div>\n",
       "<style scoped>\n",
       "    .dataframe tbody tr th:only-of-type {\n",
       "        vertical-align: middle;\n",
       "    }\n",
       "\n",
       "    .dataframe tbody tr th {\n",
       "        vertical-align: top;\n",
       "    }\n",
       "\n",
       "    .dataframe thead th {\n",
       "        text-align: right;\n",
       "    }\n",
       "</style>\n",
       "<table border=\"1\" class=\"dataframe\">\n",
       "  <thead>\n",
       "    <tr style=\"text-align: right;\">\n",
       "      <th></th>\n",
       "      <th>vorpoint_l</th>\n",
       "      <th>vorpoint_1</th>\n",
       "      <th>FID</th>\n",
       "      <th>Street</th>\n",
       "      <th>geometry</th>\n",
       "      <th>points_in_polygon</th>\n",
       "    </tr>\n",
       "  </thead>\n",
       "  <tbody>\n",
       "    <tr>\n",
       "      <th>0</th>\n",
       "      <td>51.513341</td>\n",
       "      <td>-0.136668</td>\n",
       "      <td>250</td>\n",
       "      <td>Broadwick Street</td>\n",
       "      <td>POLYGON ((-0.13483 51.51780, -0.13462 51.51783...</td>\n",
       "      <td>137</td>\n",
       "    </tr>\n",
       "    <tr>\n",
       "      <th>1</th>\n",
       "      <td>51.513876</td>\n",
       "      <td>-0.139586</td>\n",
       "      <td>251</td>\n",
       "      <td>Kingly Street</td>\n",
       "      <td>POLYGON ((-0.14153 51.51193, -0.14166 51.51208...</td>\n",
       "      <td>38</td>\n",
       "    </tr>\n",
       "    <tr>\n",
       "      <th>2</th>\n",
       "      <td>51.514906</td>\n",
       "      <td>-0.139671</td>\n",
       "      <td>252</td>\n",
       "      <td>Ramillies Place</td>\n",
       "      <td>POLYGON ((-0.14161 51.51539, -0.14156 51.51558...</td>\n",
       "      <td>1</td>\n",
       "    </tr>\n",
       "    <tr>\n",
       "      <th>3</th>\n",
       "      <td>51.512354</td>\n",
       "      <td>-0.131630</td>\n",
       "      <td>253</td>\n",
       "      <td>Dean Street</td>\n",
       "      <td>POLYGON ((-0.12994 51.51343, -0.12985 51.51326...</td>\n",
       "      <td>0</td>\n",
       "    </tr>\n",
       "    <tr>\n",
       "      <th>4</th>\n",
       "      <td>51.512139</td>\n",
       "      <td>-0.133594</td>\n",
       "      <td>254</td>\n",
       "      <td>Rupert Street</td>\n",
       "      <td>POLYGON ((-0.13327 51.51743, -0.13317 51.51735...</td>\n",
       "      <td>41</td>\n",
       "    </tr>\n",
       "    <tr>\n",
       "      <th>5</th>\n",
       "      <td>51.511542</td>\n",
       "      <td>-0.135919</td>\n",
       "      <td>255</td>\n",
       "      <td>Bridle Lane</td>\n",
       "      <td>POLYGON ((-0.13677 51.50878, -0.13713 51.51209...</td>\n",
       "      <td>21</td>\n",
       "    </tr>\n",
       "    <tr>\n",
       "      <th>6</th>\n",
       "      <td>51.510019</td>\n",
       "      <td>-0.133962</td>\n",
       "      <td>256</td>\n",
       "      <td>Regent Street</td>\n",
       "      <td>POLYGON ((-0.13255 51.50861, -0.13269 51.50847...</td>\n",
       "      <td>0</td>\n",
       "    </tr>\n",
       "    <tr>\n",
       "      <th>7</th>\n",
       "      <td>51.511295</td>\n",
       "      <td>-0.138199</td>\n",
       "      <td>257</td>\n",
       "      <td>Warwick Street</td>\n",
       "      <td>POLYGON ((-0.13878 51.50938, -0.13897 51.50945...</td>\n",
       "      <td>12</td>\n",
       "    </tr>\n",
       "  </tbody>\n",
       "</table>\n",
       "</div>"
      ],
      "text/plain": [
       "   vorpoint_l  vorpoint_1  FID            Street  \\\n",
       "0   51.513341   -0.136668  250  Broadwick Street   \n",
       "1   51.513876   -0.139586  251     Kingly Street   \n",
       "2   51.514906   -0.139671  252   Ramillies Place   \n",
       "3   51.512354   -0.131630  253       Dean Street   \n",
       "4   51.512139   -0.133594  254     Rupert Street   \n",
       "5   51.511542   -0.135919  255       Bridle Lane   \n",
       "6   51.510019   -0.133962  256     Regent Street   \n",
       "7   51.511295   -0.138199  257    Warwick Street   \n",
       "\n",
       "                                            geometry  points_in_polygon  \n",
       "0  POLYGON ((-0.13483 51.51780, -0.13462 51.51783...                137  \n",
       "1  POLYGON ((-0.14153 51.51193, -0.14166 51.51208...                 38  \n",
       "2  POLYGON ((-0.14161 51.51539, -0.14156 51.51558...                  1  \n",
       "3  POLYGON ((-0.12994 51.51343, -0.12985 51.51326...                  0  \n",
       "4  POLYGON ((-0.13327 51.51743, -0.13317 51.51735...                 41  \n",
       "5  POLYGON ((-0.13677 51.50878, -0.13713 51.51209...                 21  \n",
       "6  POLYGON ((-0.13255 51.50861, -0.13269 51.50847...                  0  \n",
       "7  POLYGON ((-0.13878 51.50938, -0.13897 51.50945...                 12  "
      ]
     },
     "execution_count": 37,
     "metadata": {},
     "output_type": "execute_result"
    }
   ],
   "source": [
    "polygons = points_in_polygons(points, polygons)\n",
    "\n",
    "polygons"
   ]
  },
  {
   "cell_type": "markdown",
   "metadata": {},
   "source": [
    "### Let's fix the column names  of the geodataframe holding the Voronoi cells with counts"
   ]
  },
  {
   "cell_type": "code",
   "execution_count": 38,
   "metadata": {},
   "outputs": [
    {
     "data": {
      "text/html": [
       "<div>\n",
       "<style scoped>\n",
       "    .dataframe tbody tr th:only-of-type {\n",
       "        vertical-align: middle;\n",
       "    }\n",
       "\n",
       "    .dataframe tbody tr th {\n",
       "        vertical-align: top;\n",
       "    }\n",
       "\n",
       "    .dataframe thead th {\n",
       "        text-align: right;\n",
       "    }\n",
       "</style>\n",
       "<table border=\"1\" class=\"dataframe\">\n",
       "  <thead>\n",
       "    <tr style=\"text-align: right;\">\n",
       "      <th></th>\n",
       "      <th>vorpoint_lat</th>\n",
       "      <th>vorpoint_lon</th>\n",
       "      <th>FID</th>\n",
       "      <th>Street</th>\n",
       "      <th>geometry</th>\n",
       "      <th>points_in_voronoi</th>\n",
       "    </tr>\n",
       "  </thead>\n",
       "  <tbody>\n",
       "    <tr>\n",
       "      <th>0</th>\n",
       "      <td>51.513341</td>\n",
       "      <td>-0.136668</td>\n",
       "      <td>250</td>\n",
       "      <td>Broadwick Street</td>\n",
       "      <td>POLYGON ((-0.13483 51.51780, -0.13462 51.51783...</td>\n",
       "      <td>137</td>\n",
       "    </tr>\n",
       "    <tr>\n",
       "      <th>1</th>\n",
       "      <td>51.513876</td>\n",
       "      <td>-0.139586</td>\n",
       "      <td>251</td>\n",
       "      <td>Kingly Street</td>\n",
       "      <td>POLYGON ((-0.14153 51.51193, -0.14166 51.51208...</td>\n",
       "      <td>38</td>\n",
       "    </tr>\n",
       "    <tr>\n",
       "      <th>2</th>\n",
       "      <td>51.514906</td>\n",
       "      <td>-0.139671</td>\n",
       "      <td>252</td>\n",
       "      <td>Ramillies Place</td>\n",
       "      <td>POLYGON ((-0.14161 51.51539, -0.14156 51.51558...</td>\n",
       "      <td>1</td>\n",
       "    </tr>\n",
       "    <tr>\n",
       "      <th>3</th>\n",
       "      <td>51.512354</td>\n",
       "      <td>-0.131630</td>\n",
       "      <td>253</td>\n",
       "      <td>Dean Street</td>\n",
       "      <td>POLYGON ((-0.12994 51.51343, -0.12985 51.51326...</td>\n",
       "      <td>0</td>\n",
       "    </tr>\n",
       "    <tr>\n",
       "      <th>4</th>\n",
       "      <td>51.512139</td>\n",
       "      <td>-0.133594</td>\n",
       "      <td>254</td>\n",
       "      <td>Rupert Street</td>\n",
       "      <td>POLYGON ((-0.13327 51.51743, -0.13317 51.51735...</td>\n",
       "      <td>41</td>\n",
       "    </tr>\n",
       "    <tr>\n",
       "      <th>5</th>\n",
       "      <td>51.511542</td>\n",
       "      <td>-0.135919</td>\n",
       "      <td>255</td>\n",
       "      <td>Bridle Lane</td>\n",
       "      <td>POLYGON ((-0.13677 51.50878, -0.13713 51.51209...</td>\n",
       "      <td>21</td>\n",
       "    </tr>\n",
       "    <tr>\n",
       "      <th>6</th>\n",
       "      <td>51.510019</td>\n",
       "      <td>-0.133962</td>\n",
       "      <td>256</td>\n",
       "      <td>Regent Street</td>\n",
       "      <td>POLYGON ((-0.13255 51.50861, -0.13269 51.50847...</td>\n",
       "      <td>0</td>\n",
       "    </tr>\n",
       "    <tr>\n",
       "      <th>7</th>\n",
       "      <td>51.511295</td>\n",
       "      <td>-0.138199</td>\n",
       "      <td>257</td>\n",
       "      <td>Warwick Street</td>\n",
       "      <td>POLYGON ((-0.13878 51.50938, -0.13897 51.50945...</td>\n",
       "      <td>12</td>\n",
       "    </tr>\n",
       "  </tbody>\n",
       "</table>\n",
       "</div>"
      ],
      "text/plain": [
       "   vorpoint_lat  vorpoint_lon  FID            Street  \\\n",
       "0     51.513341     -0.136668  250  Broadwick Street   \n",
       "1     51.513876     -0.139586  251     Kingly Street   \n",
       "2     51.514906     -0.139671  252   Ramillies Place   \n",
       "3     51.512354     -0.131630  253       Dean Street   \n",
       "4     51.512139     -0.133594  254     Rupert Street   \n",
       "5     51.511542     -0.135919  255       Bridle Lane   \n",
       "6     51.510019     -0.133962  256     Regent Street   \n",
       "7     51.511295     -0.138199  257    Warwick Street   \n",
       "\n",
       "                                            geometry  points_in_voronoi  \n",
       "0  POLYGON ((-0.13483 51.51780, -0.13462 51.51783...                137  \n",
       "1  POLYGON ((-0.14153 51.51193, -0.14166 51.51208...                 38  \n",
       "2  POLYGON ((-0.14161 51.51539, -0.14156 51.51558...                  1  \n",
       "3  POLYGON ((-0.12994 51.51343, -0.12985 51.51326...                  0  \n",
       "4  POLYGON ((-0.13327 51.51743, -0.13317 51.51735...                 41  \n",
       "5  POLYGON ((-0.13677 51.50878, -0.13713 51.51209...                 21  \n",
       "6  POLYGON ((-0.13255 51.50861, -0.13269 51.50847...                  0  \n",
       "7  POLYGON ((-0.13878 51.50938, -0.13897 51.50945...                 12  "
      ]
     },
     "execution_count": 38,
     "metadata": {},
     "output_type": "execute_result"
    }
   ],
   "source": [
    "clipped_voronoi_counts_gdf = \\\n",
    "    polygons.rename(\\\n",
    "            columns={'vorpoint_l':'vorpoint_lat',\\\n",
    "                     'vorpoint_1':'vorpoint_lon',\\\n",
    "                     'points_in_polygon':'points_in_voronoi'\n",
    "                    })\n",
    "\n",
    "clipped_voronoi_counts_gdf"
   ]
  },
  {
   "cell_type": "markdown",
   "metadata": {},
   "source": [
    "### Save the clipped Voronoi polygons with death location counts"
   ]
  },
  {
   "cell_type": "code",
   "execution_count": 39,
   "metadata": {},
   "outputs": [],
   "source": [
    "clipped_voronoi_counts_gdf.to_file('outputs/clipped_voronoi_counts.shp')\n",
    "clipped_voronoi_counts_gdf.to_file(\"outputs/clipped_voronoi_counts.json\", driver=\"GeoJSON\")"
   ]
  },
  {
   "cell_type": "markdown",
   "metadata": {},
   "source": [
    "## And now, for amplified cognition - Draw a simple horizontal bar chart"
   ]
  },
  {
   "cell_type": "markdown",
   "metadata": {},
   "source": [
    "### Horizontal Bar Showing Death Locations by Voronoi Cells (Pump Catchment)"
   ]
  },
  {
   "cell_type": "code",
   "execution_count": 40,
   "metadata": {},
   "outputs": [
    {
     "data": {
      "text/plain": [
       "Text(0.5, 0, 'Death Location Count')"
      ]
     },
     "execution_count": 40,
     "metadata": {},
     "output_type": "execute_result"
    },
    {
     "data": {
      "image/png": "[encoded data removed]",
      "text/plain": [
       "<Figure size 576x360 with 1 Axes>"
      ]
     },
     "metadata": {
      "needs_background": "light"
     },
     "output_type": "display_data"
    }
   ],
   "source": [
    "ax = pd.DataFrame(clipped_voronoi_counts_gdf)\\\n",
    "    .plot.barh(y='points_in_voronoi', x='Street', color='k', figsize=(8,5))\n",
    "ax.set_title('Death Locations in Voronoi Cells of Pumps (by Street Location)', fontsize=16)\n",
    "ax.tick_params(axis = 'both', which = 'major', labelsize = 14)\n",
    "ax.set_ylabel('Voronoi Cells by Pump', fontsize=16)\n",
    "ax.set_xlabel('Death Location Count', fontsize=16)"
   ]
  },
  {
   "cell_type": "markdown",
   "metadata": {},
   "source": [
    "Which street pump catchment area (Voronoi cell) has the most number of mortality locations?"
   ]
  },
  {
   "cell_type": "markdown",
   "metadata": {},
   "source": [
    "### Draft Map Overlaying Pumps, Death Locations and Voronoi Cells"
   ]
  },
  {
   "cell_type": "code",
   "execution_count": 41,
   "metadata": {},
   "outputs": [
    {
     "data": {
      "text/plain": [
       "Text(0.5, 1.0, 'Deaths Locations within Pump-derived Voronoi Cells, Soho District')"
      ]
     },
     "execution_count": 41,
     "metadata": {},
     "output_type": "execute_result"
    },
    {
     "data": {
      "image/png": "[encoded data removed]",
      "text/plain": [
       "<Figure size 936x936 with 1 Axes>"
      ]
     },
     "metadata": {
      "needs_background": "light"
     },
     "output_type": "display_data"
    }
   ],
   "source": [
    "width = 13\n",
    "height = 13\n",
    "\n",
    "fig, ax = plt.subplots(figsize=(width, height))\n",
    "\n",
    "# putting together the three plots\n",
    "clipped_voronoi_gdf.plot(ax=ax, alpha=0.1, edgecolor='black',linewidth=2)\n",
    "deaths_gdf.plot(ax=ax, alpha=0.2, color='darkblue')\n",
    "pumps_gdf.plot(ax=ax,color='red')\n",
    "\n",
    "ax.tick_params(axis = 'both', which = 'major', labelsize = 14)\n",
    "# always good to remember, x maps to longitude, y maps to latitude \n",
    "ax.set_ylabel('Latitude', fontsize=16)\n",
    "ax.set_xlabel('Longitude', fontsize=16)\n",
    "ax.set_title('Deaths Locations within Pump-derived Voronoi Cells, Soho District', \\\n",
    "             fontsize=16)"
   ]
  },
  {
   "cell_type": "markdown",
   "metadata": {},
   "source": [
    "## Reflection Questions"
   ]
  },
  {
   "cell_type": "markdown",
   "metadata": {},
   "source": [
    "1. What did you learn from going through the Voronoi production code from Notebooks 2-4?\n",
    "2. What else can we do to improve our Voronoi production process?"
   ]
  },
  {
   "cell_type": "markdown",
   "metadata": {},
   "source": [
    "## References"
   ]
  },
  {
   "cell_type": "markdown",
   "metadata": {},
   "source": [
    "1. How to use geopandas' overlay method to find the area of intersections between two datasets: https://github.com/datadesk/geopandas-intersection-area-example\n",
    "2. Count number of points in multipolygon shapefile using Python: https://stackoverflow.com/questions/27606924/count-number-of-points-in-multipolygon-shapefile-using-python"
   ]
  },
  {
   "cell_type": "code",
   "execution_count": null,
   "metadata": {},
   "outputs": [],
   "source": []
  }
 ],
 "metadata": {
  "kernelspec": {
   "display_name": "Python 3 (ipykernel)",
   "language": "python",
   "name": "python3"
  },
  "language_info": {
   "codemirror_mode": {
    "name": "ipython",
    "version": 3
   },
   "file_extension": ".py",
   "mimetype": "text/x-python",
   "name": "python",
   "nbconvert_exporter": "python",
   "pygments_lexer": "ipython3",
   "version": "3.9.7"
  }
 },
 "nbformat": 4,
 "nbformat_minor": 4
}
