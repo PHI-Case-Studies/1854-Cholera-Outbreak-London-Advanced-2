{
 "cells": [
  {
   "cell_type": "code",
   "execution_count": 1,
   "metadata": {},
   "outputs": [],
   "source": [
    "%run resources/library.py"
   ]
  },
  {
   "cell_type": "markdown",
   "metadata": {},
   "source": [
    "# Notebook 2: Computing Convex Hulls - Part 1"
   ]
  },
  {
   "cell_type": "markdown",
   "metadata": {},
   "source": [
    "## What is a Convex Hull?"
   ]
  },
  {
   "cell_type": "markdown",
   "metadata": {},
   "source": [
    "To be able to create Voronoi tesselations, we must be able to create convex hulls.\n",
    "\n",
    "From this [Medium Blog article](https://medium.com/@pascal.sommer.ch/a-gentle-introduction-to-the-convex-hull-problem-62dfcabee90c) a convex hull is \n",
    "> \"a set of points is defined as the smallest convex polygon, that encloses all of the points in the set. Convex means that the polygon has no corner that is bent inwards.\""
   ]
  },
  {
   "cell_type": "markdown",
   "metadata": {},
   "source": [
    "### Methods to compute convex hulls (visual explanation)"
   ]
  },
  {
   "cell_type": "markdown",
   "metadata": {},
   "source": [
    "Here is a YouTube below that explains three methods that can be used to compute convex hulls:\n",
    "1. Jarvis March\n",
    "2. Graham Scan\n",
    "3. Chan's Algorithm"
   ]
  },
  {
   "cell_type": "code",
   "execution_count": 2,
   "metadata": {},
   "outputs": [
    {
     "data": {
      "text/html": [
       "\n",
       "        <iframe\n",
       "            width=\"900\"\n",
       "            height=\"500\"\n",
       "            src=\"https://www.youtube.com/embed/ZnTiWcIznEQ\"\n",
       "            frameborder=\"0\"\n",
       "            allowfullscreen\n",
       "        ></iframe>\n",
       "        "
      ],
      "text/plain": [
       "<IPython.lib.display.IFrame at 0x7f7a1c264fd0>"
      ]
     },
     "execution_count": 2,
     "metadata": {},
     "output_type": "execute_result"
    }
   ],
   "source": [
    "show_youtube(url='https://www.youtube.com/embed/ZnTiWcIznEQ', width=900, height=500)"
   ]
  },
  {
   "cell_type": "markdown",
   "metadata": {},
   "source": [
    "### Using the `scipy.spatial` library"
   ]
  },
  {
   "cell_type": "markdown",
   "metadata": {},
   "source": [
    "The Quickhull Algorithm is another method to compute convex hulls. We can add that as a fourth method:\n",
    "\n",
    "4. Quickhull Algorithm\n",
    "\n",
    "We will use the `scipy.spatial` library to plot a convex hull from random points."
   ]
  },
  {
   "cell_type": "code",
   "execution_count": 3,
   "metadata": {},
   "outputs": [],
   "source": [
    "from scipy.spatial import ConvexHull, convex_hull_plot_2d\n",
    "import numpy as np"
   ]
  },
  {
   "cell_type": "code",
   "execution_count": 4,
   "metadata": {},
   "outputs": [
    {
     "data": {
      "image/png": "[encoded data removed]",
      "text/plain": [
       "<Figure size 432x288 with 1 Axes>"
      ]
     },
     "metadata": {
      "needs_background": "light"
     },
     "output_type": "display_data"
    }
   ],
   "source": [
    "random_2D_array = np.random.random_sample((50,2))\n",
    "hull = ConvexHull(random_2D_array)\n",
    "sample_hull_plot = convex_hull_plot_2d(hull)"
   ]
  },
  {
   "cell_type": "markdown",
   "metadata": {},
   "source": [
    "You can re-run the code cell again to generate more random convex hull plots. \n",
    "\n",
    "You can also review the Scipy Spatial documentation under **References** for more details about the `scipy.spatial` library."
   ]
  },
  {
   "cell_type": "markdown",
   "metadata": {},
   "source": [
    "## Load Cholera data"
   ]
  },
  {
   "cell_type": "code",
   "execution_count": 5,
   "metadata": {},
   "outputs": [
    {
     "data": {
      "text/plain": [
       "'1.3.2'"
      ]
     },
     "execution_count": 5,
     "metadata": {},
     "output_type": "execute_result"
    }
   ],
   "source": [
    "import pandas as pd\n",
    "\n",
    "pd.__version__"
   ]
  },
  {
   "cell_type": "code",
   "execution_count": 6,
   "metadata": {},
   "outputs": [
    {
     "data": {
      "text/html": [
       "<div>\n",
       "<style scoped>\n",
       "    .dataframe tbody tr th:only-of-type {\n",
       "        vertical-align: middle;\n",
       "    }\n",
       "\n",
       "    .dataframe tbody tr th {\n",
       "        vertical-align: top;\n",
       "    }\n",
       "\n",
       "    .dataframe thead th {\n",
       "        text-align: right;\n",
       "    }\n",
       "</style>\n",
       "<table border=\"1\" class=\"dataframe\">\n",
       "  <thead>\n",
       "    <tr style=\"text-align: right;\">\n",
       "      <th></th>\n",
       "      <th>FID</th>\n",
       "      <th>LON</th>\n",
       "      <th>LAT</th>\n",
       "      <th>Street</th>\n",
       "    </tr>\n",
       "  </thead>\n",
       "  <tbody>\n",
       "    <tr>\n",
       "      <th>0</th>\n",
       "      <td>250</td>\n",
       "      <td>-0.136668</td>\n",
       "      <td>51.513341</td>\n",
       "      <td>Broadwick Street</td>\n",
       "    </tr>\n",
       "    <tr>\n",
       "      <th>1</th>\n",
       "      <td>251</td>\n",
       "      <td>-0.139586</td>\n",
       "      <td>51.513876</td>\n",
       "      <td>Kingly Street</td>\n",
       "    </tr>\n",
       "    <tr>\n",
       "      <th>2</th>\n",
       "      <td>252</td>\n",
       "      <td>-0.139671</td>\n",
       "      <td>51.514906</td>\n",
       "      <td>Ramillies Place</td>\n",
       "    </tr>\n",
       "    <tr>\n",
       "      <th>3</th>\n",
       "      <td>253</td>\n",
       "      <td>-0.131630</td>\n",
       "      <td>51.512354</td>\n",
       "      <td>Dean Street</td>\n",
       "    </tr>\n",
       "    <tr>\n",
       "      <th>4</th>\n",
       "      <td>254</td>\n",
       "      <td>-0.133594</td>\n",
       "      <td>51.512139</td>\n",
       "      <td>Rupert Street</td>\n",
       "    </tr>\n",
       "    <tr>\n",
       "      <th>5</th>\n",
       "      <td>255</td>\n",
       "      <td>-0.135919</td>\n",
       "      <td>51.511542</td>\n",
       "      <td>Bridle Lane</td>\n",
       "    </tr>\n",
       "    <tr>\n",
       "      <th>6</th>\n",
       "      <td>256</td>\n",
       "      <td>-0.133962</td>\n",
       "      <td>51.510019</td>\n",
       "      <td>Regent Street</td>\n",
       "    </tr>\n",
       "    <tr>\n",
       "      <th>7</th>\n",
       "      <td>257</td>\n",
       "      <td>-0.138199</td>\n",
       "      <td>51.511295</td>\n",
       "      <td>Warwick Street</td>\n",
       "    </tr>\n",
       "  </tbody>\n",
       "</table>\n",
       "</div>"
      ],
      "text/plain": [
       "   FID       LON        LAT            Street\n",
       "0  250 -0.136668  51.513341  Broadwick Street\n",
       "1  251 -0.139586  51.513876     Kingly Street\n",
       "2  252 -0.139671  51.514906   Ramillies Place\n",
       "3  253 -0.131630  51.512354       Dean Street\n",
       "4  254 -0.133594  51.512139     Rupert Street\n",
       "5  255 -0.135919  51.511542       Bridle Lane\n",
       "6  256 -0.133962  51.510019     Regent Street\n",
       "7  257 -0.138199  51.511295    Warwick Street"
      ]
     },
     "execution_count": 6,
     "metadata": {},
     "output_type": "execute_result"
    }
   ],
   "source": [
    "pumps_df = pd.read_csv('data/pumps.csv')\n",
    "\n",
    "pumps_df"
   ]
  },
  {
   "cell_type": "code",
   "execution_count": 7,
   "metadata": {},
   "outputs": [
    {
     "data": {
      "text/html": [
       "<div>\n",
       "<style scoped>\n",
       "    .dataframe tbody tr th:only-of-type {\n",
       "        vertical-align: middle;\n",
       "    }\n",
       "\n",
       "    .dataframe tbody tr th {\n",
       "        vertical-align: top;\n",
       "    }\n",
       "\n",
       "    .dataframe thead th {\n",
       "        text-align: right;\n",
       "    }\n",
       "</style>\n",
       "<table border=\"1\" class=\"dataframe\">\n",
       "  <thead>\n",
       "    <tr style=\"text-align: right;\">\n",
       "      <th></th>\n",
       "      <th>FID</th>\n",
       "      <th>DEATHS</th>\n",
       "      <th>LON</th>\n",
       "      <th>LAT</th>\n",
       "    </tr>\n",
       "  </thead>\n",
       "  <tbody>\n",
       "    <tr>\n",
       "      <th>0</th>\n",
       "      <td>0</td>\n",
       "      <td>3</td>\n",
       "      <td>-0.137930</td>\n",
       "      <td>51.513418</td>\n",
       "    </tr>\n",
       "    <tr>\n",
       "      <th>1</th>\n",
       "      <td>1</td>\n",
       "      <td>2</td>\n",
       "      <td>-0.137883</td>\n",
       "      <td>51.513361</td>\n",
       "    </tr>\n",
       "    <tr>\n",
       "      <th>2</th>\n",
       "      <td>2</td>\n",
       "      <td>1</td>\n",
       "      <td>-0.137853</td>\n",
       "      <td>51.513317</td>\n",
       "    </tr>\n",
       "    <tr>\n",
       "      <th>3</th>\n",
       "      <td>3</td>\n",
       "      <td>1</td>\n",
       "      <td>-0.137812</td>\n",
       "      <td>51.513262</td>\n",
       "    </tr>\n",
       "    <tr>\n",
       "      <th>4</th>\n",
       "      <td>4</td>\n",
       "      <td>4</td>\n",
       "      <td>-0.137767</td>\n",
       "      <td>51.513204</td>\n",
       "    </tr>\n",
       "    <tr>\n",
       "      <th>...</th>\n",
       "      <td>...</td>\n",
       "      <td>...</td>\n",
       "      <td>...</td>\n",
       "      <td>...</td>\n",
       "    </tr>\n",
       "    <tr>\n",
       "      <th>245</th>\n",
       "      <td>245</td>\n",
       "      <td>3</td>\n",
       "      <td>-0.137108</td>\n",
       "      <td>51.514526</td>\n",
       "    </tr>\n",
       "    <tr>\n",
       "      <th>246</th>\n",
       "      <td>246</td>\n",
       "      <td>2</td>\n",
       "      <td>-0.137065</td>\n",
       "      <td>51.514706</td>\n",
       "    </tr>\n",
       "    <tr>\n",
       "      <th>247</th>\n",
       "      <td>247</td>\n",
       "      <td>1</td>\n",
       "      <td>-0.138474</td>\n",
       "      <td>51.512311</td>\n",
       "    </tr>\n",
       "    <tr>\n",
       "      <th>248</th>\n",
       "      <td>248</td>\n",
       "      <td>1</td>\n",
       "      <td>-0.138123</td>\n",
       "      <td>51.511998</td>\n",
       "    </tr>\n",
       "    <tr>\n",
       "      <th>249</th>\n",
       "      <td>249</td>\n",
       "      <td>1</td>\n",
       "      <td>-0.137762</td>\n",
       "      <td>51.511856</td>\n",
       "    </tr>\n",
       "  </tbody>\n",
       "</table>\n",
       "<p>250 rows × 4 columns</p>\n",
       "</div>"
      ],
      "text/plain": [
       "     FID  DEATHS       LON        LAT\n",
       "0      0       3 -0.137930  51.513418\n",
       "1      1       2 -0.137883  51.513361\n",
       "2      2       1 -0.137853  51.513317\n",
       "3      3       1 -0.137812  51.513262\n",
       "4      4       4 -0.137767  51.513204\n",
       "..   ...     ...       ...        ...\n",
       "245  245       3 -0.137108  51.514526\n",
       "246  246       2 -0.137065  51.514706\n",
       "247  247       1 -0.138474  51.512311\n",
       "248  248       1 -0.138123  51.511998\n",
       "249  249       1 -0.137762  51.511856\n",
       "\n",
       "[250 rows x 4 columns]"
      ]
     },
     "execution_count": 7,
     "metadata": {},
     "output_type": "execute_result"
    }
   ],
   "source": [
    "deaths_df = pd.read_csv('data/cholera_deaths.csv')\n",
    "\n",
    "deaths_df"
   ]
  },
  {
   "cell_type": "markdown",
   "metadata": {},
   "source": [
    "## Prepare data for computing convex hull"
   ]
  },
  {
   "cell_type": "code",
   "execution_count": 8,
   "metadata": {},
   "outputs": [
    {
     "data": {
      "text/plain": [
       "array([[51.513341, -0.136668],\n",
       "       [51.513876, -0.139586],\n",
       "       [51.514906, -0.139671],\n",
       "       [51.512354, -0.13163 ],\n",
       "       [51.512139, -0.133594],\n",
       "       [51.511542, -0.135919],\n",
       "       [51.510019, -0.133962],\n",
       "       [51.511295, -0.138199]])"
      ]
     },
     "execution_count": 8,
     "metadata": {},
     "output_type": "execute_result"
    }
   ],
   "source": [
    "points_pumps = np.array([[lat,lon] for lat,lon in pumps_df[['LAT','LON']].values])\n",
    "\n",
    "points_pumps"
   ]
  },
  {
   "cell_type": "code",
   "execution_count": 9,
   "metadata": {
    "scrolled": true,
    "tags": []
   },
   "outputs": [
    {
     "data": {
      "text/plain": [
       "array([[51.513418, -0.13793 ],\n",
       "       [51.513361, -0.137883],\n",
       "       [51.513317, -0.137853],\n",
       "       [51.513262, -0.137812],\n",
       "       [51.513204, -0.137767],\n",
       "       [51.513184, -0.137537],\n",
       "       [51.513359, -0.1382  ],\n",
       "       [51.513328, -0.138045],\n",
       "       [51.513323, -0.138276],\n",
       "       [51.513427, -0.138223],\n",
       "       [51.513381, -0.138337],\n",
       "       [51.513462, -0.138563],\n",
       "       [51.513216, -0.138426],\n",
       "       [51.513169, -0.138378],\n",
       "       [51.513116, -0.138337],\n",
       "       [51.51324 , -0.138645],\n",
       "       [51.513164, -0.138698],\n",
       "       [51.513178, -0.137924],\n",
       "       [51.513111, -0.137865],\n",
       "       [51.513055, -0.137811],\n",
       "       [51.513441, -0.138762],\n",
       "       [51.513592, -0.138799],\n",
       "       [51.513402, -0.139045],\n",
       "       [51.51338 , -0.13897 ],\n",
       "       [51.513411, -0.138863],\n",
       "       [51.513641, -0.138752],\n",
       "       [51.513693, -0.138808],\n",
       "       [51.513745, -0.138856],\n",
       "       [51.513676, -0.138887],\n",
       "       [51.51359 , -0.139239],\n",
       "       [51.513663, -0.139321],\n",
       "       [51.513502, -0.139316],\n",
       "       [51.513583, -0.139616],\n",
       "       [51.513541, -0.139719],\n",
       "       [51.513298, -0.140074],\n",
       "       [51.513291, -0.139094],\n",
       "       [51.513013, -0.139697],\n",
       "       [51.512965, -0.139327],\n",
       "       [51.512893, -0.139317],\n",
       "       [51.512964, -0.139187],\n",
       "       [51.513025, -0.139036],\n",
       "       [51.513027, -0.139209],\n",
       "       [51.512831, -0.138427],\n",
       "       [51.512885, -0.138624],\n",
       "       [51.512526, -0.138096],\n",
       "       [51.512465, -0.138035],\n",
       "       [51.512428, -0.137984],\n",
       "       [51.512415, -0.138065],\n",
       "       [51.51251 , -0.138194],\n",
       "       [51.512378, -0.137818],\n",
       "       [51.512447, -0.137656],\n",
       "       [51.512491, -0.137584],\n",
       "       [51.512374, -0.13765 ],\n",
       "       [51.512339, -0.13745 ],\n",
       "       [51.512364, -0.137376],\n",
       "       [51.512319, -0.137327],\n",
       "       [51.51254 , -0.13698 ],\n",
       "       [51.512649, -0.13718 ],\n",
       "       [51.512692, -0.137052],\n",
       "       [51.512957, -0.137695],\n",
       "       [51.512765, -0.137533],\n",
       "       [51.51278 , -0.137419],\n",
       "       [51.512726, -0.137368],\n",
       "       [51.512681, -0.137325],\n",
       "       [51.512914, -0.137531],\n",
       "       [51.513046, -0.137562],\n",
       "       [51.513074, -0.137466],\n",
       "       [51.513087, -0.137386],\n",
       "       [51.513122, -0.137306],\n",
       "       [51.513187, -0.137089],\n",
       "       [51.513214, -0.136996],\n",
       "       [51.513249, -0.136859],\n",
       "       [51.513271, -0.136778],\n",
       "       [51.5133  , -0.136705],\n",
       "       [51.51316 , -0.136493],\n",
       "       [51.513016, -0.13633 ],\n",
       "       [51.512921, -0.136424],\n",
       "       [51.51289 , -0.136523],\n",
       "       [51.512859, -0.136599],\n",
       "       [51.51283 , -0.136699],\n",
       "       [51.512782, -0.136819],\n",
       "       [51.512729, -0.136973],\n",
       "       [51.512868, -0.136358],\n",
       "       [51.512723, -0.13663 ],\n",
       "       [51.512654, -0.136584],\n",
       "       [51.512713, -0.136423],\n",
       "       [51.512615, -0.136345],\n",
       "       [51.512491, -0.136437],\n",
       "       [51.512449, -0.136377],\n",
       "       [51.512465, -0.136197],\n",
       "       [51.512413, -0.136142],\n",
       "       [51.512358, -0.136102],\n",
       "       [51.512271, -0.13603 ],\n",
       "       [51.512355, -0.13631 ],\n",
       "       [51.511991, -0.13594 ],\n",
       "       [51.512083, -0.135858],\n",
       "       [51.512031, -0.1358  ],\n",
       "       [51.51197 , -0.135717],\n",
       "       [51.511882, -0.135119],\n",
       "       [51.51205 , -0.135144],\n",
       "       [51.51225 , -0.135394],\n",
       "       [51.512162, -0.135409],\n",
       "       [51.512212, -0.135472],\n",
       "       [51.512573, -0.135765],\n",
       "       [51.512575, -0.135871],\n",
       "       [51.512672, -0.135976],\n",
       "       [51.512727, -0.136033],\n",
       "       [51.512794, -0.136115],\n",
       "       [51.512846, -0.13618 ],\n",
       "       [51.512879, -0.136083],\n",
       "       [51.512939, -0.136139],\n",
       "       [51.512765, -0.135329],\n",
       "       [51.512844, -0.135122],\n",
       "       [51.512532, -0.134645],\n",
       "       [51.512198, -0.134522],\n",
       "       [51.512215, -0.134967],\n",
       "       [51.513154, -0.135098],\n",
       "       [51.513056, -0.134394],\n",
       "       [51.513165, -0.134505],\n",
       "       [51.513098, -0.134437],\n",
       "       [51.513238, -0.134594],\n",
       "       [51.513293, -0.13464 ],\n",
       "       [51.513379, -0.134709],\n",
       "       [51.513431, -0.134756],\n",
       "       [51.513475, -0.135244],\n",
       "       [51.513422, -0.134897],\n",
       "       [51.513528, -0.135158],\n",
       "       [51.513481, -0.135344],\n",
       "       [51.513594, -0.135063],\n",
       "       [51.513227, -0.135801],\n",
       "       [51.51318 , -0.135762],\n",
       "       [51.513132, -0.13574 ],\n",
       "       [51.513048, -0.135645],\n",
       "       [51.513006, -0.135602],\n",
       "       [51.512883, -0.135501],\n",
       "       [51.51327 , -0.135832],\n",
       "       [51.513459, -0.136049],\n",
       "       [51.513431, -0.13614 ],\n",
       "       [51.513402, -0.136228],\n",
       "       [51.512593, -0.134999],\n",
       "       [51.512585, -0.134793],\n",
       "       [51.512555, -0.134896],\n",
       "       [51.512521, -0.135   ],\n",
       "       [51.513137, -0.133483],\n",
       "       [51.513228, -0.133265],\n",
       "       [51.513152, -0.133296],\n",
       "       [51.513258, -0.132933],\n",
       "       [51.513544, -0.133998],\n",
       "       [51.513626, -0.134042],\n",
       "       [51.513637, -0.134156],\n",
       "       [51.513524, -0.134091],\n",
       "       [51.51382 , -0.134272],\n",
       "       [51.513724, -0.13422 ],\n",
       "       [51.513704, -0.134704],\n",
       "       [51.513831, -0.134782],\n",
       "       [51.513915, -0.13501 ],\n",
       "       [51.513597, -0.134923],\n",
       "       [51.514032, -0.134885],\n",
       "       [51.513891, -0.134212],\n",
       "       [51.513758, -0.134135],\n",
       "       [51.514065, -0.134364],\n",
       "       [51.514146, -0.134447],\n",
       "       [51.514201, -0.134479],\n",
       "       [51.51423 , -0.134658],\n",
       "       [51.514319, -0.134367],\n",
       "       [51.514377, -0.134179],\n",
       "       [51.514357, -0.13416 ],\n",
       "       [51.514382, -0.134069],\n",
       "       [51.514402, -0.134085],\n",
       "       [51.514522, -0.133821],\n",
       "       [51.514497, -0.133922],\n",
       "       [51.514472, -0.13385 ],\n",
       "       [51.514504, -0.133725],\n",
       "       [51.514546, -0.133745],\n",
       "       [51.514561, -0.133676],\n",
       "       [51.514594, -0.133563],\n",
       "       [51.514581, -0.133467],\n",
       "       [51.514606, -0.133393],\n",
       "       [51.515834, -0.134474],\n",
       "       [51.515195, -0.135259],\n",
       "       [51.515149, -0.135395],\n",
       "       [51.514818, -0.136022],\n",
       "       [51.514843, -0.136804],\n",
       "       [51.514914, -0.136583],\n",
       "       [51.514496, -0.135653],\n",
       "       [51.514743, -0.135578],\n",
       "       [51.514467, -0.13486 ],\n",
       "       [51.514453, -0.13469 ],\n",
       "       [51.514845, -0.134818],\n",
       "       [51.514389, -0.135704],\n",
       "       [51.514399, -0.135561],\n",
       "       [51.514335, -0.135649],\n",
       "       [51.514224, -0.135415],\n",
       "       [51.51422 , -0.135576],\n",
       "       [51.514145, -0.135357],\n",
       "       [51.514108, -0.135475],\n",
       "       [51.514359, -0.136226],\n",
       "       [51.514326, -0.136328],\n",
       "       [51.514544, -0.136222],\n",
       "       [51.514569, -0.136117],\n",
       "       [51.514586, -0.13603 ],\n",
       "       [51.514612, -0.136266],\n",
       "       [51.514575, -0.136421],\n",
       "       [51.514507, -0.136935],\n",
       "       [51.514274, -0.136931],\n",
       "       [51.514293, -0.136799],\n",
       "       [51.514058, -0.13678 ],\n",
       "       [51.514148, -0.136696],\n",
       "       [51.513961, -0.136712],\n",
       "       [51.514027, -0.136123],\n",
       "       [51.514076, -0.135958],\n",
       "       [51.514096, -0.135883],\n",
       "       [51.514134, -0.135788],\n",
       "       [51.514033, -0.135849],\n",
       "       [51.513996, -0.136008],\n",
       "       [51.51396 , -0.136099],\n",
       "       [51.513945, -0.13617 ],\n",
       "       [51.513821, -0.135485],\n",
       "       [51.513999, -0.135374],\n",
       "       [51.513795, -0.135582],\n",
       "       [51.513766, -0.135679],\n",
       "       [51.513726, -0.135814],\n",
       "       [51.513692, -0.135905],\n",
       "       [51.513672, -0.135992],\n",
       "       [51.513603, -0.136217],\n",
       "       [51.513482, -0.136579],\n",
       "       [51.513458, -0.136675],\n",
       "       [51.513429, -0.136764],\n",
       "       [51.513404, -0.136877],\n",
       "       [51.513359, -0.136953],\n",
       "       [51.513378, -0.13723 ],\n",
       "       [51.513855, -0.136651],\n",
       "       [51.513875, -0.136503],\n",
       "       [51.513565, -0.137367],\n",
       "       [51.513616, -0.137422],\n",
       "       [51.513742, -0.137472],\n",
       "       [51.513918, -0.1383  ],\n",
       "       [51.513772, -0.137363],\n",
       "       [51.513502, -0.137995],\n",
       "       [51.513712, -0.138139],\n",
       "       [51.513644, -0.138239],\n",
       "       [51.513711, -0.138272],\n",
       "       [51.514061, -0.138083],\n",
       "       [51.514748, -0.137912],\n",
       "       [51.514794, -0.137707],\n",
       "       [51.514526, -0.137108],\n",
       "       [51.514706, -0.137065],\n",
       "       [51.512311, -0.138474],\n",
       "       [51.511998, -0.138123],\n",
       "       [51.511856, -0.137762]])"
      ]
     },
     "execution_count": 9,
     "metadata": {},
     "output_type": "execute_result"
    }
   ],
   "source": [
    "points_deaths = np.array([[lat,lon] for lat,lon in deaths_df[['LAT','LON']].values])\n",
    "\n",
    "points_deaths"
   ]
  },
  {
   "cell_type": "markdown",
   "metadata": {},
   "source": [
    "### Combine all points"
   ]
  },
  {
   "cell_type": "code",
   "execution_count": 10,
   "metadata": {},
   "outputs": [
    {
     "data": {
      "text/plain": [
       "(51.512354, -0.13163)"
      ]
     },
     "execution_count": 10,
     "metadata": {},
     "output_type": "execute_result"
    }
   ],
   "source": [
    "points = np.concatenate((points_pumps, points_deaths), axis=0)\n",
    "\n",
    "points[3,0], points[3,1]"
   ]
  },
  {
   "cell_type": "markdown",
   "metadata": {},
   "source": [
    "## Compute Convex Hull"
   ]
  },
  {
   "cell_type": "code",
   "execution_count": 11,
   "metadata": {},
   "outputs": [],
   "source": [
    "from scipy.spatial import ConvexHull, Voronoi"
   ]
  },
  {
   "cell_type": "code",
   "execution_count": 12,
   "metadata": {},
   "outputs": [
    {
     "data": {
      "text/plain": [
       "<scipy.spatial.qhull.ConvexHull at 0x7f79c3543730>"
      ]
     },
     "execution_count": 12,
     "metadata": {},
     "output_type": "execute_result"
    }
   ],
   "source": [
    "hull = ConvexHull(points)\n",
    "\n",
    "hull"
   ]
  },
  {
   "cell_type": "code",
   "execution_count": 13,
   "metadata": {
    "scrolled": true
   },
   "outputs": [
    {
     "data": {
      "text/plain": [
       "array([  3,   6,   7,  42,   2, 186, 185], dtype=int32)"
      ]
     },
     "execution_count": 13,
     "metadata": {},
     "output_type": "execute_result"
    }
   ],
   "source": [
    "hull.vertices"
   ]
  },
  {
   "cell_type": "code",
   "execution_count": 14,
   "metadata": {},
   "outputs": [
    {
     "data": {
      "text/plain": [
       "array([[  3,   6],\n",
       "       [  7,   6],\n",
       "       [  7,  42],\n",
       "       [  2, 186],\n",
       "       [  2,  42],\n",
       "       [185, 186],\n",
       "       [185,   3]], dtype=int32)"
      ]
     },
     "execution_count": 14,
     "metadata": {},
     "output_type": "execute_result"
    }
   ],
   "source": [
    "hull.simplices"
   ]
  },
  {
   "cell_type": "code",
   "execution_count": 15,
   "metadata": {},
   "outputs": [
    {
     "name": "stdout",
     "output_type": "stream",
     "text": [
      "simplex, indices of points: [3 6]\n",
      "points, 0 and 1: [51.512354 51.510019] [-0.13163  -0.133962]\n",
      "simplex, indices of points: [7 6]\n",
      "points, 0 and 1: [51.511295 51.510019] [-0.138199 -0.133962]\n",
      "simplex, indices of points: [ 7 42]\n",
      "points, 0 and 1: [51.511295 51.513298] [-0.138199 -0.140074]\n",
      "simplex, indices of points: [  2 186]\n",
      "points, 0 and 1: [51.514906 51.515834] [-0.139671 -0.134474]\n",
      "simplex, indices of points: [ 2 42]\n",
      "points, 0 and 1: [51.514906 51.513298] [-0.139671 -0.140074]\n",
      "simplex, indices of points: [185 186]\n",
      "points, 0 and 1: [51.514606 51.515834] [-0.133393 -0.134474]\n",
      "simplex, indices of points: [185   3]\n",
      "points, 0 and 1: [51.514606 51.512354] [-0.133393 -0.13163 ]\n"
     ]
    }
   ],
   "source": [
    "for simplex in hull.simplices:\n",
    "    print(\"simplex, indices of points:\", simplex)\n",
    "    print (\"points, 0 and 1:\", points[simplex,0], points[simplex,1])"
   ]
  },
  {
   "cell_type": "code",
   "execution_count": 16,
   "metadata": {},
   "outputs": [
    {
     "data": {
      "text/plain": [
       "([-0.13163, -0.133962, -0.138199, -0.140074, -0.139671, -0.134474, -0.133393],\n",
       " [51.512354, 51.510019, 51.511295, 51.513298, 51.514906, 51.515834, 51.514606])"
      ]
     },
     "execution_count": 16,
     "metadata": {},
     "output_type": "execute_result"
    }
   ],
   "source": [
    "x=[]\n",
    "y=[]\n",
    "for vertex in hull.vertices:\n",
    "    y.append(points[vertex,0])\n",
    "    x.append(points[vertex,1])\n",
    "    \n",
    "x,y"
   ]
  },
  {
   "cell_type": "code",
   "execution_count": 17,
   "metadata": {},
   "outputs": [],
   "source": [
    "import matplotlib.pyplot as plt\n",
    "\n",
    "%matplotlib inline"
   ]
  },
  {
   "cell_type": "code",
   "execution_count": 18,
   "metadata": {},
   "outputs": [
    {
     "data": {
      "image/png": "[encoded data removed]",
      "text/plain": [
       "<Figure size 432x288 with 1 Axes>"
      ]
     },
     "metadata": {
      "needs_background": "light"
     },
     "output_type": "display_data"
    }
   ],
   "source": [
    "plt.plot(points[:,1], points[:,0], 'o')\n",
    "for simplex in hull.simplices:\n",
    "    plt.plot(points[simplex,1], points[simplex,0], 'k-')\n",
    "    \n",
    "plt.show()"
   ]
  },
  {
   "cell_type": "markdown",
   "metadata": {},
   "source": [
    "### Solve for vertices (points) of convex hull"
   ]
  },
  {
   "cell_type": "code",
   "execution_count": 19,
   "metadata": {},
   "outputs": [],
   "source": [
    "from shapely.geometry import Point, MultiPoint, Polygon"
   ]
  },
  {
   "cell_type": "code",
   "execution_count": 20,
   "metadata": {
    "scrolled": true
   },
   "outputs": [
    {
     "data": {
      "image/svg+xml": [
       "<svg xmlns=\"http://www.w3.org/2000/svg\" xmlns:xlink=\"http://www.w3.org/1999/xlink\" width=\"100.0\" height=\"100.0\" viewBox=\"-0.14041176 51.50968124 0.009119519999999992 0.006490519999999833\" preserveAspectRatio=\"xMinYMin meet\"><g transform=\"matrix(1,0,0,-1,0,103.025853)\"><g><circle cx=\"-0.13163\" cy=\"51.512354\" r=\"0.00027358559999999973\" stroke=\"#555555\" stroke-width=\"9.119519999999992e-05\" fill=\"#66cc99\" opacity=\"0.6\" /><circle cx=\"-0.133962\" cy=\"51.510019\" r=\"0.00027358559999999973\" stroke=\"#555555\" stroke-width=\"9.119519999999992e-05\" fill=\"#66cc99\" opacity=\"0.6\" /><circle cx=\"-0.138199\" cy=\"51.511295\" r=\"0.00027358559999999973\" stroke=\"#555555\" stroke-width=\"9.119519999999992e-05\" fill=\"#66cc99\" opacity=\"0.6\" /><circle cx=\"-0.140074\" cy=\"51.513298\" r=\"0.00027358559999999973\" stroke=\"#555555\" stroke-width=\"9.119519999999992e-05\" fill=\"#66cc99\" opacity=\"0.6\" /><circle cx=\"-0.139671\" cy=\"51.514906\" r=\"0.00027358559999999973\" stroke=\"#555555\" stroke-width=\"9.119519999999992e-05\" fill=\"#66cc99\" opacity=\"0.6\" /><circle cx=\"-0.134474\" cy=\"51.515834\" r=\"0.00027358559999999973\" stroke=\"#555555\" stroke-width=\"9.119519999999992e-05\" fill=\"#66cc99\" opacity=\"0.6\" /><circle cx=\"-0.133393\" cy=\"51.514606\" r=\"0.00027358559999999973\" stroke=\"#555555\" stroke-width=\"9.119519999999992e-05\" fill=\"#66cc99\" opacity=\"0.6\" /></g></g></svg>"
      ],
      "text/plain": [
       "<shapely.geometry.multipoint.MultiPoint at 0x7f79c318cfa0>"
      ]
     },
     "execution_count": 20,
     "metadata": {},
     "output_type": "execute_result"
    }
   ],
   "source": [
    "vertex_points = MultiPoint([(points[vertex,1], points[vertex,0]) \\\n",
    "                            for vertex in hull.vertices])\n",
    "\n",
    "vertex_points"
   ]
  },
  {
   "cell_type": "markdown",
   "metadata": {},
   "source": [
    "### Convert vertices to a Shapely Polygon and apply `.buffer()` function"
   ]
  },
  {
   "cell_type": "code",
   "execution_count": 21,
   "metadata": {},
   "outputs": [
    {
     "data": {
      "image/svg+xml": [
       "<svg xmlns=\"http://www.w3.org/2000/svg\" xmlns:xlink=\"http://www.w3.org/1999/xlink\" width=\"100.0\" height=\"100.0\" viewBox=\"-0.14256955683715747 51.507521332928064 0.01343708310610614 0.010809528407165203\" preserveAspectRatio=\"xMinYMin meet\"><g transform=\"matrix(1,0,0,-1,0,103.0258521942633)\"><path fill-rule=\"evenodd\" fill=\"#66cc99\" stroke=\"#555555\" stroke-width=\"0.00026874166212212283\" opacity=\"0.6\" d=\"M -0.13005518185250345,51.51358686163146 L -0.12994361766998985,51.513429227714035 L -0.12984777690262622,51.513261568637176 L -0.12976855314621724,51.51308544761299 L -0.12970668506363292,51.512902506750684 L -0.12966274949769818,51.512714451746 L -0.12963715609285173,51.51252303597766 L -0.12963014347572194,51.51233004415933 L -0.1296417770302306,51.512137275699374 L -0.12967194828796938,51.51194652792364 L -0.1297203759395326,51.511759579317584 L -0.129786608457377,51.511578172944155 L -0.1298700283057541,51.51140400019187 L -0.12996985769846167,51.51123868500475 L -0.1300851658507317,51.51108376874104 L -0.13021487765763856,51.51094069580198 L -0.13254687765763856,51.508605695801975 L -0.13269202829116303,51.50847395247363 L -0.13284937859389995,51.508357051262315 L -0.13301741701907255,51.50825611515063 L -0.13319452934709786,51.508172113756366 L -0.13337901419218878,51.50810585401815 L -0.13356909934629585,51.508057972443765 L -0.13376295880338582,51.50802892899573 L -0.13395873030051697,51.50801900267273 L -0.13415453320720774,51.50802828882956 L -0.1343484865912484,51.50805669826102 L -0.13453872728741223,51.50810395805895 L -0.13877572728741222,51.50937995805895 L -0.13897358398245616,51.50945108577908 L -0.1391628802804465,51.50954259171282 L -0.13934152415326337,51.50965346457266 L -0.13950754129919474,51.509782479035415 L -0.13965909696213896,51.50992820928407 L -0.14153409696213898,51.51193120928407 L -0.14166300710646332,51.512083480994136 L -0.14177610484284328,51.512247838534336 L -0.14187226472159675,51.51242264636228 L -0.14195052984377443,51.512606164943485 L -0.142010121383382,51.51279656806164 L -0.1420504463375749,51.512991960991556 L -0.14207110342770346,51.51319039935383 L -0.14207188709248686,51.51338990846356 L -0.14205278953357908,51.5135885029807 L -0.14201400079317075,51.51378420666644 L -0.14161100079317074,51.51539220666645 L -0.14155565758076477,51.515575377175644 L -0.1414830630107348,51.51575242048955 L -0.14139388158304242,51.51592171602863 L -0.14128892962672168,51.51608171413319 L -0.14116916782754932,51.516230950248314 L -0.1410356924343337,51.51636805832978 L -0.14088972522431747,51.516491783348265 L -0.1407326023195458,51.51660099277731 L -0.14056576195657092,51.51669468696006 L -0.14039073132144353,51.516772008259615 L -0.1402091125704983,51.51683224890954 L -0.1400225681648931,51.51687485749242 L -0.13482556816489313,51.51780285749241 L -0.13462213292226083,51.51782850661501 L -0.13441714066279914,51.51783319159056 L -0.13421274604863864,51.51781686317553 L -0.13401109746009376,51.51777969299699 L -0.13381431441415795,51.517722071748594 L -0.13362446528637933,51.51764460508404 L -0.13344354557028165,51.517548107251095 L -0.13327345690284378,51.517433592533074 L -0.13311598707650013,51.517302264587734 L -0.13297279124775438,51.51715550379575 L -0.13189179124775438,51.51592750379575 L -0.13181818185250346,51.51583886163146 L -0.13005518185250345,51.51358686163146 z\" /></g></svg>"
      ],
      "text/plain": [
       "<shapely.geometry.polygon.Polygon at 0x7f79c318cd30>"
      ]
     },
     "execution_count": 21,
     "metadata": {},
     "output_type": "execute_result"
    }
   ],
   "source": [
    "convexhull_poly = Polygon([[p.x,p.y] for p in vertex_points]).buffer(.002)\n",
    "\n",
    "convexhull_poly"
   ]
  },
  {
   "cell_type": "markdown",
   "metadata": {},
   "source": [
    "Recall the buffer function we used in isochrone mapping."
   ]
  },
  {
   "cell_type": "markdown",
   "metadata": {},
   "source": [
    "### Convert convex hull polygon to Geopandas geodataframe"
   ]
  },
  {
   "cell_type": "code",
   "execution_count": 22,
   "metadata": {},
   "outputs": [
    {
     "data": {
      "text/plain": [
       "'0.9.0'"
      ]
     },
     "execution_count": 22,
     "metadata": {},
     "output_type": "execute_result"
    }
   ],
   "source": [
    "import geopandas as gpd\n",
    "\n",
    "gpd.__version__"
   ]
  },
  {
   "cell_type": "code",
   "execution_count": 23,
   "metadata": {},
   "outputs": [
    {
     "data": {
      "text/html": [
       "<div>\n",
       "<style scoped>\n",
       "    .dataframe tbody tr th:only-of-type {\n",
       "        vertical-align: middle;\n",
       "    }\n",
       "\n",
       "    .dataframe tbody tr th {\n",
       "        vertical-align: top;\n",
       "    }\n",
       "\n",
       "    .dataframe thead th {\n",
       "        text-align: right;\n",
       "    }\n",
       "</style>\n",
       "<table border=\"1\" class=\"dataframe\">\n",
       "  <thead>\n",
       "    <tr style=\"text-align: right;\">\n",
       "      <th></th>\n",
       "      <th>geometry</th>\n",
       "    </tr>\n",
       "  </thead>\n",
       "  <tbody>\n",
       "    <tr>\n",
       "      <th>0</th>\n",
       "      <td>POLYGON ((-0.13006 51.51359, -0.12994 51.51343...</td>\n",
       "    </tr>\n",
       "  </tbody>\n",
       "</table>\n",
       "</div>"
      ],
      "text/plain": [
       "                                            geometry\n",
       "0  POLYGON ((-0.13006 51.51359, -0.12994 51.51343..."
      ]
     },
     "execution_count": 23,
     "metadata": {},
     "output_type": "execute_result"
    }
   ],
   "source": [
    "crs = {'init': 'epsg:4326'}\n",
    "convexhull_gdf = gpd.GeoDataFrame(index=[0], crs=crs, geometry=[convexhull_poly])\n",
    "\n",
    "convexhull_gdf"
   ]
  },
  {
   "cell_type": "markdown",
   "metadata": {},
   "source": [
    "Recall the CRS function we used for isochrone mapping. "
   ]
  },
  {
   "cell_type": "code",
   "execution_count": 24,
   "metadata": {
    "tags": []
   },
   "outputs": [
    {
     "data": {
      "text/plain": [
       "<AxesSubplot:>"
      ]
     },
     "execution_count": 24,
     "metadata": {},
     "output_type": "execute_result"
    },
    {
     "data": {
      "image/png": "[encoded data removed]",
      "text/plain": [
       "<Figure size 432x288 with 1 Axes>"
      ]
     },
     "metadata": {
      "needs_background": "light"
     },
     "output_type": "display_data"
    }
   ],
   "source": [
    "convexhull_gdf.plot(alpha=0.2, edgecolor='black',linewidth=2)"
   ]
  },
  {
   "cell_type": "markdown",
   "metadata": {},
   "source": [
    "### Save the convex hull polygon"
   ]
  },
  {
   "cell_type": "code",
   "execution_count": 25,
   "metadata": {},
   "outputs": [
    {
     "data": {
      "text/html": [
       "<div>\n",
       "<style scoped>\n",
       "    .dataframe tbody tr th:only-of-type {\n",
       "        vertical-align: middle;\n",
       "    }\n",
       "\n",
       "    .dataframe tbody tr th {\n",
       "        vertical-align: top;\n",
       "    }\n",
       "\n",
       "    .dataframe thead th {\n",
       "        text-align: right;\n",
       "    }\n",
       "</style>\n",
       "<table border=\"1\" class=\"dataframe\">\n",
       "  <thead>\n",
       "    <tr style=\"text-align: right;\">\n",
       "      <th></th>\n",
       "      <th>geometry</th>\n",
       "    </tr>\n",
       "  </thead>\n",
       "  <tbody>\n",
       "    <tr>\n",
       "      <th>0</th>\n",
       "      <td>POLYGON ((-0.13006 51.51359, -0.12994 51.51343...</td>\n",
       "    </tr>\n",
       "  </tbody>\n",
       "</table>\n",
       "</div>"
      ],
      "text/plain": [
       "                                            geometry\n",
       "0  POLYGON ((-0.13006 51.51359, -0.12994 51.51343..."
      ]
     },
     "execution_count": 25,
     "metadata": {},
     "output_type": "execute_result"
    }
   ],
   "source": [
    "convexhull_gdf.to_file('outputs/convexhull.shp')\n",
    "\n",
    "convexhull_gdf"
   ]
  },
  {
   "cell_type": "markdown",
   "metadata": {},
   "source": [
    "### Alternative method to display convex hull"
   ]
  },
  {
   "cell_type": "code",
   "execution_count": 26,
   "metadata": {},
   "outputs": [
    {
     "data": {
      "text/plain": [
       "[<matplotlib.lines.Line2D at 0x7f79bc3294c0>]"
      ]
     },
     "execution_count": 26,
     "metadata": {},
     "output_type": "execute_result"
    },
    {
     "data": {
      "image/png": "[encoded data removed]",
      "text/plain": [
       "<Figure size 432x288 with 1 Axes>"
      ]
     },
     "metadata": {
      "needs_background": "light"
     },
     "output_type": "display_data"
    }
   ],
   "source": [
    "x,y = convexhull_poly.exterior.xy\n",
    "plt.plot(x,y, color='gray')"
   ]
  },
  {
   "cell_type": "markdown",
   "metadata": {},
   "source": [
    "## Bring all the plots together"
   ]
  },
  {
   "cell_type": "markdown",
   "metadata": {},
   "source": [
    "### Plot pumps"
   ]
  },
  {
   "cell_type": "code",
   "execution_count": 27,
   "metadata": {},
   "outputs": [
    {
     "data": {
      "text/plain": [
       "[<matplotlib.lines.Line2D at 0x7f79bc295250>]"
      ]
     },
     "execution_count": 27,
     "metadata": {},
     "output_type": "execute_result"
    },
    {
     "data": {
      "image/png": "[encoded data removed]",
      "text/plain": [
       "<Figure size 432x288 with 1 Axes>"
      ]
     },
     "metadata": {
      "needs_background": "light"
     },
     "output_type": "display_data"
    }
   ],
   "source": [
    "plt.plot(points_pumps[:,1], points_pumps[:,0], 'o', color='red', )"
   ]
  },
  {
   "cell_type": "markdown",
   "metadata": {},
   "source": [
    "### Plot death locations"
   ]
  },
  {
   "cell_type": "code",
   "execution_count": 28,
   "metadata": {
    "tags": []
   },
   "outputs": [
    {
     "data": {
      "text/plain": [
       "[<matplotlib.lines.Line2D at 0x7f79bc27c9d0>]"
      ]
     },
     "execution_count": 28,
     "metadata": {},
     "output_type": "execute_result"
    },
    {
     "data": {
      "image/png": "[encoded data removed]",
      "text/plain": [
       "<Figure size 432x288 with 1 Axes>"
      ]
     },
     "metadata": {
      "needs_background": "light"
     },
     "output_type": "display_data"
    }
   ],
   "source": [
    "plt.plot(points_deaths[:,1], points_deaths[:,0], 'o')"
   ]
  },
  {
   "cell_type": "markdown",
   "metadata": {},
   "source": [
    "### Combined plots: Minimum Viable Product"
   ]
  },
  {
   "cell_type": "code",
   "execution_count": 29,
   "metadata": {},
   "outputs": [
    {
     "data": {
      "text/plain": [
       "Text(0.5, 1.0, 'Pumps and Deaths with Alpha Shape, Soho District')"
      ]
     },
     "execution_count": 29,
     "metadata": {},
     "output_type": "execute_result"
    },
    {
     "data": {
      "image/png": "[encoded data removed]",
      "text/plain": [
       "<Figure size 777.6x518.4 with 1 Axes>"
      ]
     },
     "metadata": {
      "needs_background": "light"
     },
     "output_type": "display_data"
    }
   ],
   "source": [
    "my_dpi=96\n",
    "\n",
    "fig, ax = plt.subplots(figsize=((432*1.8)/my_dpi, (288*1.8)/my_dpi), dpi=my_dpi)\n",
    "\n",
    "# plot death locations, color this grey\n",
    "ax.plot(points_deaths[:,1], points_deaths[:,0], 'o', color='grey')\n",
    "\n",
    "# plot pump locations, color this red\n",
    "ax.plot(points_pumps[:,1], points_pumps[:,0], 'o', color='red', )\n",
    "\n",
    "# plot convex hull polygon\n",
    "x,y = convexhull_poly.exterior.xy\n",
    "ax.plot(x,y, color='gray')\n",
    "\n",
    "# set title and axis labels\n",
    "ax.set_xlabel('Longitude')\n",
    "ax.set_ylabel('Latitude')\n",
    "ax.set_title('Pumps and Deaths with Alpha Shape, Soho District')"
   ]
  },
  {
   "cell_type": "markdown",
   "metadata": {},
   "source": [
    "With this Python approach, we know we can use the convex hull to constrain potential infinite vertices when computing Voronoi polygons."
   ]
  },
  {
   "cell_type": "markdown",
   "metadata": {},
   "source": [
    "## Alternative Method for Computing Convex Hull - `alphashape`"
   ]
  },
  {
   "cell_type": "markdown",
   "metadata": {},
   "source": [
    "See Notebook 3 for an alternative method to compute convex hull using the `alphashape` package."
   ]
  },
  {
   "cell_type": "markdown",
   "metadata": {},
   "source": [
    "## References"
   ]
  },
  {
   "cell_type": "markdown",
   "metadata": {},
   "source": [
    "1. Convex Hull Reference: https://docs.scipy.org/doc/scipy/reference/generated/scipy.spatial.ConvexHull.html\n",
    "2. Scipy Spatial Tutorial (includes convex hull): https://docs.scipy.org/doc/scipy/reference/tutorial/spatial.html\n",
    "3. https://docs.scipy.org/doc/scipy/reference/generated/scipy.spatial.convex_hull_plot_2d.html#scipy.spatial.convex_hull_plot_2d\n",
    "4. Numpy concatenate arrays: http://lagrange.univ-lyon1.fr/docs/numpy/1.11.0/reference/generated/numpy.concatenate.html"
   ]
  },
  {
   "cell_type": "code",
   "execution_count": null,
   "metadata": {},
   "outputs": [],
   "source": []
  }
 ],
 "metadata": {
  "kernelspec": {
   "display_name": "Python 3 (ipykernel)",
   "language": "python",
   "name": "python3"
  },
  "language_info": {
   "codemirror_mode": {
    "name": "ipython",
    "version": 3
   },
   "file_extension": ".py",
   "mimetype": "text/x-python",
   "name": "python",
   "nbconvert_exporter": "python",
   "pygments_lexer": "ipython3",
   "version": "3.9.7"
  }
 },
 "nbformat": 4,
 "nbformat_minor": 4
}
