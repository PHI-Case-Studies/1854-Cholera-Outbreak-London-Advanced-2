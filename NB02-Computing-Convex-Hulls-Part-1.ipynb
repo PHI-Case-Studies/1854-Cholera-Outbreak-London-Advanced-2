{
 "cells": [
  {
   "cell_type": "markdown",
   "metadata": {},
   "source": [
    "# Notebook 2: Computing Convex Hulls - Part 1"
   ]
  },
  {
   "cell_type": "markdown",
   "metadata": {},
   "source": [
    "## Load Cholera data"
   ]
  },
  {
   "cell_type": "code",
   "execution_count": 1,
   "metadata": {},
   "outputs": [],
   "source": [
    "import pandas as pd"
   ]
  },
  {
   "cell_type": "code",
   "execution_count": 2,
   "metadata": {},
   "outputs": [
    {
     "data": {
      "text/html": [
       "<div>\n",
       "<style scoped>\n",
       "    .dataframe tbody tr th:only-of-type {\n",
       "        vertical-align: middle;\n",
       "    }\n",
       "\n",
       "    .dataframe tbody tr th {\n",
       "        vertical-align: top;\n",
       "    }\n",
       "\n",
       "    .dataframe thead th {\n",
       "        text-align: right;\n",
       "    }\n",
       "</style>\n",
       "<table border=\"1\" class=\"dataframe\">\n",
       "  <thead>\n",
       "    <tr style=\"text-align: right;\">\n",
       "      <th></th>\n",
       "      <th>FID</th>\n",
       "      <th>LON</th>\n",
       "      <th>LAT</th>\n",
       "      <th>Street</th>\n",
       "    </tr>\n",
       "  </thead>\n",
       "  <tbody>\n",
       "    <tr>\n",
       "      <th>0</th>\n",
       "      <td>250</td>\n",
       "      <td>-0.136668</td>\n",
       "      <td>51.513341</td>\n",
       "      <td>Broadwick Street</td>\n",
       "    </tr>\n",
       "    <tr>\n",
       "      <th>1</th>\n",
       "      <td>251</td>\n",
       "      <td>-0.139586</td>\n",
       "      <td>51.513876</td>\n",
       "      <td>Kingly Street</td>\n",
       "    </tr>\n",
       "    <tr>\n",
       "      <th>2</th>\n",
       "      <td>252</td>\n",
       "      <td>-0.139671</td>\n",
       "      <td>51.514906</td>\n",
       "      <td>Ramillies Place</td>\n",
       "    </tr>\n",
       "    <tr>\n",
       "      <th>3</th>\n",
       "      <td>253</td>\n",
       "      <td>-0.131630</td>\n",
       "      <td>51.512354</td>\n",
       "      <td>Dean Street</td>\n",
       "    </tr>\n",
       "    <tr>\n",
       "      <th>4</th>\n",
       "      <td>254</td>\n",
       "      <td>-0.133594</td>\n",
       "      <td>51.512139</td>\n",
       "      <td>Rupert Street</td>\n",
       "    </tr>\n",
       "    <tr>\n",
       "      <th>5</th>\n",
       "      <td>255</td>\n",
       "      <td>-0.135919</td>\n",
       "      <td>51.511542</td>\n",
       "      <td>Bridle Lane</td>\n",
       "    </tr>\n",
       "    <tr>\n",
       "      <th>6</th>\n",
       "      <td>256</td>\n",
       "      <td>-0.133962</td>\n",
       "      <td>51.510019</td>\n",
       "      <td>Regent Street</td>\n",
       "    </tr>\n",
       "    <tr>\n",
       "      <th>7</th>\n",
       "      <td>257</td>\n",
       "      <td>-0.138199</td>\n",
       "      <td>51.511295</td>\n",
       "      <td>Warwick Street</td>\n",
       "    </tr>\n",
       "  </tbody>\n",
       "</table>\n",
       "</div>"
      ],
      "text/plain": [
       "   FID       LON        LAT            Street\n",
       "0  250 -0.136668  51.513341  Broadwick Street\n",
       "1  251 -0.139586  51.513876     Kingly Street\n",
       "2  252 -0.139671  51.514906   Ramillies Place\n",
       "3  253 -0.131630  51.512354       Dean Street\n",
       "4  254 -0.133594  51.512139     Rupert Street\n",
       "5  255 -0.135919  51.511542       Bridle Lane\n",
       "6  256 -0.133962  51.510019     Regent Street\n",
       "7  257 -0.138199  51.511295    Warwick Street"
      ]
     },
     "execution_count": 2,
     "metadata": {},
     "output_type": "execute_result"
    }
   ],
   "source": [
    "pumps_df = pd.read_csv('data/pumps.csv')\n",
    "\n",
    "pumps_df"
   ]
  },
  {
   "cell_type": "code",
   "execution_count": 3,
   "metadata": {},
   "outputs": [
    {
     "data": {
      "text/html": [
       "<div>\n",
       "<style scoped>\n",
       "    .dataframe tbody tr th:only-of-type {\n",
       "        vertical-align: middle;\n",
       "    }\n",
       "\n",
       "    .dataframe tbody tr th {\n",
       "        vertical-align: top;\n",
       "    }\n",
       "\n",
       "    .dataframe thead th {\n",
       "        text-align: right;\n",
       "    }\n",
       "</style>\n",
       "<table border=\"1\" class=\"dataframe\">\n",
       "  <thead>\n",
       "    <tr style=\"text-align: right;\">\n",
       "      <th></th>\n",
       "      <th>FID</th>\n",
       "      <th>DEATHS</th>\n",
       "      <th>LON</th>\n",
       "      <th>LAT</th>\n",
       "    </tr>\n",
       "  </thead>\n",
       "  <tbody>\n",
       "    <tr>\n",
       "      <th>0</th>\n",
       "      <td>0</td>\n",
       "      <td>3</td>\n",
       "      <td>-0.137930</td>\n",
       "      <td>51.513418</td>\n",
       "    </tr>\n",
       "    <tr>\n",
       "      <th>1</th>\n",
       "      <td>1</td>\n",
       "      <td>2</td>\n",
       "      <td>-0.137883</td>\n",
       "      <td>51.513361</td>\n",
       "    </tr>\n",
       "    <tr>\n",
       "      <th>2</th>\n",
       "      <td>2</td>\n",
       "      <td>1</td>\n",
       "      <td>-0.137853</td>\n",
       "      <td>51.513317</td>\n",
       "    </tr>\n",
       "    <tr>\n",
       "      <th>3</th>\n",
       "      <td>3</td>\n",
       "      <td>1</td>\n",
       "      <td>-0.137812</td>\n",
       "      <td>51.513262</td>\n",
       "    </tr>\n",
       "    <tr>\n",
       "      <th>4</th>\n",
       "      <td>4</td>\n",
       "      <td>4</td>\n",
       "      <td>-0.137767</td>\n",
       "      <td>51.513204</td>\n",
       "    </tr>\n",
       "    <tr>\n",
       "      <th>5</th>\n",
       "      <td>5</td>\n",
       "      <td>2</td>\n",
       "      <td>-0.137537</td>\n",
       "      <td>51.513184</td>\n",
       "    </tr>\n",
       "    <tr>\n",
       "      <th>6</th>\n",
       "      <td>6</td>\n",
       "      <td>2</td>\n",
       "      <td>-0.138200</td>\n",
       "      <td>51.513359</td>\n",
       "    </tr>\n",
       "    <tr>\n",
       "      <th>7</th>\n",
       "      <td>7</td>\n",
       "      <td>2</td>\n",
       "      <td>-0.138045</td>\n",
       "      <td>51.513328</td>\n",
       "    </tr>\n",
       "    <tr>\n",
       "      <th>8</th>\n",
       "      <td>8</td>\n",
       "      <td>3</td>\n",
       "      <td>-0.138276</td>\n",
       "      <td>51.513323</td>\n",
       "    </tr>\n",
       "    <tr>\n",
       "      <th>9</th>\n",
       "      <td>9</td>\n",
       "      <td>2</td>\n",
       "      <td>-0.138223</td>\n",
       "      <td>51.513427</td>\n",
       "    </tr>\n",
       "    <tr>\n",
       "      <th>10</th>\n",
       "      <td>10</td>\n",
       "      <td>2</td>\n",
       "      <td>-0.138337</td>\n",
       "      <td>51.513381</td>\n",
       "    </tr>\n",
       "    <tr>\n",
       "      <th>11</th>\n",
       "      <td>11</td>\n",
       "      <td>1</td>\n",
       "      <td>-0.138563</td>\n",
       "      <td>51.513462</td>\n",
       "    </tr>\n",
       "    <tr>\n",
       "      <th>12</th>\n",
       "      <td>12</td>\n",
       "      <td>3</td>\n",
       "      <td>-0.138426</td>\n",
       "      <td>51.513216</td>\n",
       "    </tr>\n",
       "    <tr>\n",
       "      <th>13</th>\n",
       "      <td>13</td>\n",
       "      <td>1</td>\n",
       "      <td>-0.138378</td>\n",
       "      <td>51.513169</td>\n",
       "    </tr>\n",
       "    <tr>\n",
       "      <th>14</th>\n",
       "      <td>14</td>\n",
       "      <td>4</td>\n",
       "      <td>-0.138337</td>\n",
       "      <td>51.513116</td>\n",
       "    </tr>\n",
       "    <tr>\n",
       "      <th>15</th>\n",
       "      <td>15</td>\n",
       "      <td>1</td>\n",
       "      <td>-0.138645</td>\n",
       "      <td>51.513240</td>\n",
       "    </tr>\n",
       "    <tr>\n",
       "      <th>16</th>\n",
       "      <td>16</td>\n",
       "      <td>1</td>\n",
       "      <td>-0.138698</td>\n",
       "      <td>51.513164</td>\n",
       "    </tr>\n",
       "    <tr>\n",
       "      <th>17</th>\n",
       "      <td>17</td>\n",
       "      <td>1</td>\n",
       "      <td>-0.137924</td>\n",
       "      <td>51.513178</td>\n",
       "    </tr>\n",
       "    <tr>\n",
       "      <th>18</th>\n",
       "      <td>18</td>\n",
       "      <td>4</td>\n",
       "      <td>-0.137865</td>\n",
       "      <td>51.513111</td>\n",
       "    </tr>\n",
       "    <tr>\n",
       "      <th>19</th>\n",
       "      <td>19</td>\n",
       "      <td>3</td>\n",
       "      <td>-0.137811</td>\n",
       "      <td>51.513055</td>\n",
       "    </tr>\n",
       "    <tr>\n",
       "      <th>20</th>\n",
       "      <td>20</td>\n",
       "      <td>2</td>\n",
       "      <td>-0.138762</td>\n",
       "      <td>51.513441</td>\n",
       "    </tr>\n",
       "    <tr>\n",
       "      <th>21</th>\n",
       "      <td>21</td>\n",
       "      <td>1</td>\n",
       "      <td>-0.138799</td>\n",
       "      <td>51.513592</td>\n",
       "    </tr>\n",
       "    <tr>\n",
       "      <th>22</th>\n",
       "      <td>22</td>\n",
       "      <td>2</td>\n",
       "      <td>-0.139045</td>\n",
       "      <td>51.513402</td>\n",
       "    </tr>\n",
       "    <tr>\n",
       "      <th>23</th>\n",
       "      <td>23</td>\n",
       "      <td>2</td>\n",
       "      <td>-0.138970</td>\n",
       "      <td>51.513380</td>\n",
       "    </tr>\n",
       "    <tr>\n",
       "      <th>24</th>\n",
       "      <td>24</td>\n",
       "      <td>2</td>\n",
       "      <td>-0.138863</td>\n",
       "      <td>51.513411</td>\n",
       "    </tr>\n",
       "    <tr>\n",
       "      <th>25</th>\n",
       "      <td>25</td>\n",
       "      <td>1</td>\n",
       "      <td>-0.138752</td>\n",
       "      <td>51.513641</td>\n",
       "    </tr>\n",
       "    <tr>\n",
       "      <th>26</th>\n",
       "      <td>26</td>\n",
       "      <td>1</td>\n",
       "      <td>-0.138808</td>\n",
       "      <td>51.513693</td>\n",
       "    </tr>\n",
       "    <tr>\n",
       "      <th>27</th>\n",
       "      <td>27</td>\n",
       "      <td>3</td>\n",
       "      <td>-0.138856</td>\n",
       "      <td>51.513745</td>\n",
       "    </tr>\n",
       "    <tr>\n",
       "      <th>28</th>\n",
       "      <td>28</td>\n",
       "      <td>1</td>\n",
       "      <td>-0.138887</td>\n",
       "      <td>51.513676</td>\n",
       "    </tr>\n",
       "    <tr>\n",
       "      <th>29</th>\n",
       "      <td>29</td>\n",
       "      <td>1</td>\n",
       "      <td>-0.139239</td>\n",
       "      <td>51.513590</td>\n",
       "    </tr>\n",
       "    <tr>\n",
       "      <th>...</th>\n",
       "      <td>...</td>\n",
       "      <td>...</td>\n",
       "      <td>...</td>\n",
       "      <td>...</td>\n",
       "    </tr>\n",
       "    <tr>\n",
       "      <th>220</th>\n",
       "      <td>220</td>\n",
       "      <td>3</td>\n",
       "      <td>-0.135679</td>\n",
       "      <td>51.513766</td>\n",
       "    </tr>\n",
       "    <tr>\n",
       "      <th>221</th>\n",
       "      <td>221</td>\n",
       "      <td>1</td>\n",
       "      <td>-0.135814</td>\n",
       "      <td>51.513726</td>\n",
       "    </tr>\n",
       "    <tr>\n",
       "      <th>222</th>\n",
       "      <td>222</td>\n",
       "      <td>5</td>\n",
       "      <td>-0.135905</td>\n",
       "      <td>51.513692</td>\n",
       "    </tr>\n",
       "    <tr>\n",
       "      <th>223</th>\n",
       "      <td>223</td>\n",
       "      <td>4</td>\n",
       "      <td>-0.135992</td>\n",
       "      <td>51.513672</td>\n",
       "    </tr>\n",
       "    <tr>\n",
       "      <th>224</th>\n",
       "      <td>224</td>\n",
       "      <td>4</td>\n",
       "      <td>-0.136217</td>\n",
       "      <td>51.513603</td>\n",
       "    </tr>\n",
       "    <tr>\n",
       "      <th>225</th>\n",
       "      <td>225</td>\n",
       "      <td>1</td>\n",
       "      <td>-0.136579</td>\n",
       "      <td>51.513482</td>\n",
       "    </tr>\n",
       "    <tr>\n",
       "      <th>226</th>\n",
       "      <td>226</td>\n",
       "      <td>4</td>\n",
       "      <td>-0.136675</td>\n",
       "      <td>51.513458</td>\n",
       "    </tr>\n",
       "    <tr>\n",
       "      <th>227</th>\n",
       "      <td>227</td>\n",
       "      <td>1</td>\n",
       "      <td>-0.136764</td>\n",
       "      <td>51.513429</td>\n",
       "    </tr>\n",
       "    <tr>\n",
       "      <th>228</th>\n",
       "      <td>228</td>\n",
       "      <td>3</td>\n",
       "      <td>-0.136877</td>\n",
       "      <td>51.513404</td>\n",
       "    </tr>\n",
       "    <tr>\n",
       "      <th>229</th>\n",
       "      <td>229</td>\n",
       "      <td>2</td>\n",
       "      <td>-0.136953</td>\n",
       "      <td>51.513359</td>\n",
       "    </tr>\n",
       "    <tr>\n",
       "      <th>230</th>\n",
       "      <td>230</td>\n",
       "      <td>1</td>\n",
       "      <td>-0.137230</td>\n",
       "      <td>51.513378</td>\n",
       "    </tr>\n",
       "    <tr>\n",
       "      <th>231</th>\n",
       "      <td>231</td>\n",
       "      <td>2</td>\n",
       "      <td>-0.136651</td>\n",
       "      <td>51.513855</td>\n",
       "    </tr>\n",
       "    <tr>\n",
       "      <th>232</th>\n",
       "      <td>232</td>\n",
       "      <td>1</td>\n",
       "      <td>-0.136503</td>\n",
       "      <td>51.513875</td>\n",
       "    </tr>\n",
       "    <tr>\n",
       "      <th>233</th>\n",
       "      <td>233</td>\n",
       "      <td>1</td>\n",
       "      <td>-0.137367</td>\n",
       "      <td>51.513565</td>\n",
       "    </tr>\n",
       "    <tr>\n",
       "      <th>234</th>\n",
       "      <td>234</td>\n",
       "      <td>2</td>\n",
       "      <td>-0.137422</td>\n",
       "      <td>51.513616</td>\n",
       "    </tr>\n",
       "    <tr>\n",
       "      <th>235</th>\n",
       "      <td>235</td>\n",
       "      <td>3</td>\n",
       "      <td>-0.137472</td>\n",
       "      <td>51.513742</td>\n",
       "    </tr>\n",
       "    <tr>\n",
       "      <th>236</th>\n",
       "      <td>236</td>\n",
       "      <td>1</td>\n",
       "      <td>-0.138300</td>\n",
       "      <td>51.513918</td>\n",
       "    </tr>\n",
       "    <tr>\n",
       "      <th>237</th>\n",
       "      <td>237</td>\n",
       "      <td>1</td>\n",
       "      <td>-0.137363</td>\n",
       "      <td>51.513772</td>\n",
       "    </tr>\n",
       "    <tr>\n",
       "      <th>238</th>\n",
       "      <td>238</td>\n",
       "      <td>4</td>\n",
       "      <td>-0.137995</td>\n",
       "      <td>51.513502</td>\n",
       "    </tr>\n",
       "    <tr>\n",
       "      <th>239</th>\n",
       "      <td>239</td>\n",
       "      <td>2</td>\n",
       "      <td>-0.138139</td>\n",
       "      <td>51.513712</td>\n",
       "    </tr>\n",
       "    <tr>\n",
       "      <th>240</th>\n",
       "      <td>240</td>\n",
       "      <td>2</td>\n",
       "      <td>-0.138239</td>\n",
       "      <td>51.513644</td>\n",
       "    </tr>\n",
       "    <tr>\n",
       "      <th>241</th>\n",
       "      <td>241</td>\n",
       "      <td>1</td>\n",
       "      <td>-0.138272</td>\n",
       "      <td>51.513711</td>\n",
       "    </tr>\n",
       "    <tr>\n",
       "      <th>242</th>\n",
       "      <td>242</td>\n",
       "      <td>5</td>\n",
       "      <td>-0.138083</td>\n",
       "      <td>51.514061</td>\n",
       "    </tr>\n",
       "    <tr>\n",
       "      <th>243</th>\n",
       "      <td>243</td>\n",
       "      <td>3</td>\n",
       "      <td>-0.137912</td>\n",
       "      <td>51.514748</td>\n",
       "    </tr>\n",
       "    <tr>\n",
       "      <th>244</th>\n",
       "      <td>244</td>\n",
       "      <td>2</td>\n",
       "      <td>-0.137707</td>\n",
       "      <td>51.514794</td>\n",
       "    </tr>\n",
       "    <tr>\n",
       "      <th>245</th>\n",
       "      <td>245</td>\n",
       "      <td>3</td>\n",
       "      <td>-0.137108</td>\n",
       "      <td>51.514526</td>\n",
       "    </tr>\n",
       "    <tr>\n",
       "      <th>246</th>\n",
       "      <td>246</td>\n",
       "      <td>2</td>\n",
       "      <td>-0.137065</td>\n",
       "      <td>51.514706</td>\n",
       "    </tr>\n",
       "    <tr>\n",
       "      <th>247</th>\n",
       "      <td>247</td>\n",
       "      <td>1</td>\n",
       "      <td>-0.138474</td>\n",
       "      <td>51.512311</td>\n",
       "    </tr>\n",
       "    <tr>\n",
       "      <th>248</th>\n",
       "      <td>248</td>\n",
       "      <td>1</td>\n",
       "      <td>-0.138123</td>\n",
       "      <td>51.511998</td>\n",
       "    </tr>\n",
       "    <tr>\n",
       "      <th>249</th>\n",
       "      <td>249</td>\n",
       "      <td>1</td>\n",
       "      <td>-0.137762</td>\n",
       "      <td>51.511856</td>\n",
       "    </tr>\n",
       "  </tbody>\n",
       "</table>\n",
       "<p>250 rows × 4 columns</p>\n",
       "</div>"
      ],
      "text/plain": [
       "     FID  DEATHS       LON        LAT\n",
       "0      0       3 -0.137930  51.513418\n",
       "1      1       2 -0.137883  51.513361\n",
       "2      2       1 -0.137853  51.513317\n",
       "3      3       1 -0.137812  51.513262\n",
       "4      4       4 -0.137767  51.513204\n",
       "5      5       2 -0.137537  51.513184\n",
       "6      6       2 -0.138200  51.513359\n",
       "7      7       2 -0.138045  51.513328\n",
       "8      8       3 -0.138276  51.513323\n",
       "9      9       2 -0.138223  51.513427\n",
       "10    10       2 -0.138337  51.513381\n",
       "11    11       1 -0.138563  51.513462\n",
       "12    12       3 -0.138426  51.513216\n",
       "13    13       1 -0.138378  51.513169\n",
       "14    14       4 -0.138337  51.513116\n",
       "15    15       1 -0.138645  51.513240\n",
       "16    16       1 -0.138698  51.513164\n",
       "17    17       1 -0.137924  51.513178\n",
       "18    18       4 -0.137865  51.513111\n",
       "19    19       3 -0.137811  51.513055\n",
       "20    20       2 -0.138762  51.513441\n",
       "21    21       1 -0.138799  51.513592\n",
       "22    22       2 -0.139045  51.513402\n",
       "23    23       2 -0.138970  51.513380\n",
       "24    24       2 -0.138863  51.513411\n",
       "25    25       1 -0.138752  51.513641\n",
       "26    26       1 -0.138808  51.513693\n",
       "27    27       3 -0.138856  51.513745\n",
       "28    28       1 -0.138887  51.513676\n",
       "29    29       1 -0.139239  51.513590\n",
       "..   ...     ...       ...        ...\n",
       "220  220       3 -0.135679  51.513766\n",
       "221  221       1 -0.135814  51.513726\n",
       "222  222       5 -0.135905  51.513692\n",
       "223  223       4 -0.135992  51.513672\n",
       "224  224       4 -0.136217  51.513603\n",
       "225  225       1 -0.136579  51.513482\n",
       "226  226       4 -0.136675  51.513458\n",
       "227  227       1 -0.136764  51.513429\n",
       "228  228       3 -0.136877  51.513404\n",
       "229  229       2 -0.136953  51.513359\n",
       "230  230       1 -0.137230  51.513378\n",
       "231  231       2 -0.136651  51.513855\n",
       "232  232       1 -0.136503  51.513875\n",
       "233  233       1 -0.137367  51.513565\n",
       "234  234       2 -0.137422  51.513616\n",
       "235  235       3 -0.137472  51.513742\n",
       "236  236       1 -0.138300  51.513918\n",
       "237  237       1 -0.137363  51.513772\n",
       "238  238       4 -0.137995  51.513502\n",
       "239  239       2 -0.138139  51.513712\n",
       "240  240       2 -0.138239  51.513644\n",
       "241  241       1 -0.138272  51.513711\n",
       "242  242       5 -0.138083  51.514061\n",
       "243  243       3 -0.137912  51.514748\n",
       "244  244       2 -0.137707  51.514794\n",
       "245  245       3 -0.137108  51.514526\n",
       "246  246       2 -0.137065  51.514706\n",
       "247  247       1 -0.138474  51.512311\n",
       "248  248       1 -0.138123  51.511998\n",
       "249  249       1 -0.137762  51.511856\n",
       "\n",
       "[250 rows x 4 columns]"
      ]
     },
     "execution_count": 3,
     "metadata": {},
     "output_type": "execute_result"
    }
   ],
   "source": [
    "deaths_df = pd.read_csv('data/cholera_deaths.csv')\n",
    "\n",
    "deaths_df"
   ]
  },
  {
   "cell_type": "markdown",
   "metadata": {},
   "source": [
    "## Prepare data for computing convex hull"
   ]
  },
  {
   "cell_type": "code",
   "execution_count": 4,
   "metadata": {},
   "outputs": [],
   "source": [
    "import numpy as np"
   ]
  },
  {
   "cell_type": "code",
   "execution_count": 5,
   "metadata": {},
   "outputs": [
    {
     "data": {
      "text/plain": [
       "array([[51.513341, -0.136668],\n",
       "       [51.513876, -0.139586],\n",
       "       [51.514906, -0.139671],\n",
       "       [51.512354, -0.13163 ],\n",
       "       [51.512139, -0.133594],\n",
       "       [51.511542, -0.135919],\n",
       "       [51.510019, -0.133962],\n",
       "       [51.511295, -0.138199]])"
      ]
     },
     "execution_count": 5,
     "metadata": {},
     "output_type": "execute_result"
    }
   ],
   "source": [
    "points_pumps = np.array([[lat,lon] for lat,lon in pumps_df[['LAT','LON']].values])\n",
    "\n",
    "points_pumps"
   ]
  },
  {
   "cell_type": "code",
   "execution_count": 6,
   "metadata": {},
   "outputs": [
    {
     "data": {
      "text/plain": [
       "array([[51.513418, -0.13793 ],\n",
       "       [51.513361, -0.137883],\n",
       "       [51.513317, -0.137853],\n",
       "       [51.513262, -0.137812],\n",
       "       [51.513204, -0.137767],\n",
       "       [51.513184, -0.137537],\n",
       "       [51.513359, -0.1382  ],\n",
       "       [51.513328, -0.138045],\n",
       "       [51.513323, -0.138276],\n",
       "       [51.513427, -0.138223],\n",
       "       [51.513381, -0.138337],\n",
       "       [51.513462, -0.138563],\n",
       "       [51.513216, -0.138426],\n",
       "       [51.513169, -0.138378],\n",
       "       [51.513116, -0.138337],\n",
       "       [51.51324 , -0.138645],\n",
       "       [51.513164, -0.138698],\n",
       "       [51.513178, -0.137924],\n",
       "       [51.513111, -0.137865],\n",
       "       [51.513055, -0.137811],\n",
       "       [51.513441, -0.138762],\n",
       "       [51.513592, -0.138799],\n",
       "       [51.513402, -0.139045],\n",
       "       [51.51338 , -0.13897 ],\n",
       "       [51.513411, -0.138863],\n",
       "       [51.513641, -0.138752],\n",
       "       [51.513693, -0.138808],\n",
       "       [51.513745, -0.138856],\n",
       "       [51.513676, -0.138887],\n",
       "       [51.51359 , -0.139239],\n",
       "       [51.513663, -0.139321],\n",
       "       [51.513502, -0.139316],\n",
       "       [51.513583, -0.139616],\n",
       "       [51.513541, -0.139719],\n",
       "       [51.513298, -0.140074],\n",
       "       [51.513291, -0.139094],\n",
       "       [51.513013, -0.139697],\n",
       "       [51.512965, -0.139327],\n",
       "       [51.512893, -0.139317],\n",
       "       [51.512964, -0.139187],\n",
       "       [51.513025, -0.139036],\n",
       "       [51.513027, -0.139209],\n",
       "       [51.512831, -0.138427],\n",
       "       [51.512885, -0.138624],\n",
       "       [51.512526, -0.138096],\n",
       "       [51.512465, -0.138035],\n",
       "       [51.512428, -0.137984],\n",
       "       [51.512415, -0.138065],\n",
       "       [51.51251 , -0.138194],\n",
       "       [51.512378, -0.137818],\n",
       "       [51.512447, -0.137656],\n",
       "       [51.512491, -0.137584],\n",
       "       [51.512374, -0.13765 ],\n",
       "       [51.512339, -0.13745 ],\n",
       "       [51.512364, -0.137376],\n",
       "       [51.512319, -0.137327],\n",
       "       [51.51254 , -0.13698 ],\n",
       "       [51.512649, -0.13718 ],\n",
       "       [51.512692, -0.137052],\n",
       "       [51.512957, -0.137695],\n",
       "       [51.512765, -0.137533],\n",
       "       [51.51278 , -0.137419],\n",
       "       [51.512726, -0.137368],\n",
       "       [51.512681, -0.137325],\n",
       "       [51.512914, -0.137531],\n",
       "       [51.513046, -0.137562],\n",
       "       [51.513074, -0.137466],\n",
       "       [51.513087, -0.137386],\n",
       "       [51.513122, -0.137306],\n",
       "       [51.513187, -0.137089],\n",
       "       [51.513214, -0.136996],\n",
       "       [51.513249, -0.136859],\n",
       "       [51.513271, -0.136778],\n",
       "       [51.5133  , -0.136705],\n",
       "       [51.51316 , -0.136493],\n",
       "       [51.513016, -0.13633 ],\n",
       "       [51.512921, -0.136424],\n",
       "       [51.51289 , -0.136523],\n",
       "       [51.512859, -0.136599],\n",
       "       [51.51283 , -0.136699],\n",
       "       [51.512782, -0.136819],\n",
       "       [51.512729, -0.136973],\n",
       "       [51.512868, -0.136358],\n",
       "       [51.512723, -0.13663 ],\n",
       "       [51.512654, -0.136584],\n",
       "       [51.512713, -0.136423],\n",
       "       [51.512615, -0.136345],\n",
       "       [51.512491, -0.136437],\n",
       "       [51.512449, -0.136377],\n",
       "       [51.512465, -0.136197],\n",
       "       [51.512413, -0.136142],\n",
       "       [51.512358, -0.136102],\n",
       "       [51.512271, -0.13603 ],\n",
       "       [51.512355, -0.13631 ],\n",
       "       [51.511991, -0.13594 ],\n",
       "       [51.512083, -0.135858],\n",
       "       [51.512031, -0.1358  ],\n",
       "       [51.51197 , -0.135717],\n",
       "       [51.511882, -0.135119],\n",
       "       [51.51205 , -0.135144],\n",
       "       [51.51225 , -0.135394],\n",
       "       [51.512162, -0.135409],\n",
       "       [51.512212, -0.135472],\n",
       "       [51.512573, -0.135765],\n",
       "       [51.512575, -0.135871],\n",
       "       [51.512672, -0.135976],\n",
       "       [51.512727, -0.136033],\n",
       "       [51.512794, -0.136115],\n",
       "       [51.512846, -0.13618 ],\n",
       "       [51.512879, -0.136083],\n",
       "       [51.512939, -0.136139],\n",
       "       [51.512765, -0.135329],\n",
       "       [51.512844, -0.135122],\n",
       "       [51.512532, -0.134645],\n",
       "       [51.512198, -0.134522],\n",
       "       [51.512215, -0.134967],\n",
       "       [51.513154, -0.135098],\n",
       "       [51.513056, -0.134394],\n",
       "       [51.513165, -0.134505],\n",
       "       [51.513098, -0.134437],\n",
       "       [51.513238, -0.134594],\n",
       "       [51.513293, -0.13464 ],\n",
       "       [51.513379, -0.134709],\n",
       "       [51.513431, -0.134756],\n",
       "       [51.513475, -0.135244],\n",
       "       [51.513422, -0.134897],\n",
       "       [51.513528, -0.135158],\n",
       "       [51.513481, -0.135344],\n",
       "       [51.513594, -0.135063],\n",
       "       [51.513227, -0.135801],\n",
       "       [51.51318 , -0.135762],\n",
       "       [51.513132, -0.13574 ],\n",
       "       [51.513048, -0.135645],\n",
       "       [51.513006, -0.135602],\n",
       "       [51.512883, -0.135501],\n",
       "       [51.51327 , -0.135832],\n",
       "       [51.513459, -0.136049],\n",
       "       [51.513431, -0.13614 ],\n",
       "       [51.513402, -0.136228],\n",
       "       [51.512593, -0.134999],\n",
       "       [51.512585, -0.134793],\n",
       "       [51.512555, -0.134896],\n",
       "       [51.512521, -0.135   ],\n",
       "       [51.513137, -0.133483],\n",
       "       [51.513228, -0.133265],\n",
       "       [51.513152, -0.133296],\n",
       "       [51.513258, -0.132933],\n",
       "       [51.513544, -0.133998],\n",
       "       [51.513626, -0.134042],\n",
       "       [51.513637, -0.134156],\n",
       "       [51.513524, -0.134091],\n",
       "       [51.51382 , -0.134272],\n",
       "       [51.513724, -0.13422 ],\n",
       "       [51.513704, -0.134704],\n",
       "       [51.513831, -0.134782],\n",
       "       [51.513915, -0.13501 ],\n",
       "       [51.513597, -0.134923],\n",
       "       [51.514032, -0.134885],\n",
       "       [51.513891, -0.134212],\n",
       "       [51.513758, -0.134135],\n",
       "       [51.514065, -0.134364],\n",
       "       [51.514146, -0.134447],\n",
       "       [51.514201, -0.134479],\n",
       "       [51.51423 , -0.134658],\n",
       "       [51.514319, -0.134367],\n",
       "       [51.514377, -0.134179],\n",
       "       [51.514357, -0.13416 ],\n",
       "       [51.514382, -0.134069],\n",
       "       [51.514402, -0.134085],\n",
       "       [51.514522, -0.133821],\n",
       "       [51.514497, -0.133922],\n",
       "       [51.514472, -0.13385 ],\n",
       "       [51.514504, -0.133725],\n",
       "       [51.514546, -0.133745],\n",
       "       [51.514561, -0.133676],\n",
       "       [51.514594, -0.133563],\n",
       "       [51.514581, -0.133467],\n",
       "       [51.514606, -0.133393],\n",
       "       [51.515834, -0.134474],\n",
       "       [51.515195, -0.135259],\n",
       "       [51.515149, -0.135395],\n",
       "       [51.514818, -0.136022],\n",
       "       [51.514843, -0.136804],\n",
       "       [51.514914, -0.136583],\n",
       "       [51.514496, -0.135653],\n",
       "       [51.514743, -0.135578],\n",
       "       [51.514467, -0.13486 ],\n",
       "       [51.514453, -0.13469 ],\n",
       "       [51.514845, -0.134818],\n",
       "       [51.514389, -0.135704],\n",
       "       [51.514399, -0.135561],\n",
       "       [51.514335, -0.135649],\n",
       "       [51.514224, -0.135415],\n",
       "       [51.51422 , -0.135576],\n",
       "       [51.514145, -0.135357],\n",
       "       [51.514108, -0.135475],\n",
       "       [51.514359, -0.136226],\n",
       "       [51.514326, -0.136328],\n",
       "       [51.514544, -0.136222],\n",
       "       [51.514569, -0.136117],\n",
       "       [51.514586, -0.13603 ],\n",
       "       [51.514612, -0.136266],\n",
       "       [51.514575, -0.136421],\n",
       "       [51.514507, -0.136935],\n",
       "       [51.514274, -0.136931],\n",
       "       [51.514293, -0.136799],\n",
       "       [51.514058, -0.13678 ],\n",
       "       [51.514148, -0.136696],\n",
       "       [51.513961, -0.136712],\n",
       "       [51.514027, -0.136123],\n",
       "       [51.514076, -0.135958],\n",
       "       [51.514096, -0.135883],\n",
       "       [51.514134, -0.135788],\n",
       "       [51.514033, -0.135849],\n",
       "       [51.513996, -0.136008],\n",
       "       [51.51396 , -0.136099],\n",
       "       [51.513945, -0.13617 ],\n",
       "       [51.513821, -0.135485],\n",
       "       [51.513999, -0.135374],\n",
       "       [51.513795, -0.135582],\n",
       "       [51.513766, -0.135679],\n",
       "       [51.513726, -0.135814],\n",
       "       [51.513692, -0.135905],\n",
       "       [51.513672, -0.135992],\n",
       "       [51.513603, -0.136217],\n",
       "       [51.513482, -0.136579],\n",
       "       [51.513458, -0.136675],\n",
       "       [51.513429, -0.136764],\n",
       "       [51.513404, -0.136877],\n",
       "       [51.513359, -0.136953],\n",
       "       [51.513378, -0.13723 ],\n",
       "       [51.513855, -0.136651],\n",
       "       [51.513875, -0.136503],\n",
       "       [51.513565, -0.137367],\n",
       "       [51.513616, -0.137422],\n",
       "       [51.513742, -0.137472],\n",
       "       [51.513918, -0.1383  ],\n",
       "       [51.513772, -0.137363],\n",
       "       [51.513502, -0.137995],\n",
       "       [51.513712, -0.138139],\n",
       "       [51.513644, -0.138239],\n",
       "       [51.513711, -0.138272],\n",
       "       [51.514061, -0.138083],\n",
       "       [51.514748, -0.137912],\n",
       "       [51.514794, -0.137707],\n",
       "       [51.514526, -0.137108],\n",
       "       [51.514706, -0.137065],\n",
       "       [51.512311, -0.138474],\n",
       "       [51.511998, -0.138123],\n",
       "       [51.511856, -0.137762]])"
      ]
     },
     "execution_count": 6,
     "metadata": {},
     "output_type": "execute_result"
    }
   ],
   "source": [
    "points_deaths = np.array([[lat,lon] for lat,lon in deaths_df[['LAT','LON']].values])\n",
    "\n",
    "points_deaths"
   ]
  },
  {
   "cell_type": "markdown",
   "metadata": {},
   "source": [
    "### Combine all points"
   ]
  },
  {
   "cell_type": "code",
   "execution_count": 7,
   "metadata": {},
   "outputs": [
    {
     "data": {
      "text/plain": [
       "(51.512353999999995, -0.13163)"
      ]
     },
     "execution_count": 7,
     "metadata": {},
     "output_type": "execute_result"
    }
   ],
   "source": [
    "points = np.concatenate((points_pumps, points_deaths), axis=0)\n",
    "\n",
    "points[3,0], points[3,1]"
   ]
  },
  {
   "cell_type": "markdown",
   "metadata": {},
   "source": [
    "## Compute Convex Hull"
   ]
  },
  {
   "cell_type": "code",
   "execution_count": 8,
   "metadata": {},
   "outputs": [],
   "source": [
    "from scipy.spatial import ConvexHull, Voronoi"
   ]
  },
  {
   "cell_type": "code",
   "execution_count": 9,
   "metadata": {},
   "outputs": [
    {
     "data": {
      "text/plain": [
       "<scipy.spatial.qhull.ConvexHull at 0x7fe41b395cc0>"
      ]
     },
     "execution_count": 9,
     "metadata": {},
     "output_type": "execute_result"
    }
   ],
   "source": [
    "hull = ConvexHull(points)\n",
    "\n",
    "hull"
   ]
  },
  {
   "cell_type": "code",
   "execution_count": 10,
   "metadata": {
    "scrolled": true
   },
   "outputs": [
    {
     "data": {
      "text/plain": [
       "array([  3,   6,   7,  42,   2, 186, 185], dtype=int32)"
      ]
     },
     "execution_count": 10,
     "metadata": {},
     "output_type": "execute_result"
    }
   ],
   "source": [
    "hull.vertices"
   ]
  },
  {
   "cell_type": "code",
   "execution_count": 11,
   "metadata": {},
   "outputs": [
    {
     "data": {
      "text/plain": [
       "array([[  3,   6],\n",
       "       [  7,   6],\n",
       "       [  7,  42],\n",
       "       [  2, 186],\n",
       "       [  2,  42],\n",
       "       [185, 186],\n",
       "       [185,   3]], dtype=int32)"
      ]
     },
     "execution_count": 11,
     "metadata": {},
     "output_type": "execute_result"
    }
   ],
   "source": [
    "hull.simplices"
   ]
  },
  {
   "cell_type": "code",
   "execution_count": 12,
   "metadata": {},
   "outputs": [
    {
     "name": "stdout",
     "output_type": "stream",
     "text": [
      "simplex, indices of points: [3 6]\n",
      "points, 0 and 1: [51.512354 51.510019] [-0.13163  -0.133962]\n",
      "simplex, indices of points: [7 6]\n",
      "points, 0 and 1: [51.511295 51.510019] [-0.138199 -0.133962]\n",
      "simplex, indices of points: [ 7 42]\n",
      "points, 0 and 1: [51.511295 51.513298] [-0.138199 -0.140074]\n",
      "simplex, indices of points: [  2 186]\n",
      "points, 0 and 1: [51.514906 51.515834] [-0.139671 -0.134474]\n",
      "simplex, indices of points: [ 2 42]\n",
      "points, 0 and 1: [51.514906 51.513298] [-0.139671 -0.140074]\n",
      "simplex, indices of points: [185 186]\n",
      "points, 0 and 1: [51.514606 51.515834] [-0.133393 -0.134474]\n",
      "simplex, indices of points: [185   3]\n",
      "points, 0 and 1: [51.514606 51.512354] [-0.133393 -0.13163 ]\n"
     ]
    }
   ],
   "source": [
    "for simplex in hull.simplices:\n",
    "    print(\"simplex, indices of points:\", simplex)\n",
    "    print (\"points, 0 and 1:\", points[simplex,0], points[simplex,1])"
   ]
  },
  {
   "cell_type": "code",
   "execution_count": 13,
   "metadata": {},
   "outputs": [
    {
     "data": {
      "text/plain": [
       "([-0.13163,\n",
       "  -0.133962,\n",
       "  -0.138199,\n",
       "  -0.140074,\n",
       "  -0.13967100000000002,\n",
       "  -0.134474,\n",
       "  -0.133393],\n",
       " [51.512353999999995,\n",
       "  51.510019,\n",
       "  51.511295000000004,\n",
       "  51.513298,\n",
       "  51.514905999999996,\n",
       "  51.515834000000005,\n",
       "  51.514606])"
      ]
     },
     "execution_count": 13,
     "metadata": {},
     "output_type": "execute_result"
    }
   ],
   "source": [
    "x=[]\n",
    "y=[]\n",
    "for vertex in hull.vertices:\n",
    "    y.append(points[vertex,0])\n",
    "    x.append(points[vertex,1])\n",
    "    \n",
    "x,y"
   ]
  },
  {
   "cell_type": "code",
   "execution_count": 14,
   "metadata": {},
   "outputs": [],
   "source": [
    "import matplotlib.pyplot as plt\n",
    "\n",
    "%matplotlib inline"
   ]
  },
  {
   "cell_type": "code",
   "execution_count": 15,
   "metadata": {},
   "outputs": [
    {
     "data": {
      "image/png": "[encoded data removed]",
      "text/plain": [
       "<Figure size 432x288 with 1 Axes>"
      ]
     },
     "metadata": {
      "needs_background": "light"
     },
     "output_type": "display_data"
    }
   ],
   "source": [
    "plt.plot(points[:,1], points[:,0], 'o')\n",
    "for simplex in hull.simplices:\n",
    "    plt.plot(points[simplex,1], points[simplex,0], 'k-')\n",
    "    \n",
    "plt.show()"
   ]
  },
  {
   "cell_type": "markdown",
   "metadata": {},
   "source": [
    "### Solve for vertices (points) of convex hull"
   ]
  },
  {
   "cell_type": "code",
   "execution_count": 16,
   "metadata": {},
   "outputs": [],
   "source": [
    "from shapely.geometry import Point, MultiPoint, Polygon"
   ]
  },
  {
   "cell_type": "code",
   "execution_count": 17,
   "metadata": {
    "scrolled": true
   },
   "outputs": [
    {
     "data": {
      "image/svg+xml": [
       "<svg xmlns=\"http://www.w3.org/2000/svg\" xmlns:xlink=\"http://www.w3.org/1999/xlink\" width=\"100.0\" height=\"100.0\" viewBox=\"-0.14041176 51.50968124 0.009119519999999992 0.0064905200000069385\" preserveAspectRatio=\"xMinYMin meet\"><g transform=\"matrix(1,0,0,-1,0,103.02585300000001)\"><g><circle cx=\"-0.13163\" cy=\"51.512353999999995\" r=\"0.00027358559999999973\" stroke=\"#555555\" stroke-width=\"9.119519999999992e-05\" fill=\"#66cc99\" opacity=\"0.6\" /><circle cx=\"-0.133962\" cy=\"51.510019\" r=\"0.00027358559999999973\" stroke=\"#555555\" stroke-width=\"9.119519999999992e-05\" fill=\"#66cc99\" opacity=\"0.6\" /><circle cx=\"-0.138199\" cy=\"51.511295000000004\" r=\"0.00027358559999999973\" stroke=\"#555555\" stroke-width=\"9.119519999999992e-05\" fill=\"#66cc99\" opacity=\"0.6\" /><circle cx=\"-0.140074\" cy=\"51.513298\" r=\"0.00027358559999999973\" stroke=\"#555555\" stroke-width=\"9.119519999999992e-05\" fill=\"#66cc99\" opacity=\"0.6\" /><circle cx=\"-0.13967100000000002\" cy=\"51.514905999999996\" r=\"0.00027358559999999973\" stroke=\"#555555\" stroke-width=\"9.119519999999992e-05\" fill=\"#66cc99\" opacity=\"0.6\" /><circle cx=\"-0.134474\" cy=\"51.515834000000005\" r=\"0.00027358559999999973\" stroke=\"#555555\" stroke-width=\"9.119519999999992e-05\" fill=\"#66cc99\" opacity=\"0.6\" /><circle cx=\"-0.133393\" cy=\"51.514606\" r=\"0.00027358559999999973\" stroke=\"#555555\" stroke-width=\"9.119519999999992e-05\" fill=\"#66cc99\" opacity=\"0.6\" /></g></g></svg>"
      ],
      "text/plain": [
       "<shapely.geometry.multipoint.MultiPoint at 0x7fe41a03c7b8>"
      ]
     },
     "execution_count": 17,
     "metadata": {},
     "output_type": "execute_result"
    }
   ],
   "source": [
    "vertex_points = MultiPoint([(points[vertex,1], points[vertex,0]) for vertex in hull.vertices])\n",
    "\n",
    "vertex_points"
   ]
  },
  {
   "cell_type": "markdown",
   "metadata": {},
   "source": [
    "### Convert vertices to a Shapely Polygon and apply `.buffer()` function"
   ]
  },
  {
   "cell_type": "code",
   "execution_count": 18,
   "metadata": {},
   "outputs": [
    {
     "data": {
      "image/svg+xml": [
       "<svg xmlns=\"http://www.w3.org/2000/svg\" xmlns:xlink=\"http://www.w3.org/1999/xlink\" width=\"100.0\" height=\"100.0\" viewBox=\"-0.14256955683715725 51.507521332928064 0.013437083106105835 0.010809528407172309\" preserveAspectRatio=\"xMinYMin meet\"><g transform=\"matrix(1,0,0,-1,0,103.02585219426331)\"><path fill-rule=\"evenodd\" fill=\"#66cc99\" stroke=\"#555555\" stroke-width=\"0.0002687416621221167\" opacity=\"0.6\" d=\"M -0.13005518185250156,51.513586861631445 L -0.1299436176699864,51.51342922771403 L -0.12984777690262347,51.51326156863717 L -0.12976855314621516,51.51308544761297 L -0.12970668506363148,51.51290250675068 L -0.1296627494976973,51.512714451745985 L -0.12963715609285134,51.512523035977644 L -0.129630143475722,51.51233004415931 L -0.12964177703023103,51.51213727569937 L -0.12967194828797013,51.511946527923634 L -0.12972037593953356,51.51175957931758 L -0.12978660845737813,51.51157817294414 L -0.1298700283057553,51.51140400019186 L -0.1299698576984629,51.511238685004734 L -0.1300851658507329,51.511083768741024 L -0.13021487765764034,51.51094069580197 L -0.13254687765764073,51.508605695801975 L -0.13269202829116444,51.50847395247362 L -0.13284937859390172,51.508357051262315 L -0.13301741701907469,51.50825611515063 L -0.1331945293471004,51.50817211375636 L -0.1333790141921917,51.50810585401814 L -0.13356909934629915,51.508057972443765 L -0.13376295880338945,51.50802892899573 L -0.1339587303005209,51.50801900267273 L -0.13415453320721196,51.50802828882956 L -0.1343484865912529,51.50805669826102 L -0.13453872728741517,51.50810395805896 L -0.13877572728741516,51.509379958058965 L -0.1389735839824585,51.509451085779084 L -0.13916288028044665,51.50954259171283 L -0.1393415241532616,51.509653464572665 L -0.13950754129919135,51.509782479035415 L -0.13965909696213655,51.50992820928407 L -0.14153409696213656,51.511931209284064 L -0.14166300710646,51.51208348099413 L -0.14177610484284117,51.51224783853433 L -0.1418722647215956,51.51242264636228 L -0.14195052984377396,51.512606164943485 L -0.142010121383382,51.51279656806164 L -0.14205044633757513,51.51299196099156 L -0.1420711034277036,51.51319039935384 L -0.14207188709248667,51.513389908463566 L -0.14205278953357825,51.51358850298071 L -0.14201400079317025,51.51378420666645 L -0.14161100079317027,51.51539220666645 L -0.14155565758076277,51.515575377175644 L -0.1414830630107327,51.51575242048955 L -0.14139388158304042,51.51592171602863 L -0.14128892962671996,51.516081714133186 L -0.14116916782754804,51.51623095024831 L -0.14103569243433303,51.516368058329775 L -0.14088972522431756,51.51649178334826 L -0.14073260231954676,51.516600992777306 L -0.14056576195657283,51.51669468696005 L -0.14039073132144647,51.51677200825961 L -0.1402091125705023,51.51683224890953 L -0.14002256816489836,51.51687485749241 L -0.13482556816489835,51.51780285749242 L -0.13462213292226466,51.51782850661502 L -0.1344171406628017,51.51783319159057 L -0.13421274604863986,51.51781686317554 L -0.1340110974600937,51.517779692996996 L -0.13381431441415667,51.517722071748594 L -0.13362446528637692,51.517644605084044 L -0.13344354557027827,51.5175481072511 L -0.13327345690283957,51.51743359253308 L -0.13311598707649533,51.51730226458774 L -0.13297279124775058,51.51715550379575 L -0.13189179124775058,51.515927503795744 L -0.13181818185250158,51.51583886163145 L -0.13005518185250156,51.513586861631445 z\" /></g></svg>"
      ],
      "text/plain": [
       "<shapely.geometry.polygon.Polygon at 0x7fe41a03c8d0>"
      ]
     },
     "execution_count": 18,
     "metadata": {},
     "output_type": "execute_result"
    }
   ],
   "source": [
    "convexhull_poly = Polygon([[p.x,p.y] for p in vertex_points]).buffer(.002)\n",
    "\n",
    "convexhull_poly"
   ]
  },
  {
   "cell_type": "markdown",
   "metadata": {},
   "source": [
    "### Convert convex hull polygon to Geopandas geodataframe"
   ]
  },
  {
   "cell_type": "code",
   "execution_count": 19,
   "metadata": {},
   "outputs": [],
   "source": [
    "import geopandas as gpd"
   ]
  },
  {
   "cell_type": "code",
   "execution_count": 20,
   "metadata": {},
   "outputs": [
    {
     "data": {
      "text/html": [
       "<div>\n",
       "<style scoped>\n",
       "    .dataframe tbody tr th:only-of-type {\n",
       "        vertical-align: middle;\n",
       "    }\n",
       "\n",
       "    .dataframe tbody tr th {\n",
       "        vertical-align: top;\n",
       "    }\n",
       "\n",
       "    .dataframe thead th {\n",
       "        text-align: right;\n",
       "    }\n",
       "</style>\n",
       "<table border=\"1\" class=\"dataframe\">\n",
       "  <thead>\n",
       "    <tr style=\"text-align: right;\">\n",
       "      <th></th>\n",
       "      <th>geometry</th>\n",
       "    </tr>\n",
       "  </thead>\n",
       "  <tbody>\n",
       "    <tr>\n",
       "      <th>0</th>\n",
       "      <td>POLYGON ((-0.1300551818525016 51.5135868616314...</td>\n",
       "    </tr>\n",
       "  </tbody>\n",
       "</table>\n",
       "</div>"
      ],
      "text/plain": [
       "                                            geometry\n",
       "0  POLYGON ((-0.1300551818525016 51.5135868616314..."
      ]
     },
     "execution_count": 20,
     "metadata": {},
     "output_type": "execute_result"
    }
   ],
   "source": [
    "crs = {'init': 'epsg:4326'}\n",
    "convexhull_gdf = gpd.GeoDataFrame(index=[0], crs=crs, geometry=[convexhull_poly])\n",
    "\n",
    "convexhull_gdf"
   ]
  },
  {
   "cell_type": "code",
   "execution_count": 21,
   "metadata": {},
   "outputs": [
    {
     "data": {
      "text/plain": [
       "<matplotlib.axes._subplots.AxesSubplot at 0x7fe41b39ee10>"
      ]
     },
     "execution_count": 21,
     "metadata": {},
     "output_type": "execute_result"
    },
    {
     "data": {
      "image/png": "[encoded data removed]",
      "text/plain": [
       "<Figure size 432x288 with 1 Axes>"
      ]
     },
     "metadata": {
      "needs_background": "light"
     },
     "output_type": "display_data"
    }
   ],
   "source": [
    "convexhull_gdf.plot(alpha=0.2, edgecolor='black',linewidth=2)"
   ]
  },
  {
   "cell_type": "markdown",
   "metadata": {},
   "source": [
    "### Save the convex hull polygon"
   ]
  },
  {
   "cell_type": "code",
   "execution_count": 22,
   "metadata": {},
   "outputs": [
    {
     "data": {
      "text/html": [
       "<div>\n",
       "<style scoped>\n",
       "    .dataframe tbody tr th:only-of-type {\n",
       "        vertical-align: middle;\n",
       "    }\n",
       "\n",
       "    .dataframe tbody tr th {\n",
       "        vertical-align: top;\n",
       "    }\n",
       "\n",
       "    .dataframe thead th {\n",
       "        text-align: right;\n",
       "    }\n",
       "</style>\n",
       "<table border=\"1\" class=\"dataframe\">\n",
       "  <thead>\n",
       "    <tr style=\"text-align: right;\">\n",
       "      <th></th>\n",
       "      <th>geometry</th>\n",
       "    </tr>\n",
       "  </thead>\n",
       "  <tbody>\n",
       "    <tr>\n",
       "      <th>0</th>\n",
       "      <td>POLYGON ((-0.1300551818525016 51.5135868616314...</td>\n",
       "    </tr>\n",
       "  </tbody>\n",
       "</table>\n",
       "</div>"
      ],
      "text/plain": [
       "                                            geometry\n",
       "0  POLYGON ((-0.1300551818525016 51.5135868616314..."
      ]
     },
     "execution_count": 22,
     "metadata": {},
     "output_type": "execute_result"
    }
   ],
   "source": [
    "convexhull_gdf.to_file('outputs/convexhull.shp')\n",
    "\n",
    "convexhull_gdf"
   ]
  },
  {
   "cell_type": "markdown",
   "metadata": {},
   "source": [
    "### Alternative method to display convex hull"
   ]
  },
  {
   "cell_type": "code",
   "execution_count": 23,
   "metadata": {},
   "outputs": [
    {
     "data": {
      "text/plain": [
       "[<matplotlib.lines.Line2D at 0x7fe40e368128>]"
      ]
     },
     "execution_count": 23,
     "metadata": {},
     "output_type": "execute_result"
    },
    {
     "data": {
      "image/png": "[encoded data removed]",
      "text/plain": [
       "<Figure size 432x288 with 1 Axes>"
      ]
     },
     "metadata": {
      "needs_background": "light"
     },
     "output_type": "display_data"
    }
   ],
   "source": [
    "x,y = convexhull_poly.exterior.xy\n",
    "plt.plot(x,y, color='gray')"
   ]
  },
  {
   "cell_type": "markdown",
   "metadata": {},
   "source": [
    "## Bring all the plots together"
   ]
  },
  {
   "cell_type": "markdown",
   "metadata": {},
   "source": [
    "### Plot pumps"
   ]
  },
  {
   "cell_type": "code",
   "execution_count": 24,
   "metadata": {},
   "outputs": [
    {
     "data": {
      "text/plain": [
       "[<matplotlib.lines.Line2D at 0x7fe40e347198>]"
      ]
     },
     "execution_count": 24,
     "metadata": {},
     "output_type": "execute_result"
    },
    {
     "data": {
      "image/png": "[encoded data removed]",
      "text/plain": [
       "<Figure size 432x288 with 1 Axes>"
      ]
     },
     "metadata": {
      "needs_background": "light"
     },
     "output_type": "display_data"
    }
   ],
   "source": [
    "plt.plot(points_pumps[:,1], points_pumps[:,0], 'o', color='red', )"
   ]
  },
  {
   "cell_type": "markdown",
   "metadata": {},
   "source": [
    "### Plot death locations"
   ]
  },
  {
   "cell_type": "code",
   "execution_count": 25,
   "metadata": {
    "scrolled": true
   },
   "outputs": [
    {
     "data": {
      "text/plain": [
       "[<matplotlib.lines.Line2D at 0x7fe40e2a4b38>]"
      ]
     },
     "execution_count": 25,
     "metadata": {},
     "output_type": "execute_result"
    },
    {
     "data": {
      "image/png": "[encoded data removed]",
      "text/plain": [
       "<Figure size 432x288 with 1 Axes>"
      ]
     },
     "metadata": {
      "needs_background": "light"
     },
     "output_type": "display_data"
    }
   ],
   "source": [
    "plt.plot(points_deaths[:,1], points_deaths[:,0], 'o')"
   ]
  },
  {
   "cell_type": "markdown",
   "metadata": {},
   "source": [
    "### Combined plots: Minimum Viable Product"
   ]
  },
  {
   "cell_type": "code",
   "execution_count": 26,
   "metadata": {},
   "outputs": [
    {
     "data": {
      "text/plain": [
       "Text(0.5, 1.0, 'Pumps and Deaths with Alpha Shape, Soho District')"
      ]
     },
     "execution_count": 26,
     "metadata": {},
     "output_type": "execute_result"
    },
    {
     "data": {
      "image/png": "[encoded data removed]",
      "text/plain": [
       "<Figure size 777.6x518.4 with 1 Axes>"
      ]
     },
     "metadata": {
      "needs_background": "light"
     },
     "output_type": "display_data"
    }
   ],
   "source": [
    "my_dpi=96\n",
    "\n",
    "fig, ax = plt.subplots(figsize=((432*1.8)/my_dpi, (288*1.8)/my_dpi), dpi=my_dpi)\n",
    "\n",
    "# plot death locations, color this grey\n",
    "ax.plot(points_deaths[:,1], points_deaths[:,0], 'o', color='grey')\n",
    "\n",
    "# plot pump locations, color this red\n",
    "ax.plot(points_pumps[:,1], points_pumps[:,0], 'o', color='red', )\n",
    "\n",
    "# plot convex hull polygon\n",
    "x,y = convexhull_poly.exterior.xy\n",
    "ax.plot(x,y, color='gray')\n",
    "\n",
    "# set title and axis labels\n",
    "ax.set_xlabel('Longitude')\n",
    "ax.set_ylabel('Latitude')\n",
    "ax.set_title('Pumps and Deaths with Alpha Shape, Soho District')"
   ]
  },
  {
   "cell_type": "markdown",
   "metadata": {},
   "source": [
    "With this Python approach, we know we can use the convex hull to constrain potential infinite vertices when computing Voronoi polygons."
   ]
  },
  {
   "cell_type": "markdown",
   "metadata": {},
   "source": [
    "## Alternative Method for Computing Convex Hull - `alphashape`"
   ]
  },
  {
   "cell_type": "markdown",
   "metadata": {},
   "source": [
    "See Notebook 3 for an alternative method to compute convex hull using the `alphashape` package."
   ]
  },
  {
   "cell_type": "markdown",
   "metadata": {},
   "source": [
    "## References"
   ]
  },
  {
   "cell_type": "markdown",
   "metadata": {},
   "source": [
    "1. Convex Hull Reference: https://docs.scipy.org/doc/scipy/reference/generated/scipy.spatial.ConvexHull.html\n",
    "2. Scipy Spatial Tutorial (includes convex hull): https://docs.scipy.org/doc/scipy/reference/tutorial/spatial.html\n",
    "3. https://docs.scipy.org/doc/scipy/reference/generated/scipy.spatial.convex_hull_plot_2d.html#scipy.spatial.convex_hull_plot_2d\n",
    "4. Numpy concatenate arrays: http://lagrange.univ-lyon1.fr/docs/numpy/1.11.0/reference/generated/numpy.concatenate.html"
   ]
  },
  {
   "cell_type": "code",
   "execution_count": null,
   "metadata": {},
   "outputs": [],
   "source": []
  }
 ],
 "metadata": {
  "kernelspec": {
   "display_name": "Python 3",
   "language": "python",
   "name": "python3"
  },
  "language_info": {
   "codemirror_mode": {
    "name": "ipython",
    "version": 3
   },
   "file_extension": ".py",
   "mimetype": "text/x-python",
   "name": "python",
   "nbconvert_exporter": "python",
   "pygments_lexer": "ipython3",
   "version": "3.6.7"
  }
 },
 "nbformat": 4,
 "nbformat_minor": 2
}
